{
  "cells": [
    {
      "cell_type": "markdown",
      "metadata": {},
      "source": [
        "# $\\textit{Punto 1 parte 2}$"
      ]
    },
    {
      "cell_type": "code",
      "execution_count": null,
      "metadata": {
        "id": "dwVVtwN0Wkor"
      },
      "outputs": [],
      "source": [
        "# Librerías para datos\n",
        "import pandas as pd\n",
        "import gdown\n",
        "import numpy as np\n",
        "\n",
        "from sklearn.experimental import enable_iterative_imputer\n",
        "from sklearn.impute import IterativeImputer, SimpleImputer\n",
        "\n",
        "import missingno as msno\n",
        "\n",
        "import seaborn as sns\n",
        "import matplotlib.pyplot as plt\n",
        "from scipy.stats import pearsonr, ks_2samp\n",
        "\n",
        "import pandas as pd\n",
        "from sklearn.impute import SimpleImputer\n",
        "import warnings\n",
        "warnings.filterwarnings('ignore')"
      ]
    },
    {
      "cell_type": "markdown",
      "metadata": {
        "id": "yBj4FfTQ867n"
      },
      "source": [
        "Contamos con dos dataframes que contienen los datos de prueba de nuestro modelo. Ambos contienen la misma información, pero analizaremos cuál de los dos es más adecuado para realizar la limpieza de los datos.\n"
      ]
    },
    {
      "cell_type": "code",
      "execution_count": null,
      "metadata": {
        "colab": {
          "base_uri": "https://localhost:8080/"
        },
        "id": "jFhtP30SW3dE",
        "outputId": "b6a936dd-33d5-4faf-c87b-cd86634e3dd1"
      },
      "outputs": [
        {
          "name": "stdout",
          "output_type": "stream",
          "text": [
            "           customer_ID        S_2       P_2      D_39       B_1       B_2  \\\n",
            "0  8717704911770597815 2019-02-19  0.631315  0.001912  0.010728  0.814497   \n",
            "1  8717704911770597815 2019-03-25  0.587042  0.005275  0.011026  0.810848   \n",
            "2  8717704911770597815 2019-04-25  0.609056  0.003326  0.016390  1.004620   \n",
            "3  8717704911770597815 2019-05-20  0.614911  0.009065  0.021672  0.816549   \n",
            "4  8717704911770597815 2019-06-15  0.591673  0.238794  0.015923  0.810456   \n",
            "\n",
            "        R_1       S_3      D_41       B_3  ...  D_136  D_137  D_138     D_139  \\\n",
            "0  0.007547  0.168651  0.009971  0.002347  ...    NaN    NaN    NaN       NaN   \n",
            "1  0.001817  0.241389  0.000166  0.009132  ...    NaN    NaN    NaN  0.000142   \n",
            "2  0.000114  0.266976  0.004196  0.004192  ...    NaN    NaN    NaN  0.000074   \n",
            "3  0.009722  0.188947  0.004123  0.015325  ...    NaN    NaN    NaN  0.004743   \n",
            "4  0.002026  0.180035  0.000731  0.011281  ...    NaN    NaN    NaN  0.008133   \n",
            "\n",
            "      D_140     D_141  D_142     D_143     D_144     D_145  \n",
            "0  0.004669       NaN    NaN       NaN  0.008281       NaN  \n",
            "1  0.004940  0.009021    NaN  0.003695  0.003753  0.001460  \n",
            "2  0.002114  0.004656    NaN  0.003155  0.002156  0.006482  \n",
            "3  0.006392  0.002890    NaN  0.006044  0.005206  0.007855  \n",
            "4  0.004329  0.008384    NaN  0.001008  0.007421  0.009471  \n",
            "\n",
            "[5 rows x 190 columns]\n"
          ]
        }
      ],
      "source": [
        "test32_data = pd.read_feather('/content/drive/My Drive/test_data_jq_f32.ftr')\n",
        "\n",
        "print(test32_data.head())"
      ]
    },
    {
      "cell_type": "markdown",
      "metadata": {
        "id": "aO4fSXMMYvE2"
      },
      "source": [
        "***RESPUESTA CODIGO:***\n",
        "\n",
        "\n",
        "```\n",
        "           customer_ID        S_2       P_2      D_39       B_1       B_2  \\\n",
        "0  8717704911770597815 2019-02-19  0.631315  0.001912  0.010728  0.814497   \n",
        "1  8717704911770597815 2019-03-25  0.587042  0.005275  0.011026  0.810848   \n",
        "2  8717704911770597815 2019-04-25  0.609056  0.003326  0.016390  1.004620   \n",
        "3  8717704911770597815 2019-05-20  0.614911  0.009065  0.021672  0.816549   \n",
        "4  8717704911770597815 2019-06-15  0.591673  0.238794  0.015923  0.810456   \n",
        "\n",
        "        R_1       S_3      D_41       B_3  ...  D_136  D_137  D_138     D_139  \\\n",
        "0  0.007547  0.168651  0.009971  0.002347  ...    NaN    NaN    NaN       NaN   \n",
        "1  0.001817  0.241389  0.000166  0.009132  ...    NaN    NaN    NaN  0.000142   \n",
        "2  0.000114  0.266976  0.004196  0.004192  ...    NaN    NaN    NaN  0.000074   \n",
        "3  0.009722  0.188947  0.004123  0.015325  ...    NaN    NaN    NaN  0.004743   \n",
        "4  0.002026  0.180035  0.000731  0.011281  ...    NaN    NaN    NaN  0.008133   \n",
        "\n",
        "      D_140     D_141  D_142     D_143     D_144     D_145  \n",
        "0  0.004669       NaN    NaN       NaN  0.008281       NaN  \n",
        "1  0.004940  0.009021    NaN  0.003695  0.003753  0.001460  \n",
        "2  0.002114  0.004656    NaN  0.003155  0.002156  0.006482  \n",
        "3  0.006392  0.002890    NaN  0.006044  0.005206  0.007855  \n",
        "4  0.004329  0.008384    NaN  0.001008  0.007421  0.009471  \n",
        "\n",
        "[5 rows x 190 columns]\n",
        "```\n",
        "\n"
      ]
    },
    {
      "cell_type": "markdown",
      "metadata": {
        "id": "sqMnk_KBCR05"
      },
      "source": [
        "$\\textit{Análisis de las variables del DataFrame 32ft}$"
      ]
    },
    {
      "cell_type": "code",
      "execution_count": null,
      "metadata": {
        "colab": {
          "base_uri": "https://localhost:8080/"
        },
        "id": "qxZbRnqsXvr4",
        "outputId": "f161bf3f-b644-41d7-8c73-4f9af2125107"
      },
      "outputs": [
        {
          "name": "stdout",
          "output_type": "stream",
          "text": [
            "Descripción de tipos de variables:\n",
            "customer_ID          category\n",
            "S_2            datetime64[ns]\n",
            "P_2                   float32\n",
            "D_39                  float32\n",
            "B_1                   float32\n",
            "                    ...      \n",
            "D_141                 float32\n",
            "D_142                 float32\n",
            "D_143                 float32\n",
            "D_144                 float32\n",
            "D_145                 float32\n",
            "Length: 190, dtype: object\n",
            "\n",
            "Información general del DataFrame:\n",
            "<class 'pandas.core.frame.DataFrame'>\n",
            "RangeIndex: 11363762 entries, 0 to 11363761\n",
            "Columns: 190 entries, customer_ID to D_145\n",
            "dtypes: category(12), datetime64[ns](1), float32(177)\n",
            "memory usage: 7.8 GB\n"
          ]
        }
      ],
      "source": [
        "print(\"Descripción de tipos de variables:\")\n",
        "print(test32_data.dtypes)\n",
        "\n",
        "print(\"\\nInformación general del DataFrame:\")\n",
        "test32_data.info()"
      ]
    },
    {
      "cell_type": "markdown",
      "metadata": {
        "id": "mF3HHQxeYzK-"
      },
      "source": [
        "***RESPUESTA CODIGO:***\n",
        "\n",
        "```\n",
        "Descripción de tipos de variables:\n",
        "customer_ID          category\n",
        "S_2            datetime64[ns]\n",
        "P_2                   float32\n",
        "D_39                  float32\n",
        "B_1                   float32\n",
        "                    ...      \n",
        "D_141                 float32\n",
        "D_142                 float32\n",
        "D_143                 float32\n",
        "D_144                 float32\n",
        "D_145                 float32\n",
        "Length: 190, dtype: object\n",
        "\n",
        "Información general del DataFrame:\n",
        "<class 'pandas.core.frame.DataFrame'>\n",
        "RangeIndex: 11363762 entries, 0 to 11363761\n",
        "Columns: 190 entries, customer_ID to D_145\n",
        "dtypes: category(12), datetime64[ns](1), float32(177)\n",
        "memory usage: 7.8 GB\n",
        "```\n",
        "\n"
      ]
    },
    {
      "cell_type": "markdown",
      "metadata": {
        "id": "DDwTPjiuCP6C"
      },
      "source": [
        "\n",
        "El DataFrame contiene un total de **190 columnas** y **11,363,762 registros**:\n",
        "\n",
        "- **Categoría (`category`)**: 12 columnas son categóricas, incluyendo `customer_ID`.\n",
        "- **Fecha y hora (`datetime64[ns]`)**: 1 columna (S_2) almacena datos de tipo fecha y hora.\n",
        "- **Variables numéricas (`float32`)**: 177 columnas están compuestas por datos numéricos en formato `float32`.\n",
        "\n",
        "El uso de memoria total del DataFrame es de **7.8 GB**, lo que sugiere un manejo eficiente de la memoria al utilizar.\n",
        "\n"
      ]
    },
    {
      "cell_type": "code",
      "execution_count": null,
      "metadata": {
        "colab": {
          "base_uri": "https://localhost:8080/"
        },
        "id": "EAt_cNReXDR2",
        "outputId": "10ab2c68-2e09-4e0d-fc19-3aaf830f2bd8"
      },
      "outputs": [
        {
          "name": "stdout",
          "output_type": "stream",
          "text": [
            "                                         customer_ID        S_2       P_2  \\\n",
            "0  00000469ba478561f23a92a868bd366de6f6527a684c9a... 2019-02-19  0.631348   \n",
            "1  00000469ba478561f23a92a868bd366de6f6527a684c9a... 2019-03-25  0.586914   \n",
            "2  00000469ba478561f23a92a868bd366de6f6527a684c9a... 2019-04-25  0.608887   \n",
            "3  00000469ba478561f23a92a868bd366de6f6527a684c9a... 2019-05-20  0.614746   \n",
            "4  00000469ba478561f23a92a868bd366de6f6527a684c9a... 2019-06-15  0.591797   \n",
            "\n",
            "       D_39       B_1       B_2       R_1       S_3      D_41       B_3  ...  \\\n",
            "0  0.001912  0.010727  0.814453  0.007545  0.168701  0.009972  0.002348  ...   \n",
            "1  0.005276  0.011024  0.811035  0.001817  0.241333  0.000166  0.009132  ...   \n",
            "2  0.003326  0.016388  1.004883  0.000114  0.267090  0.004196  0.004192  ...   \n",
            "3  0.009064  0.021667  0.816406  0.009720  0.188965  0.004124  0.015327  ...   \n",
            "4  0.238770  0.015930  0.810547  0.002026  0.180054  0.000731  0.011284  ...   \n",
            "\n",
            "   D_136  D_137  D_138     D_139     D_140     D_141  D_142     D_143  \\\n",
            "0    NaN    NaN    NaN       NaN  0.004669       NaN    NaN       NaN   \n",
            "1    NaN    NaN    NaN  0.000142  0.004940  0.009018    NaN  0.003695   \n",
            "2    NaN    NaN    NaN  0.000074  0.002113  0.004658    NaN  0.003155   \n",
            "3    NaN    NaN    NaN  0.004742  0.006393  0.002890    NaN  0.006042   \n",
            "4    NaN    NaN    NaN  0.008133  0.004330  0.008385    NaN  0.001008   \n",
            "\n",
            "      D_144     D_145  \n",
            "0  0.008278       NaN  \n",
            "1  0.003754  0.001460  \n",
            "2  0.002155  0.006481  \n",
            "3  0.005207  0.007858  \n",
            "4  0.007420  0.009468  \n",
            "\n",
            "[5 rows x 190 columns]\n"
          ]
        }
      ],
      "source": [
        "testft_data = pd.read_feather('/content/drive/My Drive/test_data_jq.ftr')\n",
        "\n",
        "print(testft_data.head())"
      ]
    },
    {
      "cell_type": "markdown",
      "metadata": {
        "id": "wpltXYwbY_5t"
      },
      "source": [
        "***RESPUESTA CODIGO:***\n",
        "\n",
        "```\n",
        "                                         customer_ID        S_2       P_2  \\\n",
        "0  00000469ba478561f23a92a868bd366de6f6527a684c9a... 2019-02-19  0.631348   \n",
        "1  00000469ba478561f23a92a868bd366de6f6527a684c9a... 2019-03-25  0.586914   \n",
        "2  00000469ba478561f23a92a868bd366de6f6527a684c9a... 2019-04-25  0.608887   \n",
        "3  00000469ba478561f23a92a868bd366de6f6527a684c9a... 2019-05-20  0.614746   \n",
        "4  00000469ba478561f23a92a868bd366de6f6527a684c9a... 2019-06-15  0.591797   \n",
        "\n",
        "       D_39       B_1       B_2       R_1       S_3      D_41       B_3  ...  \\\n",
        "0  0.001912  0.010727  0.814453  0.007545  0.168701  0.009972  0.002348  ...   \n",
        "1  0.005276  0.011024  0.811035  0.001817  0.241333  0.000166  0.009132  ...   \n",
        "2  0.003326  0.016388  1.004883  0.000114  0.267090  0.004196  0.004192  ...   \n",
        "3  0.009064  0.021667  0.816406  0.009720  0.188965  0.004124  0.015327  ...   \n",
        "4  0.238770  0.015930  0.810547  0.002026  0.180054  0.000731  0.011284  ...   \n",
        "\n",
        "   D_136  D_137  D_138     D_139     D_140     D_141  D_142     D_143  \\\n",
        "0    NaN    NaN    NaN       NaN  0.004669       NaN    NaN       NaN   \n",
        "1    NaN    NaN    NaN  0.000142  0.004940  0.009018    NaN  0.003695   \n",
        "2    NaN    NaN    NaN  0.000074  0.002113  0.004658    NaN  0.003155   \n",
        "3    NaN    NaN    NaN  0.004742  0.006393  0.002890    NaN  0.006042   \n",
        "4    NaN    NaN    NaN  0.008133  0.004330  0.008385    NaN  0.001008   \n",
        "\n",
        "      D_144     D_145  \n",
        "0  0.008278       NaN  \n",
        "1  0.003754  0.001460  \n",
        "2  0.002155  0.006481  \n",
        "3  0.005207  0.007858  \n",
        "4  0.007420  0.009468  \n",
        "\n",
        "[5 rows x 190 columns]\n",
        "```\n",
        "\n"
      ]
    },
    {
      "cell_type": "markdown",
      "metadata": {
        "id": "t-oovjKqC-2Y"
      },
      "source": [
        "## $\\textit{Análisis de las variables del DataFrame 16ft}$"
      ]
    },
    {
      "cell_type": "code",
      "execution_count": null,
      "metadata": {
        "colab": {
          "base_uri": "https://localhost:8080/"
        },
        "id": "uL3Q8WS7YHu-",
        "outputId": "cbee7b31-625e-4aad-ed7e-0487b24f4fb8"
      },
      "outputs": [
        {
          "name": "stdout",
          "output_type": "stream",
          "text": [
            "Descripción de tipos de variables:\n",
            "customer_ID            object\n",
            "S_2            datetime64[ns]\n",
            "P_2                   float16\n",
            "D_39                  float16\n",
            "B_1                   float16\n",
            "                    ...      \n",
            "D_141                 float16\n",
            "D_142                 float16\n",
            "D_143                 float16\n",
            "D_144                 float16\n",
            "D_145                 float16\n",
            "Length: 190, dtype: object\n",
            "\n",
            "Información general del DataFrame:\n",
            "<class 'pandas.core.frame.DataFrame'>\n",
            "RangeIndex: 11363762 entries, 0 to 11363761\n",
            "Columns: 190 entries, customer_ID to D_145\n",
            "dtypes: category(11), datetime64[ns](1), float16(177), object(1)\n",
            "memory usage: 4.0+ GB\n"
          ]
        }
      ],
      "source": [
        "print(\"Descripción de tipos de variables:\")\n",
        "print(testft_data.dtypes)eaFrame:\")\n",
        "testft_data.info()"
      ]
    },
    {
      "cell_type": "markdown",
      "metadata": {
        "id": "mVbsSOrSZEX3"
      },
      "source": [
        "***RESPUESTA CODIGO:***\n",
        "\n",
        "```\n",
        "Descripción de tipos de variables:\n",
        "customer_ID            object\n",
        "S_2            datetime64[ns]\n",
        "P_2                   float16\n",
        "D_39                  float16\n",
        "B_1                   float16\n",
        "                    ...      \n",
        "D_141                 float16\n",
        "D_142                 float16\n",
        "D_143                 float16\n",
        "D_144                 float16\n",
        "D_145                 float16\n",
        "Length: 190, dtype: object\n",
        "\n",
        "Información general del DataFrame:\n",
        "<class 'pandas.core.frame.DataFrame'>\n",
        "RangeIndex: 11363762 entries, 0 to 11363761\n",
        "Columns: 190 entries, customer_ID to D_145\n",
        "dtypes: category(11), datetime64[ns](1), float16(177), object(1)\n",
        "memory usage: 4.0+ GB\n",
        "```\n",
        "\n"
      ]
    },
    {
      "cell_type": "markdown",
      "metadata": {
        "id": "fCbQdO7kC9Z1"
      },
      "source": [
        "\n",
        "\n",
        "El DataFrame tiene **190 columnas** y **11,363,762 registros**:\n",
        "\n",
        "- **Categoría (`category`)**: 11 columnas son categóricas.\n",
        "- **Fecha y hora (`datetime64[ns]`)**: 1 columna (S_2) almacena datos de tipo fecha y hora.\n",
        "- **Variables numéricas (`float16`)**: 177 columnas contienen datos numéricos en formato `float16`, que ocupa menos memoria que `float32` o `float64`.\n",
        "- **Texto (`object`)**: 1 columna (`customer_ID`) almacena datos de tipo texto.\n",
        "\n",
        "El uso de memoria total es de **4.0 GB**, lo que indica una optimización significativa en el manejo de la memoria.\n"
      ]
    },
    {
      "cell_type": "code",
      "execution_count": null,
      "metadata": {
        "colab": {
          "base_uri": "https://localhost:8080/"
        },
        "id": "iWh2VGOvYkTt",
        "outputId": "8e7e5371-1f18-407e-e353-85a47811aa36"
      },
      "outputs": [
        {
          "name": "stdout",
          "output_type": "stream",
          "text": [
            "Index(['customer_ID', 'fecha', 'P_2', 'D_39', 'B_1', 'B_2', 'R_1', 'S_3',\n",
            "       'D_41', 'B_3',\n",
            "       ...\n",
            "       'D_136', 'D_137', 'D_138', 'D_139', 'D_140', 'D_141', 'D_142', 'D_143',\n",
            "       'D_144', 'D_145'],\n",
            "      dtype='object', length=190)\n"
          ]
        }
      ],
      "source": [
        "# Cambiar el nombre de la variable S_2 a 'fecha'\n",
        "testft_data.rename(columns={'S_2': 'fecha'}, inplace=True)\n",
        "\n",
        "# Verificar el cambio\n",
        "print(testft_data.columns)"
      ]
    },
    {
      "cell_type": "markdown",
      "metadata": {
        "id": "njDwFi4Zao1m"
      },
      "source": [
        "***RESPUESTA CODIGO:***\n",
        "\n",
        "```\n",
        "Index(['customer_ID', 'fecha', 'P_2', 'D_39', 'B_1', 'B_2', 'R_1', 'S_3',\n",
        "       'D_41', 'B_3',\n",
        "       ...\n",
        "       'D_136', 'D_137', 'D_138', 'D_139', 'D_140', 'D_141', 'D_142', 'D_143',\n",
        "       'D_144', 'D_145'],\n",
        "      dtype='object', length=190)\n",
        "```\n",
        "\n"
      ]
    },
    {
      "cell_type": "markdown",
      "metadata": {
        "id": "EiQQa-XbELfF"
      },
      "source": [
        "Para nuestro análisis, escogeremos el DataFrame que utiliza `float16`, ya que su carga de memoria es de 4.0 GB, significativamente menor en comparación con el otro DataFrame que utiliza 7.8 GB.\n"
      ]
    },
    {
      "cell_type": "markdown",
      "metadata": {
        "id": "nsmPtiukEKIY"
      },
      "source": [
        "## $\\textit{Análisis del DataFrame}$"
      ]
    },
    {
      "cell_type": "code",
      "execution_count": null,
      "metadata": {
        "colab": {
          "base_uri": "https://localhost:8080/"
        },
        "id": "mY97mj4IY56B",
        "outputId": "dc5e1402-4997-4cb2-925a-0c8325bd0c72"
      },
      "outputs": [
        {
          "name": "stdout",
          "output_type": "stream",
          "text": [
            "<class 'pandas.core.frame.DataFrame'>\n",
            "RangeIndex: 11363762 entries, 0 to 11363761\n",
            "Columns: 190 entries, customer_ID to D_145\n",
            "dtypes: category(11), datetime64[ns](1), float16(177), object(1)\n",
            "memory usage: 4.0+ GB\n"
          ]
        }
      ],
      "source": [
        "testft_data.info()"
      ]
    },
    {
      "cell_type": "markdown",
      "metadata": {
        "id": "2V7xEKClawlK"
      },
      "source": [
        "***RESPUESTA CODIGO:***\n",
        "\n",
        "```\n",
        "<class 'pandas.core.frame.DataFrame'>\n",
        "RangeIndex: 11363762 entries, 0 to 11363761\n",
        "Columns: 190 entries, customer_ID to D_145\n",
        "dtypes: category(11), datetime64[ns](1), float16(177), object(1)\n",
        "memory usage: 4.0+ GB\n",
        "```\n",
        "\n"
      ]
    },
    {
      "cell_type": "markdown",
      "metadata": {
        "id": "nz6zVoG3E7I0"
      },
      "source": [
        "**Separando las variables que deben tomarse como categóricas.**"
      ]
    },
    {
      "cell_type": "code",
      "execution_count": null,
      "metadata": {
        "colab": {
          "base_uri": "https://localhost:8080/"
        },
        "id": "pkSxS_0PY-Cn",
        "outputId": "37460bbc-2b15-4550-a13c-cb80587536dd"
      },
      "outputs": [
        {
          "name": "stdout",
          "output_type": "stream",
          "text": [
            "<class 'pandas.core.frame.DataFrame'>\n",
            "RangeIndex: 11363762 entries, 0 to 11363761\n",
            "Columns: 190 entries, customer_ID to D_145\n",
            "dtypes: category(11), datetime64[ns](1), float16(177), object(1)\n",
            "memory usage: 4.0+ GB\n"
          ]
        }
      ],
      "source": [
        "# Lista de variables que deben ser categóricas\n",
        "categorical_vars = ['B_30', 'B_38', 'D_114', 'D_116', 'D_117', 'D_120', 'D_126', 'D_66', 'D_68']\n",
        "\n",
        "# Convertir las variables a categóricas\n",
        "for var in categorical_vars:\n",
        "    testft_data[var] = testft_data[var].astype('category')\n",
        "\n",
        "# Verificar los tipos de datos después de la conversión\n",
        "testft_data.info()"
      ]
    },
    {
      "cell_type": "markdown",
      "metadata": {
        "id": "xSuHXzIWa1Qn"
      },
      "source": [
        "***RESPUESTA CODIGO:***\n",
        "\n",
        "```\n",
        "<class 'pandas.core.frame.DataFrame'>\n",
        "RangeIndex: 11363762 entries, 0 to 11363761\n",
        "Columns: 190 entries, customer_ID to D_145\n",
        "dtypes: category(11), datetime64[ns](1), float16(177), object(1)\n",
        "memory usage: 4.0+ GB\n",
        "```\n",
        "\n"
      ]
    },
    {
      "cell_type": "markdown",
      "metadata": {
        "id": "5MM9hXCAE-pC"
      },
      "source": [
        "## $\\textit{Análisis de Categorías}$"
      ]
    },
    {
      "cell_type": "code",
      "execution_count": null,
      "metadata": {
        "colab": {
          "base_uri": "https://localhost:8080/"
        },
        "id": "N557OTfgZEnN",
        "outputId": "f1785de1-e00f-4764-e84a-c6586ff0b253"
      },
      "outputs": [
        {
          "name": "stdout",
          "output_type": "stream",
          "text": [
            "Categorías de B_30: [0.0, 1.0, 2.0]\n",
            "Categorías de B_38: [1.0, 2.0, 3.0, 4.0, 5.0, 6.0, 7.0]\n",
            "Categorías de D_114: [0.0, 1.0]\n",
            "Categorías de D_116: [0.0, 1.0]\n",
            "Categorías de D_117: [-1.0, 1.0, 2.0, 3.0, 4.0, 5.0, 6.0]\n",
            "Categorías de D_120: [0.0, 1.0]\n",
            "Categorías de D_126: [-1.0, 0.0, 1.0]\n",
            "Categorías de D_66: [1.0]\n",
            "Categorías de D_68: [1.0, 2.0, 3.0, 4.0, 5.0, 6.0]\n"
          ]
        }
      ],
      "source": [
        "# Verificar y mostrar las categorías de cada variable categórica, excluyendo NA\n",
        "for var in categorical_vars:\n",
        "    if var in testft_data.columns:\n",
        "        categories = testft_data[var].cat.categories.dropna()  # Excluir NA de las categorías\n",
        "        print(f\"Categorías de {var}: {list(categories)}\")\n",
        "    else:\n",
        "        print(f\"La variable {var} no está en el DataFrame.\")"
      ]
    },
    {
      "cell_type": "markdown",
      "metadata": {
        "id": "9aLvHaMga6eO"
      },
      "source": [
        "***RESPUESTA CODIGO:***\n",
        "\n",
        "```\n",
        "Categorías de B_30: [0.0, 1.0, 2.0]\n",
        "Categorías de B_38: [1.0, 2.0, 3.0, 4.0, 5.0, 6.0, 7.0]\n",
        "Categorías de D_114: [0.0, 1.0]\n",
        "Categorías de D_116: [0.0, 1.0]\n",
        "Categorías de D_117: [-1.0, 1.0, 2.0, 3.0, 4.0, 5.0, 6.0]\n",
        "Categorías de D_120: [0.0, 1.0]\n",
        "Categorías de D_126: [-1.0, 0.0, 1.0]\n",
        "Categorías de D_66: [1.0]\n",
        "Categorías de D_68: [1.0, 2.0, 3.0, 4.0, 5.0, 6.0]\n",
        "```\n",
        "\n"
      ]
    },
    {
      "cell_type": "markdown",
      "metadata": {
        "id": "zEhieiM5Ff8U"
      },
      "source": [
        "1. **B_30**:\n",
        "   - **Categorías**: [0.0, 1.0, 2.0]\n",
        "   - **Interpretación**: Esta variable parece representar un estado con tres opciones, posiblemente una escala con una opción adicional o un estado intermedio.\n",
        "\n",
        "2. **B_38**:\n",
        "   - **Categorías**: [1.0, 2.0, 3.0, 4.0, 5.0, 6.0, 7.0]\n",
        "   - **Interpretación**: Contiene múltiples categorías, lo que sugiere un rango amplio de opciones. Podría estar relacionado con una clasificación ordinal, como niveles de satisfacción o frecuencia.\n",
        "\n",
        "3. **D_114**:\n",
        "   - **Categorías**: [0.0, 1.0]\n",
        "   - **Interpretación**: Esta variable parece ser dicotómica, indicando dos estados posibles, como activado/desactivado o presencia/ausencia.\n",
        "\n",
        "4. **D_116**:\n",
        "   - **Categorías**: [0.0, 1.0]\n",
        "   - **Interpretación**: Al igual que D_114, sugiere una variable binaria, posiblemente relacionada con una decisión o condición activa/inactiva.\n",
        "\n",
        "5. **D_117**:\n",
        "   - **Categorías**: [-1.0, 1.0, 2.0, 3.0, 4.0, 5.0, 6.0]\n",
        "   - **Interpretación**: El valor negativo (-1.0) podría indicar una no respuesta o estado no aplicable, mientras que el resto de los valores sugieren una escala ordenada con varios niveles.\n",
        "\n",
        "6. **D_120**:\n",
        "   - **Categorías**: [0.0, 1.0]\n",
        "   - **Interpretación**: Esta variable binaria puede representar una condición o estado, como habilitado/deshabilitado.\n",
        "\n",
        "7. **D_126**:\n",
        "   - **Categorías**: [-1.0, 0.0, 1.0]\n",
        "   - **Interpretación**: El valor -1 podría significar un estado de no respuesta o excepción, mientras que 0 y 1 representan estados opuestos, posiblemente sí/no.\n",
        "\n",
        "8. **D_66**:\n",
        "   - **Categorías**: [1.0]\n",
        "   - **Interpretación**: Solo hay una categoría presente, lo que podría significar que esta variable tiene un valor fijo en todos los casos o que representa una condición constante.\n",
        "\n",
        "9. **D_68**:\n",
        "   - **Categorías**: [1.0, 2.0, 3.0, 4.0, 5.0, 6.0]\n",
        "   - **Interpretación**: Esta variable tiene múltiples niveles, lo que sugiere una escala o clasificación, posiblemente indicando grados en una medida o niveles de una característica.\n"
      ]
    },
    {
      "cell_type": "code",
      "execution_count": null,
      "metadata": {
        "colab": {
          "base_uri": "https://localhost:8080/"
        },
        "id": "pbz5HT9OZNnQ",
        "outputId": "f1a8b087-8051-431a-9804-f164a579a528"
      },
      "outputs": [
        {
          "name": "stdout",
          "output_type": "stream",
          "text": [
            "Número de variables D_*: 96\n",
            "Número de variables S_*: 21\n",
            "Número de variables P_*: 3\n",
            "Número de variables B_*: 40\n",
            "Número de variables R_*: 28\n"
          ]
        }
      ],
      "source": [
        "d_cou = len([col for col in testft_data.columns if col.startswith('D_')])\n",
        "s_cou = len([col for col in testft_data.columns if col.startswith('S_')])\n",
        "p_cou = len([col for col in testft_data.columns if col.startswith('P_')])\n",
        "b_cou = len([col for col in testft_data.columns if col.startswith('B_')])\n",
        "r_cou = len([col for col in testft_data.columns if col.startswith('R_')])\n",
        "\n",
        "\n",
        "print(f\"Número de variables D_*: {d_cou}\")\n",
        "print(f\"Número de variables S_*: {s_cou}\")\n",
        "print(f\"Número de variables P_*: {p_cou}\")\n",
        "print(f\"Número de variables B_*: {b_cou}\")\n",
        "print(f\"Número de variables R_*: {r_cou}\")"
      ]
    },
    {
      "cell_type": "markdown",
      "metadata": {
        "id": "EK0XqOv2a_Yn"
      },
      "source": [
        "***RESPUESTA CODIGO:***\n",
        "\n",
        "```\n",
        "Número de variables D_*: 96\n",
        "Número de variables S_*: 21\n",
        "Número de variables P_*: 3\n",
        "Número de variables B_*: 40\n",
        "Número de variables R_*: 28\n",
        "```\n",
        "\n"
      ]
    },
    {
      "cell_type": "markdown",
      "metadata": {
        "id": "liu-sD_aFj_7"
      },
      "source": [
        "## $\\textit{Analisis de datos faltantes (NA'S)}$"
      ]
    },
    {
      "cell_type": "code",
      "execution_count": null,
      "metadata": {
        "colab": {
          "base_uri": "https://localhost:8080/"
        },
        "id": "PqDIKPpyZhv2",
        "outputId": "e099b492-5d4c-462d-d590-29add142bd90"
      },
      "outputs": [
        {
          "name": "stdout",
          "output_type": "stream",
          "text": [
            "       Datos Faltantes  Porcentaje (%)\n",
            "D_87          11352790       99.903447\n",
            "D_88          11352497       99.900869\n",
            "D_108         11295987       99.403587\n",
            "D_111         11247468       98.976624\n",
            "D_110         11247468       98.976624\n",
            "...                ...             ...\n",
            "R_15                 0        0.000000\n",
            "D_93                 0        0.000000\n",
            "D_92                 0        0.000000\n",
            "B_23                 0        0.000000\n",
            "B_31                 0        0.000000\n",
            "\n",
            "[190 rows x 2 columns]\n"
          ]
        }
      ],
      "source": [
        "# Contar los datos faltantes por columna\n",
        "missing_values_count = testft_data.isnull().sum()\n",
        "\n",
        "# Calcular el porcentaje de datos faltantes por columna\n",
        "total_rows = testft_data.shape[0]\n",
        "missing_percentage = (missing_values_count / total_rows) * 100\n",
        "\n",
        "# Crear un DataFrame para mostrar el conteo y porcentaje\n",
        "missing_data_summary = pd.DataFrame({\n",
        "    'Datos Faltantes': missing_values_count,\n",
        "    'Porcentaje (%)': missing_percentage\n",
        "})\n",
        "\n",
        "# Ordenar el DataFrame por el conteo de datos faltantes en orden descendente\n",
        "missing_data_summary = missing_data_summary.sort_values(by='Datos Faltantes', ascending=False)\n",
        "\n",
        "print(missing_data_summary)"
      ]
    },
    {
      "cell_type": "markdown",
      "metadata": {
        "id": "wwzbcSMObE93"
      },
      "source": [
        "***RESPUESTA CODIGO:***\n",
        "\n",
        "```\n",
        "       Datos Faltantes  Porcentaje (%)\n",
        "D_87          11352790       99.903447\n",
        "D_88          11352497       99.900869\n",
        "D_108         11295987       99.403587\n",
        "D_111         11247468       98.976624\n",
        "D_110         11247468       98.976624\n",
        "...                ...             ...\n",
        "R_15                 0        0.000000\n",
        "D_93                 0        0.000000\n",
        "D_92                 0        0.000000\n",
        "B_23                 0        0.000000\n",
        "B_31                 0        0.000000\n",
        "\n",
        "[190 rows x 2 columns]\n",
        "```\n",
        "\n"
      ]
    },
    {
      "cell_type": "markdown",
      "metadata": {
        "id": "pqe_NILSFnhe"
      },
      "source": [
        "Observamos que los resultados indican que existen datos NA's, y lo que podemos observar es que hay una gran cantidad. Procederemos a tomar los datos que tengan un 50% o más de valores faltantes para realizar una limpieza con ellos."
      ]
    },
    {
      "cell_type": "code",
      "execution_count": null,
      "metadata": {
        "colab": {
          "base_uri": "https://localhost:8080/"
        },
        "id": "11Dx47xKZn0I",
        "outputId": "a359af13-33d2-470b-ed3c-cc1fc293c0f8"
      },
      "outputs": [
        {
          "name": "stdout",
          "output_type": "stream",
          "text": [
            "1: D_87, Datos F: 11352790, (%): 99.90\n",
            "2: D_88, Datos F: 11352497, (%): 99.90\n",
            "3: D_108, Datos F: 11295987, (%): 99.40\n",
            "4: D_111, Datos F: 11247468, (%): 98.98\n",
            "5: D_110, Datos F: 11247468, (%): 98.98\n",
            "6: B_39, Datos F: 11226171, (%): 98.79\n",
            "7: D_73, Datos F: 11214185, (%): 98.68\n",
            "8: B_42, Datos F: 11162444, (%): 98.23\n",
            "9: D_134, Datos F: 11001717, (%): 96.81\n",
            "10: D_135, Datos F: 11001717, (%): 96.81\n",
            "11: D_136, Datos F: 11001717, (%): 96.81\n",
            "12: D_138, Datos F: 11001717, (%): 96.81\n",
            "13: D_137, Datos F: 11001717, (%): 96.81\n",
            "14: R_9, Datos F: 10788361, (%): 94.94\n",
            "15: D_76, Datos F: 10172788, (%): 89.52\n",
            "16: D_66, Datos F: 10013928, (%): 88.12\n",
            "17: D_106, Datos F: 10011090, (%): 88.10\n",
            "18: D_132, Datos F: 10008918, (%): 88.08\n",
            "19: D_49, Datos F: 10006862, (%): 88.06\n",
            "20: D_42, Datos F: 10006179, (%): 88.05\n",
            "21: R_26, Datos F: 9773216, (%): 86.00\n",
            "22: D_142, Datos F: 9396967, (%): 82.69\n",
            "23: B_29, Datos F: 8527163, (%): 75.04\n",
            "24: D_82, Datos F: 8452621, (%): 74.38\n",
            "25: D_53, Datos F: 8378975, (%): 73.73\n",
            "26: D_50, Datos F: 6482746, (%): 57.05\n",
            "27: B_17, Datos F: 6126180, (%): 53.91\n",
            "28: D_105, Datos F: 6068201, (%): 53.40\n",
            "29: D_56, Datos F: 5712708, (%): 50.27\n"
          ]
        }
      ],
      "source": [
        "# Filtrar columnas con 50% o más de datos faltantes\n",
        "missing_over_50 = missing_data_summary[missing_data_summary['Porcentaje (%)'] >= 50]\n",
        "\n",
        "# Ordenar los resultados por porcentaje en orden descendente\n",
        "missing_over_50 = missing_over_50.sort_values(by='Porcentaje (%)', ascending=False)\n",
        "\n",
        "for index, variable in enumerate(missing_over_50.index, start=1):\n",
        "    # Extraer los datos faltantes y el porcentaje de cada variable\n",
        "    datos_faltantes = missing_over_50.loc[variable, 'Datos Faltantes']\n",
        "    porcentaje = missing_over_50.loc[variable, 'Porcentaje (%)']\n",
        "\n",
        "    print(f\"{index}: {variable}, Datos F: {datos_faltantes}, (%): {porcentaje:.2f}\")\n",
        "\n"
      ]
    },
    {
      "cell_type": "markdown",
      "metadata": {
        "id": "LsGyi6klbI_t"
      },
      "source": [
        "***RESPUESTA CODIGO:***\n",
        "\n",
        "```\n",
        "1: D_87, Datos F: 11352790, (%): 99.90\n",
        "2: D_88, Datos F: 11352497, (%): 99.90\n",
        "3: D_108, Datos F: 11295987, (%): 99.40\n",
        "4: D_111, Datos F: 11247468, (%): 98.98\n",
        "5: D_110, Datos F: 11247468, (%): 98.98\n",
        "6: B_39, Datos F: 11226171, (%): 98.79\n",
        "7: D_73, Datos F: 11214185, (%): 98.68\n",
        "8: B_42, Datos F: 11162444, (%): 98.23\n",
        "9: D_134, Datos F: 11001717, (%): 96.81\n",
        "10: D_135, Datos F: 11001717, (%): 96.81\n",
        "11: D_136, Datos F: 11001717, (%): 96.81\n",
        "12: D_138, Datos F: 11001717, (%): 96.81\n",
        "13: D_137, Datos F: 11001717, (%): 96.81\n",
        "14: R_9, Datos F: 10788361, (%): 94.94\n",
        "15: D_76, Datos F: 10172788, (%): 89.52\n",
        "16: D_66, Datos F: 10013928, (%): 88.12\n",
        "17: D_106, Datos F: 10011090, (%): 88.10\n",
        "18: D_132, Datos F: 10008918, (%): 88.08\n",
        "19: D_49, Datos F: 10006862, (%): 88.06\n",
        "20: D_42, Datos F: 10006179, (%): 88.05\n",
        "21: R_26, Datos F: 9773216, (%): 86.00\n",
        "22: D_142, Datos F: 9396967, (%): 82.69\n",
        "23: B_29, Datos F: 8527163, (%): 75.04\n",
        "24: D_82, Datos F: 8452621, (%): 74.38\n",
        "25: D_53, Datos F: 8378975, (%): 73.73\n",
        "26: D_50, Datos F: 6482746, (%): 57.05\n",
        "27: B_17, Datos F: 6126180, (%): 53.91\n",
        "28: D_105, Datos F: 6068201, (%): 53.40\n",
        "29: D_56, Datos F: 5712708, (%): 50.27\n",
        "```\n",
        "\n"
      ]
    },
    {
      "cell_type": "markdown",
      "metadata": {
        "id": "TSlHUKmwF2vZ"
      },
      "source": [
        "**Análisis Breve de Datos Faltantes**\n",
        "\n",
        "1. **Altos Porcentajes**:\n",
        "   - Las columnas **D_87** - **D_42** tienen más del 98% de datos presentes, lo que sugiere que la mayoría de los datos don faltantes y se requiere acción inmediata en estas variables.\n",
        "   \n",
        "2. **Riesgo de Sobreajuste**:\n",
        "   - Incluir columnas con muchos datos faltantes puede llevar a que los modelos aprendan patrones erróneos.\n",
        "\n",
        "3. **Decisiones**:\n",
        "   - **Eliminar**: Eliminar columnas con más del 90% de datos faltantes.\n",
        "   - **Imputar**: Para columnas con entre 50% y 90%, evalúa si la imputación es viable o sino eliminar.\n",
        "   - **Revisar Relevancia**: Analisar la importancia de las variables con alta proporción de datos faltantes.\n"
      ]
    },
    {
      "cell_type": "markdown",
      "metadata": {
        "id": "QAbkHzSIGmzK"
      },
      "source": [
        "Al observar las variables presentadas, notamos que la mayoría pertenecen a la clase D, lo que indica que son variables de delincuencia. Esto sugiere que, en estos registros, la mayoría de los clientes realizan sus pagos a tiempo. Las otras clases de variables podrían corresponder a datos incorrectamente registrados o a otros motivos.\n"
      ]
    },
    {
      "cell_type": "code",
      "execution_count": null,
      "metadata": {
        "id": "ajcjcZ6PZzQd"
      },
      "outputs": [],
      "source": [
        "# Obtener los nombres de las columnas con más del 50% de datos faltantes\n",
        "columns_with_missing = missing_over_50.index.tolist()\n",
        "\n",
        "# Crear un nuevo DataFrame que solo contenga estas columnas\n",
        "df_missing = testft_data[columns_with_missing]"
      ]
    },
    {
      "cell_type": "code",
      "execution_count": null,
      "metadata": {
        "colab": {
          "base_uri": "https://localhost:8080/",
          "height": 235
        },
        "id": "XHkyLK_yZ2gB",
        "outputId": "17d667d8-0e3e-4ef2-c6d8-57626db25a99"
      },
      "outputs": [
        {
          "data": {
            "application/vnd.google.colaboratory.intrinsic+json": {
              "type": "dataframe"
            },
            "text/html": [
              "\n",
              "  <div id=\"df-4b8f3d9f-e9a2-4170-bc13-8cb68ffe955a\" class=\"colab-df-container\">\n",
              "    <div>\n",
              "<style scoped>\n",
              "    .dataframe tbody tr th:only-of-type {\n",
              "        vertical-align: middle;\n",
              "    }\n",
              "\n",
              "    .dataframe tbody tr th {\n",
              "        vertical-align: top;\n",
              "    }\n",
              "\n",
              "    .dataframe thead th {\n",
              "        text-align: right;\n",
              "    }\n",
              "</style>\n",
              "<table border=\"1\" class=\"dataframe\">\n",
              "  <thead>\n",
              "    <tr style=\"text-align: right;\">\n",
              "      <th></th>\n",
              "      <th>D_87</th>\n",
              "      <th>D_88</th>\n",
              "      <th>D_108</th>\n",
              "      <th>D_111</th>\n",
              "      <th>D_110</th>\n",
              "      <th>B_39</th>\n",
              "      <th>D_73</th>\n",
              "      <th>B_42</th>\n",
              "      <th>D_134</th>\n",
              "      <th>D_135</th>\n",
              "      <th>...</th>\n",
              "      <th>D_42</th>\n",
              "      <th>R_26</th>\n",
              "      <th>D_142</th>\n",
              "      <th>B_29</th>\n",
              "      <th>D_82</th>\n",
              "      <th>D_53</th>\n",
              "      <th>D_50</th>\n",
              "      <th>B_17</th>\n",
              "      <th>D_105</th>\n",
              "      <th>D_56</th>\n",
              "    </tr>\n",
              "  </thead>\n",
              "  <tbody>\n",
              "    <tr>\n",
              "      <th>11363757</th>\n",
              "      <td>NaN</td>\n",
              "      <td>NaN</td>\n",
              "      <td>NaN</td>\n",
              "      <td>NaN</td>\n",
              "      <td>NaN</td>\n",
              "      <td>NaN</td>\n",
              "      <td>NaN</td>\n",
              "      <td>NaN</td>\n",
              "      <td>NaN</td>\n",
              "      <td>NaN</td>\n",
              "      <td>...</td>\n",
              "      <td>0.119507</td>\n",
              "      <td>NaN</td>\n",
              "      <td>NaN</td>\n",
              "      <td>NaN</td>\n",
              "      <td>NaN</td>\n",
              "      <td>NaN</td>\n",
              "      <td>NaN</td>\n",
              "      <td>NaN</td>\n",
              "      <td>NaN</td>\n",
              "      <td>NaN</td>\n",
              "    </tr>\n",
              "    <tr>\n",
              "      <th>11363758</th>\n",
              "      <td>NaN</td>\n",
              "      <td>NaN</td>\n",
              "      <td>NaN</td>\n",
              "      <td>NaN</td>\n",
              "      <td>NaN</td>\n",
              "      <td>NaN</td>\n",
              "      <td>NaN</td>\n",
              "      <td>NaN</td>\n",
              "      <td>NaN</td>\n",
              "      <td>NaN</td>\n",
              "      <td>...</td>\n",
              "      <td>0.118286</td>\n",
              "      <td>NaN</td>\n",
              "      <td>NaN</td>\n",
              "      <td>NaN</td>\n",
              "      <td>NaN</td>\n",
              "      <td>NaN</td>\n",
              "      <td>NaN</td>\n",
              "      <td>NaN</td>\n",
              "      <td>NaN</td>\n",
              "      <td>NaN</td>\n",
              "    </tr>\n",
              "    <tr>\n",
              "      <th>11363759</th>\n",
              "      <td>NaN</td>\n",
              "      <td>NaN</td>\n",
              "      <td>NaN</td>\n",
              "      <td>NaN</td>\n",
              "      <td>NaN</td>\n",
              "      <td>NaN</td>\n",
              "      <td>NaN</td>\n",
              "      <td>NaN</td>\n",
              "      <td>NaN</td>\n",
              "      <td>NaN</td>\n",
              "      <td>...</td>\n",
              "      <td>0.114441</td>\n",
              "      <td>NaN</td>\n",
              "      <td>NaN</td>\n",
              "      <td>NaN</td>\n",
              "      <td>NaN</td>\n",
              "      <td>NaN</td>\n",
              "      <td>NaN</td>\n",
              "      <td>NaN</td>\n",
              "      <td>NaN</td>\n",
              "      <td>NaN</td>\n",
              "    </tr>\n",
              "    <tr>\n",
              "      <th>11363760</th>\n",
              "      <td>NaN</td>\n",
              "      <td>NaN</td>\n",
              "      <td>NaN</td>\n",
              "      <td>NaN</td>\n",
              "      <td>NaN</td>\n",
              "      <td>NaN</td>\n",
              "      <td>NaN</td>\n",
              "      <td>NaN</td>\n",
              "      <td>NaN</td>\n",
              "      <td>NaN</td>\n",
              "      <td>...</td>\n",
              "      <td>0.107056</td>\n",
              "      <td>NaN</td>\n",
              "      <td>NaN</td>\n",
              "      <td>NaN</td>\n",
              "      <td>NaN</td>\n",
              "      <td>NaN</td>\n",
              "      <td>NaN</td>\n",
              "      <td>NaN</td>\n",
              "      <td>NaN</td>\n",
              "      <td>NaN</td>\n",
              "    </tr>\n",
              "    <tr>\n",
              "      <th>11363761</th>\n",
              "      <td>NaN</td>\n",
              "      <td>NaN</td>\n",
              "      <td>0.004169</td>\n",
              "      <td>NaN</td>\n",
              "      <td>NaN</td>\n",
              "      <td>NaN</td>\n",
              "      <td>NaN</td>\n",
              "      <td>NaN</td>\n",
              "      <td>NaN</td>\n",
              "      <td>NaN</td>\n",
              "      <td>...</td>\n",
              "      <td>0.113037</td>\n",
              "      <td>NaN</td>\n",
              "      <td>NaN</td>\n",
              "      <td>NaN</td>\n",
              "      <td>NaN</td>\n",
              "      <td>NaN</td>\n",
              "      <td>NaN</td>\n",
              "      <td>NaN</td>\n",
              "      <td>NaN</td>\n",
              "      <td>NaN</td>\n",
              "    </tr>\n",
              "  </tbody>\n",
              "</table>\n",
              "<p>5 rows × 29 columns</p>\n",
              "</div>\n",
              "    <div class=\"colab-df-buttons\">\n",
              "\n",
              "  <div class=\"colab-df-container\">\n",
              "    <button class=\"colab-df-convert\" onclick=\"convertToInteractive('df-4b8f3d9f-e9a2-4170-bc13-8cb68ffe955a')\"\n",
              "            title=\"Convert this dataframe to an interactive table.\"\n",
              "            style=\"display:none;\">\n",
              "\n",
              "  <svg xmlns=\"http://www.w3.org/2000/svg\" height=\"24px\" viewBox=\"0 -960 960 960\">\n",
              "    <path d=\"M120-120v-720h720v720H120Zm60-500h600v-160H180v160Zm220 220h160v-160H400v160Zm0 220h160v-160H400v160ZM180-400h160v-160H180v160Zm440 0h160v-160H620v160ZM180-180h160v-160H180v160Zm440 0h160v-160H620v160Z\"/>\n",
              "  </svg>\n",
              "    </button>\n",
              "\n",
              "  <style>\n",
              "    .colab-df-container {\n",
              "      display:flex;\n",
              "      gap: 12px;\n",
              "    }\n",
              "\n",
              "    .colab-df-convert {\n",
              "      background-color: #E8F0FE;\n",
              "      border: none;\n",
              "      border-radius: 50%;\n",
              "      cursor: pointer;\n",
              "      display: none;\n",
              "      fill: #1967D2;\n",
              "      height: 32px;\n",
              "      padding: 0 0 0 0;\n",
              "      width: 32px;\n",
              "    }\n",
              "\n",
              "    .colab-df-convert:hover {\n",
              "      background-color: #E2EBFA;\n",
              "      box-shadow: 0px 1px 2px rgba(60, 64, 67, 0.3), 0px 1px 3px 1px rgba(60, 64, 67, 0.15);\n",
              "      fill: #174EA6;\n",
              "    }\n",
              "\n",
              "    .colab-df-buttons div {\n",
              "      margin-bottom: 4px;\n",
              "    }\n",
              "\n",
              "    [theme=dark] .colab-df-convert {\n",
              "      background-color: #3B4455;\n",
              "      fill: #D2E3FC;\n",
              "    }\n",
              "\n",
              "    [theme=dark] .colab-df-convert:hover {\n",
              "      background-color: #434B5C;\n",
              "      box-shadow: 0px 1px 3px 1px rgba(0, 0, 0, 0.15);\n",
              "      filter: drop-shadow(0px 1px 2px rgba(0, 0, 0, 0.3));\n",
              "      fill: #FFFFFF;\n",
              "    }\n",
              "  </style>\n",
              "\n",
              "    <script>\n",
              "      const buttonEl =\n",
              "        document.querySelector('#df-4b8f3d9f-e9a2-4170-bc13-8cb68ffe955a button.colab-df-convert');\n",
              "      buttonEl.style.display =\n",
              "        google.colab.kernel.accessAllowed ? 'block' : 'none';\n",
              "\n",
              "      async function convertToInteractive(key) {\n",
              "        const element = document.querySelector('#df-4b8f3d9f-e9a2-4170-bc13-8cb68ffe955a');\n",
              "        const dataTable =\n",
              "          await google.colab.kernel.invokeFunction('convertToInteractive',\n",
              "                                                    [key], {});\n",
              "        if (!dataTable) return;\n",
              "\n",
              "        const docLinkHtml = 'Like what you see? Visit the ' +\n",
              "          '<a target=\"_blank\" href=https://colab.research.google.com/notebooks/data_table.ipynb>data table notebook</a>'\n",
              "          + ' to learn more about interactive tables.';\n",
              "        element.innerHTML = '';\n",
              "        dataTable['output_type'] = 'display_data';\n",
              "        await google.colab.output.renderOutput(dataTable, element);\n",
              "        const docLink = document.createElement('div');\n",
              "        docLink.innerHTML = docLinkHtml;\n",
              "        element.appendChild(docLink);\n",
              "      }\n",
              "    </script>\n",
              "  </div>\n",
              "\n",
              "\n",
              "<div id=\"df-78f49d96-2618-4315-8fbe-93e00b57f35d\">\n",
              "  <button class=\"colab-df-quickchart\" onclick=\"quickchart('df-78f49d96-2618-4315-8fbe-93e00b57f35d')\"\n",
              "            title=\"Suggest charts\"\n",
              "            style=\"display:none;\">\n",
              "\n",
              "<svg xmlns=\"http://www.w3.org/2000/svg\" height=\"24px\"viewBox=\"0 0 24 24\"\n",
              "     width=\"24px\">\n",
              "    <g>\n",
              "        <path d=\"M19 3H5c-1.1 0-2 .9-2 2v14c0 1.1.9 2 2 2h14c1.1 0 2-.9 2-2V5c0-1.1-.9-2-2-2zM9 17H7v-7h2v7zm4 0h-2V7h2v10zm4 0h-2v-4h2v4z\"/>\n",
              "    </g>\n",
              "</svg>\n",
              "  </button>\n",
              "\n",
              "<style>\n",
              "  .colab-df-quickchart {\n",
              "      --bg-color: #E8F0FE;\n",
              "      --fill-color: #1967D2;\n",
              "      --hover-bg-color: #E2EBFA;\n",
              "      --hover-fill-color: #174EA6;\n",
              "      --disabled-fill-color: #AAA;\n",
              "      --disabled-bg-color: #DDD;\n",
              "  }\n",
              "\n",
              "  [theme=dark] .colab-df-quickchart {\n",
              "      --bg-color: #3B4455;\n",
              "      --fill-color: #D2E3FC;\n",
              "      --hover-bg-color: #434B5C;\n",
              "      --hover-fill-color: #FFFFFF;\n",
              "      --disabled-bg-color: #3B4455;\n",
              "      --disabled-fill-color: #666;\n",
              "  }\n",
              "\n",
              "  .colab-df-quickchart {\n",
              "    background-color: var(--bg-color);\n",
              "    border: none;\n",
              "    border-radius: 50%;\n",
              "    cursor: pointer;\n",
              "    display: none;\n",
              "    fill: var(--fill-color);\n",
              "    height: 32px;\n",
              "    padding: 0;\n",
              "    width: 32px;\n",
              "  }\n",
              "\n",
              "  .colab-df-quickchart:hover {\n",
              "    background-color: var(--hover-bg-color);\n",
              "    box-shadow: 0 1px 2px rgba(60, 64, 67, 0.3), 0 1px 3px 1px rgba(60, 64, 67, 0.15);\n",
              "    fill: var(--button-hover-fill-color);\n",
              "  }\n",
              "\n",
              "  .colab-df-quickchart-complete:disabled,\n",
              "  .colab-df-quickchart-complete:disabled:hover {\n",
              "    background-color: var(--disabled-bg-color);\n",
              "    fill: var(--disabled-fill-color);\n",
              "    box-shadow: none;\n",
              "  }\n",
              "\n",
              "  .colab-df-spinner {\n",
              "    border: 2px solid var(--fill-color);\n",
              "    border-color: transparent;\n",
              "    border-bottom-color: var(--fill-color);\n",
              "    animation:\n",
              "      spin 1s steps(1) infinite;\n",
              "  }\n",
              "\n",
              "  @keyframes spin {\n",
              "    0% {\n",
              "      border-color: transparent;\n",
              "      border-bottom-color: var(--fill-color);\n",
              "      border-left-color: var(--fill-color);\n",
              "    }\n",
              "    20% {\n",
              "      border-color: transparent;\n",
              "      border-left-color: var(--fill-color);\n",
              "      border-top-color: var(--fill-color);\n",
              "    }\n",
              "    30% {\n",
              "      border-color: transparent;\n",
              "      border-left-color: var(--fill-color);\n",
              "      border-top-color: var(--fill-color);\n",
              "      border-right-color: var(--fill-color);\n",
              "    }\n",
              "    40% {\n",
              "      border-color: transparent;\n",
              "      border-right-color: var(--fill-color);\n",
              "      border-top-color: var(--fill-color);\n",
              "    }\n",
              "    60% {\n",
              "      border-color: transparent;\n",
              "      border-right-color: var(--fill-color);\n",
              "    }\n",
              "    80% {\n",
              "      border-color: transparent;\n",
              "      border-right-color: var(--fill-color);\n",
              "      border-bottom-color: var(--fill-color);\n",
              "    }\n",
              "    90% {\n",
              "      border-color: transparent;\n",
              "      border-bottom-color: var(--fill-color);\n",
              "    }\n",
              "  }\n",
              "</style>\n",
              "\n",
              "  <script>\n",
              "    async function quickchart(key) {\n",
              "      const quickchartButtonEl =\n",
              "        document.querySelector('#' + key + ' button');\n",
              "      quickchartButtonEl.disabled = true;  // To prevent multiple clicks.\n",
              "      quickchartButtonEl.classList.add('colab-df-spinner');\n",
              "      try {\n",
              "        const charts = await google.colab.kernel.invokeFunction(\n",
              "            'suggestCharts', [key], {});\n",
              "      } catch (error) {\n",
              "        console.error('Error during call to suggestCharts:', error);\n",
              "      }\n",
              "      quickchartButtonEl.classList.remove('colab-df-spinner');\n",
              "      quickchartButtonEl.classList.add('colab-df-quickchart-complete');\n",
              "    }\n",
              "    (() => {\n",
              "      let quickchartButtonEl =\n",
              "        document.querySelector('#df-78f49d96-2618-4315-8fbe-93e00b57f35d button');\n",
              "      quickchartButtonEl.style.display =\n",
              "        google.colab.kernel.accessAllowed ? 'block' : 'none';\n",
              "    })();\n",
              "  </script>\n",
              "</div>\n",
              "\n",
              "    </div>\n",
              "  </div>\n"
            ],
            "text/plain": [
              "          D_87  D_88     D_108  D_111  D_110  B_39  D_73  B_42  D_134  D_135  \\\n",
              "11363757   NaN   NaN       NaN    NaN    NaN   NaN   NaN   NaN    NaN    NaN   \n",
              "11363758   NaN   NaN       NaN    NaN    NaN   NaN   NaN   NaN    NaN    NaN   \n",
              "11363759   NaN   NaN       NaN    NaN    NaN   NaN   NaN   NaN    NaN    NaN   \n",
              "11363760   NaN   NaN       NaN    NaN    NaN   NaN   NaN   NaN    NaN    NaN   \n",
              "11363761   NaN   NaN  0.004169    NaN    NaN   NaN   NaN   NaN    NaN    NaN   \n",
              "\n",
              "          ...      D_42  R_26  D_142  B_29  D_82 D_53  D_50  B_17  D_105  D_56  \n",
              "11363757  ...  0.119507   NaN    NaN   NaN   NaN  NaN   NaN   NaN    NaN   NaN  \n",
              "11363758  ...  0.118286   NaN    NaN   NaN   NaN  NaN   NaN   NaN    NaN   NaN  \n",
              "11363759  ...  0.114441   NaN    NaN   NaN   NaN  NaN   NaN   NaN    NaN   NaN  \n",
              "11363760  ...  0.107056   NaN    NaN   NaN   NaN  NaN   NaN   NaN    NaN   NaN  \n",
              "11363761  ...  0.113037   NaN    NaN   NaN   NaN  NaN   NaN   NaN    NaN   NaN  \n",
              "\n",
              "[5 rows x 29 columns]"
            ]
          },
          "execution_count": 138,
          "metadata": {},
          "output_type": "execute_result"
        }
      ],
      "source": [
        "df_missing.tail()"
      ]
    },
    {
      "cell_type": "markdown",
      "metadata": {
        "id": "2PHsgjLEbPlJ"
      },
      "source": [
        "***RESPUESTA CODIGO:***\n",
        "\n",
        "```\n",
        "\n",
        "D_87\tD_88\tD_108\tD_111\tD_110\tB_39\tD_73\tB_42\tD_134\tD_135\t...\tD_42\tR_26\tD_142\tB_29\tD_82\tD_53\tD_50\tB_17\tD_105\tD_56\n",
        "11363757\tNaN\tNaN\tNaN\tNaN\tNaN\tNaN\tNaN\tNaN\tNaN\tNaN\t...\t0.119507\tNaN\tNaN\tNaN\tNaN\tNaN\tNaN\tNaN\tNaN\tNaN\n",
        "11363758\tNaN\tNaN\tNaN\tNaN\tNaN\tNaN\tNaN\tNaN\tNaN\tNaN\t...\t0.118286\tNaN\tNaN\tNaN\tNaN\tNaN\tNaN\tNaN\tNaN\tNaN\n",
        "11363759\tNaN\tNaN\tNaN\tNaN\tNaN\tNaN\tNaN\tNaN\tNaN\tNaN\t...\t0.114441\tNaN\tNaN\tNaN\tNaN\tNaN\tNaN\tNaN\tNaN\tNaN\n",
        "11363760\tNaN\tNaN\tNaN\tNaN\tNaN\tNaN\tNaN\tNaN\tNaN\tNaN\t...\t0.107056\tNaN\tNaN\tNaN\tNaN\tNaN\tNaN\tNaN\tNaN\tNaN\n",
        "11363761\tNaN\tNaN\t0.004169\tNaN\tNaN\tNaN\tNaN\tNaN\tNaN\tNaN\t...\t0.113037\tNaN\tNaN\tNaN\tNaN\tNaN\tNaN\tNaN\tNaN\tNaN\n",
        "5 rows × 29 columns\n",
        "```\n",
        "\n"
      ]
    },
    {
      "cell_type": "code",
      "execution_count": null,
      "metadata": {
        "colab": {
          "base_uri": "https://localhost:8080/"
        },
        "id": "yTygBQncZ5F6",
        "outputId": "5312758e-140d-4438-be02-86f1994eaaf0"
      },
      "outputs": [
        {
          "name": "stdout",
          "output_type": "stream",
          "text": [
            "<class 'pandas.core.frame.DataFrame'>\n",
            "RangeIndex: 11363762 entries, 0 to 11363761\n",
            "Data columns (total 29 columns):\n",
            " #   Column  Dtype   \n",
            "---  ------  -----   \n",
            " 0   D_87    float16 \n",
            " 1   D_88    float16 \n",
            " 2   D_108   float16 \n",
            " 3   D_111   float16 \n",
            " 4   D_110   float16 \n",
            " 5   B_39    float16 \n",
            " 6   D_73    float16 \n",
            " 7   B_42    float16 \n",
            " 8   D_134   float16 \n",
            " 9   D_135   float16 \n",
            " 10  D_136   float16 \n",
            " 11  D_138   float16 \n",
            " 12  D_137   float16 \n",
            " 13  R_9     float16 \n",
            " 14  D_76    float16 \n",
            " 15  D_66    category\n",
            " 16  D_106   float16 \n",
            " 17  D_132   float16 \n",
            " 18  D_49    float16 \n",
            " 19  D_42    float16 \n",
            " 20  R_26    float16 \n",
            " 21  D_142   float16 \n",
            " 22  B_29    float16 \n",
            " 23  D_82    float16 \n",
            " 24  D_53    float16 \n",
            " 25  D_50    float16 \n",
            " 26  B_17    float16 \n",
            " 27  D_105   float16 \n",
            " 28  D_56    float16 \n",
            "dtypes: category(1), float16(28)\n",
            "memory usage: 617.7 MB\n"
          ]
        }
      ],
      "source": [
        "df_missing.info()"
      ]
    },
    {
      "cell_type": "markdown",
      "metadata": {
        "id": "cav2B8rkbUoO"
      },
      "source": [
        "***RESPUESTA CODIGO:***\n",
        "\n",
        "```\n",
        "<class 'pandas.core.frame.DataFrame'>\n",
        "RangeIndex: 11363762 entries, 0 to 11363761\n",
        "Data columns (total 29 columns):\n",
        " #   Column  Dtype   \n",
        "---  ------  -----   \n",
        " 0   D_87    float16\n",
        " 1   D_88    float16\n",
        " 2   D_108   float16\n",
        " 3   D_111   float16\n",
        " 4   D_110   float16\n",
        " 5   B_39    float16\n",
        " 6   D_73    float16\n",
        " 7   B_42    float16\n",
        " 8   D_134   float16\n",
        " 9   D_135   float16\n",
        " 10  D_136   float16\n",
        " 11  D_138   float16\n",
        " 12  D_137   float16\n",
        " 13  R_9     float16\n",
        " 14  D_76    float16\n",
        " 15  D_66    category\n",
        " 16  D_106   float16\n",
        " 17  D_132   float16\n",
        " 18  D_49    float16\n",
        " 19  D_42    float16\n",
        " 20  R_26    float16\n",
        " 21  D_142   float16\n",
        " 22  B_29    float16\n",
        " 23  D_82    float16\n",
        " 24  D_53    float16\n",
        " 25  D_50    float16\n",
        " 26  B_17    float16\n",
        " 27  D_105   float16\n",
        " 28  D_56    float16\n",
        "dtypes: category(1), float16(28)\n",
        "memory usage: 617.7 MB\n",
        "```\n",
        "\n"
      ]
    },
    {
      "cell_type": "markdown",
      "metadata": {
        "id": "NUABNrI2GtTS"
      },
      "source": [
        "Observamos que todas las variables que poseen datos NA'S son de tipo numerico y una sola de tipo categorico"
      ]
    },
    {
      "cell_type": "markdown",
      "metadata": {
        "id": "Bdu1J6QJG1I0"
      },
      "source": [
        "Al observar esta muestra de los datos faltantes, podemos analizar que hay una cantidad significativa de registros con más del 50% (Tomando en cuenta este % que fue consultado con el profesor Lihki Rubio) de datos ausentes. Realizar una imputación en estos casos podría afectar los resultados del modelo. Por lo tanto, consideramos que lo más viable es eliminar estas columnas."
      ]
    },
    {
      "cell_type": "code",
      "execution_count": null,
      "metadata": {
        "colab": {
          "base_uri": "https://localhost:8080/"
        },
        "id": "En2X5k1hZ7gG",
        "outputId": "a92f014c-5f16-4347-c68c-a5f63a8c57c0"
      },
      "outputs": [
        {
          "name": "stdout",
          "output_type": "stream",
          "text": [
            "<class 'pandas.core.frame.DataFrame'>\n",
            "RangeIndex: 11363762 entries, 0 to 11363761\n",
            "Columns: 161 entries, customer_ID to D_145\n",
            "dtypes: category(10), datetime64[ns](1), float16(149), object(1)\n",
            "memory usage: 3.4+ GB\n",
            "None\n"
          ]
        }
      ],
      "source": [
        "# Filtrar columnas con más del 50% de datos faltantes\n",
        "missing_over_50 = missing_data_summary[missing_data_summary['Porcentaje (%)'] >= 50].index\n",
        "\n",
        "# Eliminar columnas del DataFrame original que tienen más del 50% de datos faltantes\n",
        "df_cleaned = testft_data.drop(columns=missing_over_50)\n",
        "\n",
        "print(df_cleaned.info())"
      ]
    },
    {
      "cell_type": "markdown",
      "metadata": {
        "id": "4k0tMY_abaI2"
      },
      "source": [
        "***RESPUESTA CODIGO:***\n",
        "\n",
        "```\n",
        "<class 'pandas.core.frame.DataFrame'>\n",
        "RangeIndex: 11363762 entries, 0 to 11363761\n",
        "Columns: 161 entries, customer_ID to D_145\n",
        "dtypes: category(10), datetime64[ns](1), float16(149), object(1)\n",
        "memory usage: 3.4+ GB\n",
        "None\n",
        "```\n",
        "\n"
      ]
    },
    {
      "cell_type": "markdown",
      "metadata": {
        "id": "-_ZW4yc2G4c0"
      },
      "source": [
        "## $\\textit{Separacion de tipos de datos}$"
      ]
    },
    {
      "cell_type": "code",
      "execution_count": null,
      "metadata": {
        "id": "HcGsoF7kZ-75"
      },
      "outputs": [],
      "source": [
        "df_numeric = df_cleaned.select_dtypes(include=['float16', 'int16'])\n",
        "\n",
        "df_categorico = df_cleaned.select_dtypes(include=['object', 'category','datetime64'])"
      ]
    },
    {
      "cell_type": "markdown",
      "metadata": {
        "id": "Ssz60yxbG9q6"
      },
      "source": [
        "## $\\textit{Imputación Iterativa Múltiple.}$"
      ]
    },
    {
      "cell_type": "code",
      "execution_count": null,
      "metadata": {
        "colab": {
          "base_uri": "https://localhost:8080/"
        },
        "id": "DT1h-gkZtfeb",
        "outputId": "85dd1c38-04f2-4b57-d925-ba4d3013f6d6"
      },
      "outputs": [
        {
          "name": "stdout",
          "output_type": "stream",
          "text": [
            "<class 'pandas.core.frame.DataFrame'>\n",
            "RangeIndex: 11363762 entries, 0 to 11363761\n",
            "Columns: 149 entries, P_2 to D_145\n",
            "dtypes: float16(149)\n",
            "memory usage: 3.2 GB\n"
          ]
        }
      ],
      "source": [
        "df_numeric.info()"
      ]
    },
    {
      "cell_type": "markdown",
      "metadata": {
        "id": "szKN1vTEbv8K"
      },
      "source": [
        "***RESPUESTA CODIGO:***\n",
        "\n",
        "```\n",
        "<class 'pandas.core.frame.DataFrame'>\n",
        "RangeIndex: 11363762 entries, 0 to 11363761\n",
        "Columns: 149 entries, P_2 to D_145\n",
        "dtypes: float16(149)\n",
        "memory usage: 3.2 GB\n",
        "```\n",
        "\n"
      ]
    },
    {
      "cell_type": "code",
      "execution_count": null,
      "metadata": {
        "colab": {
          "base_uri": "https://localhost:8080/"
        },
        "id": "ajHAHPljaBMZ",
        "outputId": "bfeaa1b9-1967-44a6-c4d1-0ecbfa08645d"
      },
      "outputs": [
        {
          "name": "stdout",
          "output_type": "stream",
          "text": [
            "Total missing values in df_numeric: 34612715\n"
          ]
        }
      ],
      "source": [
        "# Contar el número total de datos faltantes en el DataFrame\n",
        "missing_count = df_numeric.isnull().sum().sum()\n",
        "print('Total missing values in df_numeric: %d' % missing_count)\n"
      ]
    },
    {
      "cell_type": "markdown",
      "metadata": {
        "id": "avw2gSfyHpQO"
      },
      "source": [
        "## $\\textit{Análisis de Valores Faltantes}$\n",
        "\n",
        "El conjunto de datos (`df_numeric`) tiene **34,612,715** valores faltantes. Dado el volumen, imputar masivamente podría introducir sesgos y ser computacionalmente costoso. Por lo tanto, se decidió:\n",
        "\n",
        "1. **Eliminar** variables con más del **50%** de datos faltantes.\n",
        "2. Evaluar el impacto en el modelo para balancear entre rendimiento y costo computacional.\n",
        "\n"
      ]
    },
    {
      "cell_type": "markdown",
      "metadata": {
        "id": "3NrWcyX0H2nM"
      },
      "source": [
        "**Visualizacion de datos faltantes (NA's)** para las variables categoricas"
      ]
    },
    {
      "cell_type": "code",
      "execution_count": null,
      "metadata": {
        "colab": {
          "base_uri": "https://localhost:8080/",
          "height": 634
        },
        "id": "P0RlEQObakrk",
        "outputId": "506697d0-6d9a-4858-ad93-546a65ca8360"
      },
      "outputs": [
        {
          "data": {
            "text/plain": [
              "<Axes: >"
            ]
          },
          "execution_count": 144,
          "metadata": {},
          "output_type": "execute_result"
        },
        {
          "data": {
            "image/png": "[encoded data removed]",
            "text/plain": [
              "<Figure size 2500x1000 with 2 Axes>"
            ]
          },
          "metadata": {},
          "output_type": "display_data"
        }
      ],
      "source": [
        "# Visualizar los datos faltantes\n",
        "msno.matrix(df_categorico)"
      ]
    },
    {
      "cell_type": "markdown",
      "metadata": {
        "id": "Q8x9iDOGb1Pt"
      },
      "source": [
        "***RESPUESTA CODIGO:***\n",
        "\n",
        "![image.png](data:image/png;base64,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)\n"
      ]
    },
    {
      "cell_type": "markdown",
      "metadata": {
        "id": "WfYjE_3KIOp-"
      },
      "source": [
        "##  $\\textit{Análisis de Valores Faltantes}$\n",
        "\n",
        "1. **Variables con muchos faltantes**: Las columnas `D_68`, `D_114`, `D_116`, `D_117`, `D_120`, y `D_126` tienen una cantidad significativa de valores faltantes.\n",
        "   \n",
        "2. **Variables completas**: Columnas como `customer_ID`, `fecha`, `D_63`, `D_64`, `B_30`, y `B_38` no presentan faltantes.\n",
        "\n",
        "3. **Patrones**: Los valores faltantes están dispersos a lo largo de las observaciones, sin un patrón claro.\n"
      ]
    },
    {
      "cell_type": "markdown",
      "metadata": {
        "id": "Tjm85r3VIbPs"
      },
      "source": [
        "$\\textit{Limpieza de Datos 20% hasta 50% (NA'S)}$"
      ]
    },
    {
      "cell_type": "code",
      "execution_count": null,
      "metadata": {
        "colab": {
          "base_uri": "https://localhost:8080/"
        },
        "collapsed": true,
        "id": "uQvSHyIcam4u",
        "outputId": "a9a70a3c-c51c-4c7e-b90e-394df0fe0b87"
      },
      "outputs": [
        {
          "name": "stdout",
          "output_type": "stream",
          "text": [
            "      Datos Faltantes  Porcentaje (%)\n",
            "D_77          5572825       49.040318\n",
            "S_9           3985374       35.070903\n",
            "D_43          3412626       30.030777\n",
            "S_27          2500275       22.002177\n",
            "D_46          2297153       20.214723\n",
            "...               ...             ...\n",
            "B_32                0        0.000000\n",
            "R_19                0        0.000000\n",
            "S_19                0        0.000000\n",
            "B_31                0        0.000000\n",
            "B_23                0        0.000000\n",
            "\n",
            "[149 rows x 2 columns]\n"
          ]
        }
      ],
      "source": [
        "m_values_count = df_numeric.isnull().sum()\n",
        "\n",
        "# Calcular el porcentaje de datos faltantes por columna\n",
        "to_rows = df_numeric.shape[0]\n",
        "m_percentage = (m_values_count / to_rows) * 100\n",
        "\n",
        "# Crear un DataFrame para mostrar el conteo y porcentaje\n",
        "m_data_summary = pd.DataFrame({\n",
        "    'Datos Faltantes': m_values_count,\n",
        "    'Porcentaje (%)': m_percentage\n",
        "})\n",
        "\n",
        "# Ordenar el DataFrame por el conteo de datos faltantes en orden descendente\n",
        "m_data_summary = m_data_summary.sort_values(by='Datos Faltantes', ascending=False)\n",
        "\n",
        "print(m_data_summary)"
      ]
    },
    {
      "cell_type": "markdown",
      "metadata": {
        "id": "OlX0nnzocL2G"
      },
      "source": [
        "***RESPUESTA CODIGO:***\n",
        "\n",
        "```\n",
        "      Datos Faltantes  Porcentaje (%)\n",
        "D_77          5572825       49.040318\n",
        "S_9           3985374       35.070903\n",
        "D_43          3412626       30.030777\n",
        "S_27          2500275       22.002177\n",
        "D_46          2297153       20.214723\n",
        "...               ...             ...\n",
        "B_32                0        0.000000\n",
        "R_19                0        0.000000\n",
        "S_19                0        0.000000\n",
        "B_31                0        0.000000\n",
        "B_23                0        0.000000\n",
        "\n",
        "[149 rows x 2 columns]\n",
        "```\n",
        "\n"
      ]
    },
    {
      "cell_type": "code",
      "execution_count": null,
      "metadata": {
        "colab": {
          "base_uri": "https://localhost:8080/"
        },
        "collapsed": true,
        "id": "j_EeXrjnapJQ",
        "outputId": "bdaf15c6-f1e8-4d07-818c-b68bc528bbed"
      },
      "outputs": [
        {
          "name": "stdout",
          "output_type": "stream",
          "text": [
            "1: D_77, Datos Faltantes: 5572825, Porcentaje: 49.04%\n",
            "2: S_9, Datos Faltantes: 3985374, Porcentaje: 35.07%\n",
            "3: D_43, Datos Faltantes: 3412626, Porcentaje: 30.03%\n",
            "4: S_27, Datos Faltantes: 2500275, Porcentaje: 22.00%\n",
            "5: D_46, Datos Faltantes: 2297153, Porcentaje: 20.21%\n"
          ]
        }
      ],
      "source": [
        "# Filtrar columnas con 20% a 50% de datos faltantes\n",
        "missing_20_to_50 = m_data_summary[(m_data_summary['Porcentaje (%)'] >= 20) & (m_data_summary['Porcentaje (%)'] < 50)]\n",
        "\n",
        "# Ordenar los resultados por porcentaje en orden descendente\n",
        "missing_20_to_50 = missing_20_to_50.sort_values(by='Porcentaje (%)', ascending=False)\n",
        "\n",
        "for index, variable in enumerate(missing_20_to_50.index, start=1):\n",
        "    # Extraer los datos faltants y el porcentaje de cada variable\n",
        "    datos_faltantes = missing_20_to_50.loc[variable, 'Datos Faltantes']\n",
        "    porcentaje = missing_20_to_50.loc[variable, 'Porcentaje (%)']\n",
        "\n",
        "    print(f\"{index}: {variable}, Datos Faltantes: {datos_faltantes}, Porcentaje: {porcentaje:.2f}%\")"
      ]
    },
    {
      "cell_type": "markdown",
      "metadata": {
        "id": "vvjzTsQdcSQz"
      },
      "source": [
        "***RESPUESTA CODIGO:***\n",
        "\n",
        "```\n",
        "1: D_77, Datos Faltantes: 5572825, Porcentaje: 49.04%\n",
        "2: S_9, Datos Faltantes: 3985374, Porcentaje: 35.07%\n",
        "3: D_43, Datos Faltantes: 3412626, Porcentaje: 30.03%\n",
        "4: S_27, Datos Faltantes: 2500275, Porcentaje: 22.00%\n",
        "5: D_46, Datos Faltantes: 2297153, Porcentaje: 20.21%\n",
        "```\n",
        "\n"
      ]
    },
    {
      "cell_type": "markdown",
      "metadata": {
        "id": "xUg8vdsPIq9K"
      },
      "source": [
        "## $\\textit{Análisis de Variables con 20\\% a 50\\% de Datos Faltantes}$\n",
        "\n",
        "Las siguientes variables presentan entre un **20% y 50%** de datos faltantes. A partir de estos datos, evaluaremos si es adecuado imputar o eliminar estas variables, considerando su importancia y relación con el modelo.\n",
        "\n",
        "1. **D_77** tiene el mayor porcentaje de datos faltantes (**49.04%**), lo que sugiere que podría ser una variable con poca información confiable. Esto podría indicar problemas sistémicos o datos faltantes por diseño.\n",
        "   \n",
        "2. **S_9** y **S_27** están relacionadas con gastos, y con porcentajes de datos faltantes de **35.07%** y **22.00%**, respectivamente. Estos podrían ser comportamientos inusuales, quizás asociados a un subconjunto de clientes atípicos. Eliminarlas podría estar justificado si no son representativas de la mayoría de la población.\n",
        "\n",
        "3. **D_43** y **D_46**, con faltantes de **30.03%** y **20.21%**, son variables de la categoría **D**, que podrían estar relacionadas con eventos específicos. Si estas variables muestran una correlación baja con la variable objetivo, sería razonable considerar su eliminación.\n",
        "\n",
        "En resumen, realizaremos un análisis de **correlación** para determinar si estas variables influyen significativamente en la variable objetivo. Dependiendo de los resultados, decidiremos si imputarlas o eliminarlas del conjunto de datos."
      ]
    },
    {
      "cell_type": "code",
      "execution_count": null,
      "metadata": {
        "id": "XO0OC9Ofa7ja"
      },
      "outputs": [],
      "source": [
        "df_cleaned_p = df_numeric[['D_77', 'S_9', 'D_43', 'S_27', 'D_46' ]]\n"
      ]
    },
    {
      "cell_type": "code",
      "execution_count": null,
      "metadata": {
        "colab": {
          "base_uri": "https://localhost:8080/"
        },
        "collapsed": true,
        "id": "T3Ixx_gCsb3S",
        "outputId": "92567203-b508-431f-c8cf-21831d737340"
      },
      "outputs": [
        {
          "name": "stdout",
          "output_type": "stream",
          "text": [
            "<class 'pandas.core.frame.DataFrame'>\n",
            "RangeIndex: 11363762 entries, 0 to 11363761\n",
            "Columns: 149 entries, P_2 to D_145\n",
            "dtypes: float16(149)\n",
            "memory usage: 3.2 GB\n"
          ]
        }
      ],
      "source": [
        "df_numeric.info()"
      ]
    },
    {
      "cell_type": "markdown",
      "metadata": {
        "id": "ZSRoeR5RcY26"
      },
      "source": [
        "***RESPUESTA CODIGO:***\n",
        "\n",
        "```\n",
        "<class 'pandas.core.frame.DataFrame'>\n",
        "RangeIndex: 11363762 entries, 0 to 11363761\n",
        "Columns: 149 entries, P_2 to D_145\n",
        "dtypes: float16(149)\n",
        "memory usage: 3.2 GB\n",
        "```\n",
        "\n"
      ]
    },
    {
      "cell_type": "markdown",
      "metadata": {
        "id": "R4jRWlFMIwor"
      },
      "source": [
        "$\\textit{Análisis de la Matriz de Correlación}$"
      ]
    },
    {
      "cell_type": "code",
      "execution_count": null,
      "metadata": {
        "colab": {
          "base_uri": "https://localhost:8080/",
          "height": 699
        },
        "id": "JRJvoXlEfCYo",
        "outputId": "7c4de5b7-06bd-420b-d1e6-ff283eb5af7f"
      },
      "outputs": [
        {
          "data": {
            "image/png": "[encoded data removed]",
            "text/plain": [
              "<Figure size 1000x800 with 2 Axes>"
            ]
          },
          "metadata": {},
          "output_type": "display_data"
        }
      ],
      "source": [
        "df_numerico = df_cleaned_p.select_dtypes(include=[np.number])\n",
        "\n",
        "# Verifica si hay columnas numéricas antes de continuar\n",
        "if df_numerico.shape[1] > 0:\n",
        "    # Calcular la matriz de correlación\n",
        "    corr_matrix = df_numerico.corr()\n",
        "\n",
        "    plt.figure(figsize=(10, 8))\n",
        "    sns.heatmap(corr_matrix, annot=True, cmap='coolwarm', linewidths=0.5)\n",
        "    plt.title('Matriz de Correlación')\n",
        "    plt.show()\n",
        "else:\n",
        "    print(\"No hay columnas numéricas en el DataFrame para calcular la correlación.\")\n"
      ]
    },
    {
      "cell_type": "markdown",
      "metadata": {
        "id": "ATmVXG5zcg0j"
      },
      "source": [
        "***RESPUESTA CODIGO:***\n",
        "![image.png](data:image/png;base64,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)"
      ]
    },
    {
      "cell_type": "markdown",
      "metadata": {
        "id": "owtA5NGaJVXP"
      },
      "source": [
        "## $\\textit{Análisis de la Matriz de Correlación}$\n",
        "\n",
        "- **D_77**: Correlación de -0.18 (negativa baja)\n",
        "- **S_9**: Correlación de 0.0024 a -0.11\n",
        "- **D_43**: Correlación de 0.088 a -0.18\n",
        "- **S_27**: Correlación de -0.0059 a 0.11\n",
        "- **D_46**: Correlación de 0.088 a -0.06\n",
        "\n",
        "## $\\textit{Decisiones:}$\n",
        "\n",
        "- **S_9**: Con correlaciones muy bajas (en torno a 0.0024), no parece relevante para el modelo. Consideramos eliminarla.\n",
        "  \n",
        "- **S_27**: Al tener correlaciones débiles (como -0.0059), esta variable podría ser eliminada, ya que no aporta información significativa.\n",
        "  \n",
        "- **D_43**: Presenta una correlación baja tanto positiva como negativa, lo que también justifica su posible eliminación.\n",
        "  \n",
        "- **D_46**: Su baja correlación (0.088) sugiere que no añade mucho valor y podría ser eliminada.\n",
        "\n",
        "- **D_77**: Aunque tiene una correlación negativa leve (-0.18), la falta de una relación clara con las demás variables sugiere que podría ser eliminada del análisis."
      ]
    },
    {
      "cell_type": "code",
      "execution_count": null,
      "metadata": {
        "colab": {
          "base_uri": "https://localhost:8080/"
        },
        "id": "OpopZ1fIv-GF",
        "outputId": "2c1d365a-03cd-4c33-a4b5-2a03fa158d80"
      },
      "outputs": [
        {
          "name": "stdout",
          "output_type": "stream",
          "text": [
            "<class 'pandas.core.frame.DataFrame'>\n",
            "RangeIndex: 11363762 entries, 0 to 11363761\n",
            "Columns: 149 entries, P_2 to D_145\n",
            "dtypes: float16(149)\n",
            "memory usage: 3.2 GB\n"
          ]
        }
      ],
      "source": [
        "df_numeric.info()"
      ]
    },
    {
      "cell_type": "markdown",
      "metadata": {
        "id": "hcBglkjIcvhR"
      },
      "source": [
        "***RESPUESTA CODIGO:***\n",
        "\n",
        "```\n",
        "<class 'pandas.core.frame.DataFrame'>\n",
        "RangeIndex: 11363762 entries, 0 to 11363761\n",
        "Columns: 149 entries, P_2 to D_145\n",
        "dtypes: float16(149)\n",
        "memory usage: 3.2 GB\n",
        "```\n",
        "\n"
      ]
    },
    {
      "cell_type": "markdown",
      "metadata": {
        "id": "6K0Af3lTJi_q"
      },
      "source": [
        "Hasta el momento, tras los análisis realizados, hemos reducido nuestra base de datos a 149 variables, disminuyendo desde un total de 191."
      ]
    },
    {
      "cell_type": "code",
      "execution_count": null,
      "metadata": {
        "colab": {
          "base_uri": "https://localhost:8080/"
        },
        "id": "IhKb_ZXJpzYj",
        "outputId": "8c55399b-edab-414f-92d4-3cd94926050c"
      },
      "outputs": [
        {
          "name": "stdout",
          "output_type": "stream",
          "text": [
            "<class 'pandas.core.frame.DataFrame'>\n",
            "RangeIndex: 11363762 entries, 0 to 11363761\n",
            "Columns: 144 entries, P_2 to D_145\n",
            "dtypes: float16(144)\n",
            "memory usage: 3.0 GB\n",
            "None\n"
          ]
        }
      ],
      "source": [
        "# Definir las variables a eliminar\n",
        "variables_too_drop = ['D_77', 'S_9', 'D_43', 'S_27', 'D_46']\n",
        "\n",
        "# Eliminar las variables del DataFrame\n",
        "df_numeric_c = df_numeric.drop(columns=variables_too_drop)\n",
        "\n",
        "print(df_numeric_c.info())"
      ]
    },
    {
      "cell_type": "markdown",
      "metadata": {
        "id": "clUoP4uNc1sy"
      },
      "source": [
        "***RESPUESTA CODIGO:***\n",
        "\n",
        "```\n",
        "<class 'pandas.core.frame.DataFrame'>\n",
        "RangeIndex: 11363762 entries, 0 to 11363761\n",
        "Columns: 144 entries, P_2 to D_145\n",
        "dtypes: float16(144)\n",
        "memory usage: 3.0 GB\n",
        "None\n",
        "```\n",
        "\n"
      ]
    },
    {
      "cell_type": "markdown",
      "metadata": {
        "id": "ur0bXSkVJwTQ"
      },
      "source": [
        "## $\\textit{Decisión de Imputación Iterativa Múltiple}$"
      ]
    },
    {
      "cell_type": "code",
      "execution_count": null,
      "metadata": {
        "colab": {
          "base_uri": "https://localhost:8080/"
        },
        "id": "AWVESlGpp2KZ",
        "outputId": "411831d0-3df9-4e6f-83c7-c21979fd08f9"
      },
      "outputs": [
        {
          "name": "stdout",
          "output_type": "stream",
          "text": [
            "Total missing values in df_numeric: 16844462\n"
          ]
        }
      ],
      "source": [
        "missing_count = df_numeric_c.isnull().sum().sum()\n",
        "print('Total missing values in df_numeric: %d' % missing_count)"
      ]
    },
    {
      "cell_type": "markdown",
      "metadata": {
        "id": "RgMFIgECdEM5"
      },
      "source": [
        "***RESPUESTA CODIGO:***\n",
        "\n",
        "```\n",
        "Total missing values in df_numeric: 16844462\n",
        "```\n",
        "\n"
      ]
    },
    {
      "cell_type": "markdown",
      "metadata": {
        "id": "sMc1RnoCJy68"
      },
      "source": [
        "**Decisión sobre la Imputación**\n",
        "\n",
        "Dado el alto volumen de datos a imputar y tras haber probado la imputación iterativa múltiple sin éxito, optamos por analizar las variables de nuestro DataFrame de manera individual antes de proceder con la imputación. No obstante, para aplicar este enfoque, es importante examinar si los valores faltantes (NA's) muestran patrones distintos. Así, podremos evitar posibles complicaciones al modificar cómo se tratan estos NA's.\n"
      ]
    },
    {
      "cell_type": "code",
      "execution_count": null,
      "metadata": {
        "colab": {
          "base_uri": "https://localhost:8080/"
        },
        "id": "vp3jPXr3p4Hr",
        "outputId": "2db4ba34-2232-4eba-a881-d9a947ccb54d"
      },
      "outputs": [
        {
          "name": "stdout",
          "output_type": "stream",
          "text": [
            "Número de variables D_*: 62\n",
            "Número de variables S_*: 19\n",
            "Número de variables P_*: 3\n",
            "Número de variables B_*: 34\n",
            "Número de variables R_*: 26\n"
          ]
        }
      ],
      "source": [
        "d_count = len([col for col in df_numeric_c.columns if col.startswith('D_')])\n",
        "s_count = len([col for col in df_numeric_c.columns if col.startswith('S_')])\n",
        "p_count = len([col for col in df_numeric_c.columns if col.startswith('P_')])\n",
        "b_count = len([col for col in df_numeric_c.columns if col.startswith('B_')])\n",
        "r_count = len([col for col in df_numeric_c.columns if col.startswith('R_')])\n",
        "\n",
        "\n",
        "print(f\"Número de variables D_*: {d_count}\")\n",
        "print(f\"Número de variables S_*: {s_count}\")\n",
        "print(f\"Número de variables P_*: {p_count}\")\n",
        "print(f\"Número de variables B_*: {b_count}\")\n",
        "print(f\"Número de variables R_*: {r_count}\")"
      ]
    },
    {
      "cell_type": "markdown",
      "metadata": {
        "id": "BgjoIZLrdJCl"
      },
      "source": [
        "***RESPUESTA CODIGO:***\n",
        "\n",
        "```\n",
        "Número de variables D_*: 62\n",
        "Número de variables S_*: 19\n",
        "Número de variables P_*: 3\n",
        "Número de variables B_*: 34\n",
        "Número de variables R_*: 26\n",
        "```\n",
        "\n"
      ]
    },
    {
      "cell_type": "code",
      "execution_count": null,
      "metadata": {
        "colab": {
          "base_uri": "https://localhost:8080/"
        },
        "id": "P3338pIlp6AP",
        "outputId": "55edbd8f-71b9-455e-8efc-3da2c39d9824"
      },
      "outputs": [
        {
          "name": "stdout",
          "output_type": "stream",
          "text": [
            "    Variable Type Variable Name  Missing Count  Missing Percentage\n",
            "0               D          D_39              0            0.000000\n",
            "1               D          D_41           2917            0.025669\n",
            "2               D          D_44         538165            4.735800\n",
            "3               D          D_45           2978            0.026206\n",
            "4               D          D_47              0            0.000000\n",
            "..            ...           ...            ...                 ...\n",
            "139             R          R_23              0            0.000000\n",
            "140             R          R_24              0            0.000000\n",
            "141             R          R_25              0            0.000000\n",
            "142             R          R_27         663504            5.838771\n",
            "143             R          R_28              0            0.000000\n",
            "\n",
            "[144 rows x 4 columns]\n"
          ]
        }
      ],
      "source": [
        "# Supongamos que df_numeric_c es tu DataFrame limpio sin las variables eliminadas.\n",
        "variables_types = {\n",
        "    'D': [col for col in df_numeric_c.columns if col.startswith('D_')],\n",
        "    'S': [col for col in df_numeric_c.columns if col.startswith('S_')],\n",
        "    'P': [col for col in df_numeric_c.columns if col.startswith('P_')],\n",
        "    'B': [col for col in df_numeric_c.columns if col.startswith('B_')],\n",
        "    'R': [col for col in df_numeric_c.columns if col.startswith('R_')]\n",
        "}\n",
        "\n",
        "# Crear una lista para almacenar los resultados\n",
        "missing_summary_list = []\n",
        "\n",
        "for var_type, columns in variables_types.items():\n",
        "    for column in columns:\n",
        "        missing_count = df_numeric_c[column].isnull().sum()\n",
        "        missing_percentage = (missing_count / len(df_numeric_c)) * 100\n",
        "        missing_summary_list.append({\n",
        "            'Variable Type': var_type,\n",
        "            'Variable Name': column,\n",
        "            'Missing Count': missing_count,\n",
        "            'Missing Percentage': missing_percentage\n",
        "        })\n",
        "\n",
        "# Crear un DataFrame a partir de la lista\n",
        "missing_summary = pd.DataFrame(missing_summary_list)\n",
        "\n",
        "# Mostrar el resumen de datos faltantes\n",
        "print(missing_summary)"
      ]
    },
    {
      "cell_type": "markdown",
      "metadata": {
        "id": "EIxxDdQedNuh"
      },
      "source": [
        "***RESPUESTA CODIGO:***\n",
        "\n",
        "```\n",
        "    Variable Type Variable Name  Missing Count  Missing Percentage\n",
        "0               D          D_39              0            0.000000\n",
        "1               D          D_41           2917            0.025669\n",
        "2               D          D_44         538165            4.735800\n",
        "3               D          D_45           2978            0.026206\n",
        "4               D          D_47              0            0.000000\n",
        "..            ...           ...            ...                 ...\n",
        "139             R          R_23              0            0.000000\n",
        "140             R          R_24              0            0.000000\n",
        "141             R          R_25              0            0.000000\n",
        "142             R          R_27         663504            5.838771\n",
        "143             R          R_28              0            0.000000\n",
        "\n",
        "[144 rows x 4 columns]\n",
        "```\n",
        "\n"
      ]
    },
    {
      "cell_type": "markdown",
      "metadata": {
        "id": "rBrIZRTlNCVR"
      },
      "source": [
        "$\\textit{Análisis de NA'S por Tipo de Variable}$"
      ]
    },
    {
      "cell_type": "code",
      "execution_count": null,
      "metadata": {
        "colab": {
          "base_uri": "https://localhost:8080/",
          "height": 564
        },
        "id": "rbYF-kaHqJiA",
        "outputId": "bf59b62d-7643-4906-b1ca-a24e5c587fbc"
      },
      "outputs": [
        {
          "data": {
            "image/png": "[encoded data removed]",
            "text/plain": [
              "<Figure size 1200x600 with 1 Axes>"
            ]
          },
          "metadata": {},
          "output_type": "display_data"
        }
      ],
      "source": [
        "plt.figure(figsize=(12, 6))\n",
        "sns.boxplot(x='Variable Type', y='Missing Percentage', data=missing_summary, color=\"darkorange\")\n",
        "plt.xlabel('Tipo de Variable')\n",
        "plt.title('Porcentaje de Datos Faltantes por Tipo de Variable')\n",
        "plt.show()"
      ]
    },
    {
      "cell_type": "markdown",
      "metadata": {
        "id": "KhlvkzsLdcZl"
      },
      "source": [
        "***RESPUESTA CODIGO:***\n",
        "\n",
        "![image.png](data:image/png;base64,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)\n"
      ]
    },
    {
      "cell_type": "markdown",
      "metadata": {
        "id": "URPky6cmNh0W"
      },
      "source": [
        "Podemos observar que el comportamiento de los datos faltantes varía según la categoría de variable:\n",
        "\n",
        "- **D (Datos Generales)**: Presenta un rango amplio de datos faltantes con varios valores atípicos. Esto indica que algunas variables dentro de esta categoría tienen problemas significativos con la falta de datos.\n",
        "  \n",
        "- **S (Seguridad)**: Tiene un porcentaje bajo de datos faltantes, lo que sugiere que la mayoría de las variables en esta categoría tienen datos relativamente completos.\n",
        "\n",
        "- **P (Personales)** y **B (Balance)**: Estas categorías muestran una cantidad muy baja de datos faltantes, lo que indica una alta integridad de los datos.\n",
        "\n",
        "- **R (Registros)**: Similar a las categorías **P** y **B**, los datos faltantes son mínimos, sugiriendo que no hay problemas considerables de datos faltantes en esta categoría.\n",
        "\n",
        "Validaremos estadísticamente estas diferencias usando una prueba de Chi-cuadrado para determinar si las proporciones de datos faltantes varían significativamente entre categorías."
      ]
    },
    {
      "cell_type": "markdown",
      "metadata": {
        "id": "4kkhScp9Nuuq"
      },
      "source": [
        "## $\\textbf{\\textit{Test de Chi cuadrado}}$"
      ]
    },
    {
      "cell_type": "markdown",
      "metadata": {
        "id": "YDzTufrGNwac"
      },
      "source": [
        "\n",
        "$\\textit{Hipótesis nula (H₀):}$\n",
        "*No hay diferencias significativas en la distribución de los valores faltantes entre las diferentes variables. Por lo tanto, los datos faltantes pueden ser imputados de manera conjunta.*\n",
        "\n",
        "$\\textit{Hipótesis alternativa (H₁):}$\n",
        "*Existen diferencias significativas en la distribución de los valores faltantes entre las diferentes variables. Por lo tanto, los datos faltantes se pueden imputar de manera iterativa y por separado.*"
      ]
    },
    {
      "cell_type": "code",
      "execution_count": null,
      "metadata": {
        "colab": {
          "base_uri": "https://localhost:8080/"
        },
        "id": "VG-nRq2mqM1N",
        "outputId": "fc478fe5-a5e0-4158-9566-b267882d7b8b"
      },
      "outputs": [
        {
          "name": "stdout",
          "output_type": "stream",
          "text": [
            "  Type   Missing  Total     Proportion\n",
            "0    B    229460     34    6748.823529\n",
            "1    D  11793208     62  190213.032258\n",
            "2    P    508457      3  169485.666667\n",
            "3    R    663504     26   25519.384615\n",
            "4    S   3649833     19  192096.473684\n"
          ]
        }
      ],
      "source": [
        "from scipy.stats import chi2_contingency\n",
        "\n",
        "missing_counts = missing_summary.groupby('Variable Type')['Missing Count'].sum()\n",
        "total_counts = missing_summary.groupby('Variable Type')['Variable Name'].count()\n",
        "\n",
        "# Calcular la proporción de datos faltantes\n",
        "missing_proportions = (missing_counts / total_counts).reset_index(name='Proportion')\n",
        "\n",
        "# Crear una tabla de contingencia\n",
        "contingency_table = pd.DataFrame({\n",
        "    'Type': missing_proportions['Variable Type'],\n",
        "    'Missing': missing_counts.values,\n",
        "    'Total': total_counts.values,\n",
        "    'Proportion': missing_proportions['Proportion']\n",
        "})\n",
        "\n",
        "print(contingency_table)"
      ]
    },
    {
      "cell_type": "markdown",
      "metadata": {
        "id": "u5EEIfvQdkO6"
      },
      "source": [
        "***RESPUESTA CODIGO:***\n",
        "\n",
        "```\n",
        "  Type   Missing  Total     Proportion\n",
        "0    B    229460     34    6748.823529\n",
        "1    D  11793208     62  190213.032258\n",
        "2    P    508457      3  169485.666667\n",
        "3    R    663504     26   25519.384615\n",
        "4    S   3649833     19  192096.473684\n",
        "```\n",
        "\n"
      ]
    },
    {
      "cell_type": "code",
      "execution_count": null,
      "metadata": {
        "colab": {
          "base_uri": "https://localhost:8080/"
        },
        "id": "deOPCBo-qPg0",
        "outputId": "60ba35b6-2f00-4c95-d261-f0058e96e212"
      },
      "outputs": [
        {
          "name": "stdout",
          "output_type": "stream",
          "text": [
            "Chi-cuadrado: 616.1789\n",
            "Valor p: 0.0000\n",
            "Las diferencias en los porcentajes de datos faltantes son estadísticamente significativas.\n"
          ]
        }
      ],
      "source": [
        "# Crear una tabla de contingencia para la prueba de Chi-cuadrado\n",
        "observed = contingency_table[['Missing', 'Total']].values\n",
        "\n",
        "# Aplicar la prueba de Chi-cuadrado\n",
        "chi2, p_value, _, _ = chi2_contingency(observed)\n",
        "\n",
        "print(f\"Chi-cuadrado: {chi2:.4f}\")\n",
        "print(f\"Valor p: {p_value:.4f}\")\n",
        "\n",
        "if p_value < 0.05:\n",
        "    print(\"Las diferencias en los porcentajes de datos faltantes son estadísticamente significativas.\")\n",
        "else:\n",
        "    print(\"No hay diferencias estadísticamente significativas en los porcentajes de datos faltantes.\")"
      ]
    },
    {
      "cell_type": "markdown",
      "metadata": {
        "id": "YyMYbnS5dq26"
      },
      "source": [
        "***RESPUESTA CODIGO:***\n",
        "\n",
        "```\n",
        "Chi-cuadrado: 616.1789\n",
        "Valor p: 0.0000\n",
        "Las diferencias en los porcentajes de datos faltantes son estadísticamente significativas.\n",
        "```\n",
        "\n"
      ]
    },
    {
      "cell_type": "markdown",
      "metadata": {
        "id": "j8Av2uz3OrC0"
      },
      "source": [
        "**Análisis de Datos Faltantes y Resultados del Test Chi-Cuadrado**\n",
        "\n",
        "El test Chi-cuadrado ha dado un estadístico de **616.1789** y un valor p de **0.0000**, lo que indica que existen diferencias significativas en los porcentajes de datos faltantes entre los diferentes tipos de variables.\n",
        "\n",
        "Dado que el valor p es menor a **0.05**, rechazamos la hipótesis nula (H₀), lo que confirma que el patrón de los datos faltantes varía entre los distintos tipos de variables.\n",
        "\n",
        "**Conclusión:**\n",
        "Los resultados del test Chi-cuadrado muestran que las diferencias en los porcentajes de datos faltantes entre los tipos de variables son significativas. Esto sugiere que es recomendable abordar la imputación de los datos faltantes de manera separada para cada tipo de variable, teniendo en cuenta sus características particulares, para evitar introducir sesgos en los análisis posteriores."
      ]
    },
    {
      "cell_type": "markdown",
      "metadata": {
        "id": "zwBW8lmaO3tf"
      },
      "source": [
        "$\\textit{Imputación iterativa múltiple}$"
      ]
    },
    {
      "cell_type": "code",
      "execution_count": null,
      "metadata": {
        "colab": {
          "base_uri": "https://localhost:8080/"
        },
        "id": "sOr6BCspqSbT",
        "outputId": "b037d3e1-d8d4-48e7-cb4b-1e4dc5c0b743"
      },
      "outputs": [
        {
          "name": "stdout",
          "output_type": "stream",
          "text": [
            "Missing after imputation: 0\n"
          ]
        }
      ],
      "source": [
        "# Imputación Iterativa por separado\n",
        "def impute_variables(df, variables):\n",
        "    imputer = IterativeImputer(n_nearest_features=None, imputation_order='ascending')\n",
        "    data = df[variables].values\n",
        "    imputed_data = imputer.fit_transform(data)\n",
        "    return pd.DataFrame(imputed_data, columns=variables)\n",
        "\n",
        "# Imputar cada tipo de variable\n",
        "df_s_imputed = impute_variables(df_numeric_c, variables_types['S'])\n",
        "df_p_imputed = impute_variables(df_numeric_c, variables_types['P'])\n",
        "df_b_imputed = impute_variables(df_numeric_c, variables_types['B'])\n",
        "df_r_imputed = impute_variables(df_numeric_c, variables_types['R'])\n",
        "\n",
        "# Combinar los DataFrames imputados\n",
        "df_imputed = pd.concat([df_s_imputed, df_p_imputed, df_b_imputed, df_r_imputed], axis=1)\n",
        "\n",
        "missing_count = sum(np.isnan(df_imputed.values.flatten()))\n",
        "print('Missing after imputation: %d' % missing_count)\n",
        "\n"
      ]
    },
    {
      "cell_type": "markdown",
      "metadata": {
        "id": "f-0qV6zJdxBo"
      },
      "source": [
        "***RESPUESTA CODIGO:***\n",
        "\n",
        "```\n",
        "Missing after imputation: 0\n",
        "```\n",
        "\n"
      ]
    },
    {
      "cell_type": "markdown",
      "metadata": {
        "id": "PbptV7ULO6uM"
      },
      "source": [
        "##  $\\textit{Método de Imputación por Media/Mediana}$"
      ]
    },
    {
      "cell_type": "code",
      "execution_count": null,
      "metadata": {
        "id": "cvpTpNHzw3pF"
      },
      "outputs": [],
      "source": [
        "variables_d = variables_types['D']\n",
        "df_d = df_numeric_c[variables_d]"
      ]
    },
    {
      "cell_type": "markdown",
      "metadata": {
        "id": "uBlW8GBYO-zs"
      },
      "source": [
        "$\\textit{Planteamiento de Hipótesis para la Prueba de Kolmogorov-Smirnov}$\n",
        "\n",
        "$\\textit{Hipótesis Nula (H0):}$\n",
        "La distribución de los datos de la variable \\(D_* \\) es normal. Esto significa que podemos imputar los datos faltantes utilizando la **media**.\n",
        "\n",
        "$\\textit{Hipótesis Alternativa (H1):}$\n",
        "La distribución de los datos de la variable \\(D_* \\) no es normal. Esto indica que debemos imputar los datos faltantes utilizando la **mediana**.\n",
        "\n",
        "$\\textit{Decisión:}$\n",
        "- Si el valor p de la prueba de Kolmogorov-Smirnov es mayor que 0.05, no rechazamos la hipótesis nula (H0) y consideramos que la media es un método adecuado para la imputación.\n",
        "- Si el valor p es menor o igual a 0.05, rechazamos la hipótesis nula (H0) y aceptamos la hipótesis alternativa (H1), utilizando la mediana para la imputación de datos faltantes.\n"
      ]
    },
    {
      "cell_type": "code",
      "execution_count": null,
      "metadata": {
        "colab": {
          "base_uri": "https://localhost:8080/"
        },
        "id": "rfDNaFUxw5mV",
        "outputId": "de15e0d3-6c53-4ed5-9968-fd6790874613"
      },
      "outputs": [
        {
          "name": "stderr",
          "output_type": "stream",
          "text": [
            "/usr/local/lib/python3.10/dist-packages/pandas/core/nanops.py:1487: RuntimeWarning: overflow encountered in cast\n",
            "  return dtype.type(n)\n",
            "/usr/local/lib/python3.10/dist-packages/numpy/core/_methods.py:49: RuntimeWarning: overflow encountered in reduce\n",
            "  return umr_sum(a, axis, dtype, out, keepdims, initial, where)\n",
            "/usr/local/lib/python3.10/dist-packages/pandas/core/nanops.py:731: RuntimeWarning: invalid value encountered in scalar divide\n",
            "  the_mean = the_sum / count if count > 0 else np.nan\n",
            "/usr/local/lib/python3.10/dist-packages/pandas/core/nanops.py:1016: RuntimeWarning: overflow encountered in square\n",
            "  sqr = _ensure_numeric((avg - values) ** 2)\n",
            "/usr/local/lib/python3.10/dist-packages/pandas/core/nanops.py:1019: RuntimeWarning: invalid value encountered in scalar divide\n",
            "  result = sqr.sum(axis=axis, dtype=np.float64) / d\n"
          ]
        },
        {
          "name": "stdout",
          "output_type": "stream",
          "text": [
            "      KS Statistic p-value Imputation Method\n",
            "D_39           NaN     NaN           Mediana\n",
            "D_41           NaN     NaN           Mediana\n",
            "D_44           NaN     NaN           Mediana\n",
            "D_45           NaN     NaN           Mediana\n",
            "D_47           NaN     NaN           Mediana\n",
            "...            ...     ...               ...\n",
            "D_140          NaN     NaN           Mediana\n",
            "D_141          NaN     NaN           Mediana\n",
            "D_143          NaN     NaN           Mediana\n",
            "D_144          NaN     NaN           Mediana\n",
            "D_145          NaN     NaN           Mediana\n",
            "\n",
            "[62 rows x 3 columns]\n"
          ]
        }
      ],
      "source": [
        "ks_results = {}\n",
        "\n",
        "for variable in df_d.columns:\n",
        "    values = df_d[variable].dropna()\n",
        "\n",
        "    normal_sample = np.random.normal(loc=np.mean(values), scale=np.std(values), size=len(values))\n",
        "    statistic, p_value = ks_2samp(values, normal_sample)\n",
        "\n",
        "    ks_results[variable] = {\n",
        "        'KS Statistic': statistic,\n",
        "        'p-value': p_value,\n",
        "        'Imputation Method': 'Media' if p_value > 0.05 else 'Mediana'\n",
        "    }\n",
        "\n",
        "ks_results_df = pd.DataFrame(ks_results).T\n",
        "print(ks_results_df)"
      ]
    },
    {
      "cell_type": "markdown",
      "metadata": {
        "id": "rKDy-SM9d2l5"
      },
      "source": [
        "***RESPUESTA CODIGO:***\n",
        "\n",
        "```\n",
        "\n",
        "      KS Statistic p-value Imputation Method\n",
        "D_39           NaN     NaN           Mediana\n",
        "D_41           NaN     NaN           Mediana\n",
        "D_44           NaN     NaN           Mediana\n",
        "D_45           NaN     NaN           Mediana\n",
        "D_47           NaN     NaN           Mediana\n",
        "...            ...     ...               ...\n",
        "D_140          NaN     NaN           Mediana\n",
        "D_141          NaN     NaN           Mediana\n",
        "D_143          NaN     NaN           Mediana\n",
        "D_144          NaN     NaN           Mediana\n",
        "D_145          NaN     NaN           Mediana\n",
        "\n",
        "[62 rows x 3 columns]\n",
        "```\n",
        "\n"
      ]
    },
    {
      "cell_type": "code",
      "execution_count": null,
      "metadata": {
        "colab": {
          "base_uri": "https://localhost:8080/"
        },
        "id": "O0POKqjFw71k",
        "outputId": "a67a42da-21ec-4be8-d16a-6cf40dcac95c"
      },
      "outputs": [
        {
          "name": "stdout",
          "output_type": "stream",
          "text": [
            "Imputation Method\n",
            "Mediana    62\n",
            "Name: count, dtype: int64\n"
          ]
        }
      ],
      "source": [
        "imputation_summary = ks_results_df['Imputation Method'].value_counts()\n",
        "\n",
        "print(imputation_summary)"
      ]
    },
    {
      "cell_type": "markdown",
      "metadata": {
        "id": "-VZPNgC2eATQ"
      },
      "source": [
        "***RESPUESTA CODIGO:***\n",
        "\n",
        "```\n",
        "Imputation Method\n",
        "Mediana    62\n",
        "Name: count, dtype: int64\n",
        "```\n",
        "\n"
      ]
    },
    {
      "cell_type": "markdown",
      "metadata": {
        "id": "_wVM872qPCMr"
      },
      "source": [
        "Podemos observar que, durante la prueba de Kolmogorov-Smirnov, todas las variables que corresponden a D indican que se deben reemplazar los datos faltantes con la mediana."
      ]
    },
    {
      "cell_type": "markdown",
      "metadata": {
        "id": "zgBF3uaGPFAz"
      },
      "source": [
        "## $\\textit{Prueba de Anderson-Darling}$"
      ]
    },
    {
      "cell_type": "code",
      "execution_count": null,
      "metadata": {
        "id": "9adQO-jkw_21"
      },
      "outputs": [],
      "source": [
        "from scipy.stats import anderson"
      ]
    },
    {
      "cell_type": "code",
      "execution_count": null,
      "metadata": {
        "colab": {
          "base_uri": "https://localhost:8080/"
        },
        "id": "0DynbJNdw_e5",
        "outputId": "4ee53bab-9252-4017-f088-7298469a1c7a"
      },
      "outputs": [
        {
          "name": "stderr",
          "output_type": "stream",
          "text": [
            "/usr/local/lib/python3.10/dist-packages/pandas/core/nanops.py:1487: RuntimeWarning: overflow encountered in cast\n",
            "  return dtype.type(n)\n",
            "/usr/local/lib/python3.10/dist-packages/numpy/core/_methods.py:49: RuntimeWarning: overflow encountered in reduce\n",
            "  return umr_sum(a, axis, dtype, out, keepdims, initial, where)\n",
            "/usr/local/lib/python3.10/dist-packages/pandas/core/nanops.py:731: RuntimeWarning: invalid value encountered in scalar divide\n",
            "  the_mean = the_sum / count if count > 0 else np.nan\n",
            "/usr/local/lib/python3.10/dist-packages/pandas/core/nanops.py:1016: RuntimeWarning: overflow encountered in square\n",
            "  sqr = _ensure_numeric((avg - values) ** 2)\n",
            "/usr/local/lib/python3.10/dist-packages/pandas/core/nanops.py:1019: RuntimeWarning: invalid value encountered in scalar divide\n",
            "  result = sqr.sum(axis=axis, dtype=np.float64) / d\n"
          ]
        },
        {
          "name": "stdout",
          "output_type": "stream",
          "text": [
            "      Anderson-Darling Statistic                      Critical Values  \\\n",
            "D_39                         NaN  [0.576, 0.656, 0.787, 0.918, 1.092]   \n",
            "D_41                         NaN  [0.576, 0.656, 0.787, 0.918, 1.092]   \n",
            "D_44                         NaN  [0.576, 0.656, 0.787, 0.918, 1.092]   \n",
            "D_45                         NaN  [0.576, 0.656, 0.787, 0.918, 1.092]   \n",
            "D_47                         NaN  [0.576, 0.656, 0.787, 0.918, 1.092]   \n",
            "...                          ...                                  ...   \n",
            "D_140                        NaN  [0.576, 0.656, 0.787, 0.918, 1.092]   \n",
            "D_141                        NaN  [0.576, 0.656, 0.787, 0.918, 1.092]   \n",
            "D_143                        NaN  [0.576, 0.656, 0.787, 0.918, 1.092]   \n",
            "D_144                        NaN  [0.576, 0.656, 0.787, 0.918, 1.092]   \n",
            "D_145                        NaN  [0.576, 0.656, 0.787, 0.918, 1.092]   \n",
            "\n",
            "                Significance Level  \n",
            "D_39   [15.0, 10.0, 5.0, 2.5, 1.0]  \n",
            "D_41   [15.0, 10.0, 5.0, 2.5, 1.0]  \n",
            "D_44   [15.0, 10.0, 5.0, 2.5, 1.0]  \n",
            "D_45   [15.0, 10.0, 5.0, 2.5, 1.0]  \n",
            "D_47   [15.0, 10.0, 5.0, 2.5, 1.0]  \n",
            "...                            ...  \n",
            "D_140  [15.0, 10.0, 5.0, 2.5, 1.0]  \n",
            "D_141  [15.0, 10.0, 5.0, 2.5, 1.0]  \n",
            "D_143  [15.0, 10.0, 5.0, 2.5, 1.0]  \n",
            "D_144  [15.0, 10.0, 5.0, 2.5, 1.0]  \n",
            "D_145  [15.0, 10.0, 5.0, 2.5, 1.0]  \n",
            "\n",
            "[62 rows x 3 columns]\n",
            "La variable D_39 NO sigue una distribución normal (AD Statistic: nan)\n",
            "La variable D_41 NO sigue una distribución normal (AD Statistic: nan)\n",
            "La variable D_44 NO sigue una distribución normal (AD Statistic: nan)\n",
            "La variable D_45 NO sigue una distribución normal (AD Statistic: nan)\n",
            "La variable D_47 NO sigue una distribución normal (AD Statistic: nan)\n",
            "La variable D_48 NO sigue una distribución normal (AD Statistic: nan)\n",
            "La variable D_51 NO sigue una distribución normal (AD Statistic: nan)\n",
            "La variable D_52 NO sigue una distribución normal (AD Statistic: nan)\n",
            "La variable D_54 NO sigue una distribución normal (AD Statistic: nan)\n",
            "La variable D_55 NO sigue una distribución normal (AD Statistic: nan)\n",
            "La variable D_58 NO sigue una distribución normal (AD Statistic: nan)\n",
            "La variable D_59 NO sigue una distribución normal (AD Statistic: nan)\n",
            "La variable D_60 NO sigue una distribución normal (AD Statistic: nan)\n",
            "La variable D_61 NO sigue una distribución normal (AD Statistic: nan)\n",
            "La variable D_62 NO sigue una distribución normal (AD Statistic: nan)\n",
            "La variable D_65 NO sigue una distribución normal (AD Statistic: nan)\n",
            "La variable D_69 NO sigue una distribución normal (AD Statistic: nan)\n",
            "La variable D_70 NO sigue una distribución normal (AD Statistic: nan)\n",
            "La variable D_71 NO sigue una distribución normal (AD Statistic: nan)\n",
            "La variable D_72 NO sigue una distribución normal (AD Statistic: nan)\n",
            "La variable D_74 NO sigue una distribución normal (AD Statistic: nan)\n",
            "La variable D_75 NO sigue una distribución normal (AD Statistic: nan)\n",
            "La variable D_78 NO sigue una distribución normal (AD Statistic: nan)\n",
            "La variable D_79 NO sigue una distribución normal (AD Statistic: nan)\n",
            "La variable D_80 NO sigue una distribución normal (AD Statistic: nan)\n",
            "La variable D_81 NO sigue una distribución normal (AD Statistic: nan)\n",
            "La variable D_83 NO sigue una distribución normal (AD Statistic: nan)\n",
            "La variable D_84 NO sigue una distribución normal (AD Statistic: nan)\n",
            "La variable D_86 NO sigue una distribución normal (AD Statistic: nan)\n",
            "La variable D_89 NO sigue una distribución normal (AD Statistic: nan)\n",
            "La variable D_91 NO sigue una distribución normal (AD Statistic: nan)\n",
            "La variable D_92 NO sigue una distribución normal (AD Statistic: nan)\n",
            "La variable D_93 NO sigue una distribución normal (AD Statistic: nan)\n",
            "La variable D_94 NO sigue una distribución normal (AD Statistic: nan)\n",
            "La variable D_96 NO sigue una distribución normal (AD Statistic: nan)\n",
            "La variable D_102 NO sigue una distribución normal (AD Statistic: nan)\n",
            "La variable D_103 NO sigue una distribución normal (AD Statistic: nan)\n",
            "La variable D_104 NO sigue una distribución normal (AD Statistic: nan)\n",
            "La variable D_107 NO sigue una distribución normal (AD Statistic: nan)\n",
            "La variable D_109 NO sigue una distribución normal (AD Statistic: nan)\n",
            "La variable D_112 NO sigue una distribución normal (AD Statistic: nan)\n",
            "La variable D_113 NO sigue una distribución normal (AD Statistic: nan)\n",
            "La variable D_115 NO sigue una distribución normal (AD Statistic: nan)\n",
            "La variable D_118 NO sigue una distribución normal (AD Statistic: nan)\n",
            "La variable D_119 NO sigue una distribución normal (AD Statistic: nan)\n",
            "La variable D_121 NO sigue una distribución normal (AD Statistic: nan)\n",
            "La variable D_122 NO sigue una distribución normal (AD Statistic: nan)\n",
            "La variable D_123 NO sigue una distribución normal (AD Statistic: nan)\n",
            "La variable D_124 NO sigue una distribución normal (AD Statistic: nan)\n",
            "La variable D_125 NO sigue una distribución normal (AD Statistic: nan)\n",
            "La variable D_127 NO sigue una distribución normal (AD Statistic: nan)\n",
            "La variable D_128 NO sigue una distribución normal (AD Statistic: nan)\n",
            "La variable D_129 NO sigue una distribución normal (AD Statistic: nan)\n",
            "La variable D_130 NO sigue una distribución normal (AD Statistic: nan)\n",
            "La variable D_131 NO sigue una distribución normal (AD Statistic: nan)\n",
            "La variable D_133 NO sigue una distribución normal (AD Statistic: nan)\n",
            "La variable D_139 NO sigue una distribución normal (AD Statistic: nan)\n",
            "La variable D_140 NO sigue una distribución normal (AD Statistic: nan)\n",
            "La variable D_141 NO sigue una distribución normal (AD Statistic: nan)\n",
            "La variable D_143 NO sigue una distribución normal (AD Statistic: nan)\n",
            "La variable D_144 NO sigue una distribución normal (AD Statistic: nan)\n",
            "La variable D_145 NO sigue una distribución normal (AD Statistic: nan)\n"
          ]
        }
      ],
      "source": [
        "normality_results = {}\n",
        "\n",
        "for variable in df_d.columns:\n",
        "    values = df_d[variable].dropna()\n",
        "\n",
        "    # Realizar la prueba de Anderson-Darling\n",
        "    statistic, critical_values, significance_level = anderson(values, dist='norm')\n",
        "\n",
        "    normality_results[variable] = {\n",
        "        'Anderson-Darling Statistic': statistic,\n",
        "        'Critical Values': critical_values,\n",
        "        'Significance Level': significance_level\n",
        "    }\n",
        "\n",
        "normality_results_df = pd.DataFrame(normality_results).T\n",
        "print(normality_results_df)\n",
        "\n",
        "for variable in normality_results:\n",
        "    statistic = normality_results[variable]['Anderson-Darling Statistic']\n",
        "    critical_values = normality_results[variable]['Critical Values']\n",
        "\n",
        "    if statistic < critical_values[0]:\n",
        "        print(f'La variable {variable} SI sigue una distribución normal (AD Statistic: {statistic:.4f})')\n",
        "    else:\n",
        "        print(f'La variable {variable} NO sigue una distribución normal (AD Statistic: {statistic:.4f})')"
      ]
    },
    {
      "cell_type": "markdown",
      "metadata": {
        "id": "8IskQieFeF0Z"
      },
      "source": [
        "***RESPUESTA CODIGO:***\n",
        "\n",
        "```\n",
        "      Anderson-Darling Statistic                      Critical Values  \\\n",
        "D_39                         NaN  [0.576, 0.656, 0.787, 0.918, 1.092]   \n",
        "D_41                         NaN  [0.576, 0.656, 0.787, 0.918, 1.092]   \n",
        "D_44                         NaN  [0.576, 0.656, 0.787, 0.918, 1.092]   \n",
        "D_45                         NaN  [0.576, 0.656, 0.787, 0.918, 1.092]   \n",
        "D_47                         NaN  [0.576, 0.656, 0.787, 0.918, 1.092]   \n",
        "...                          ...                                  ...   \n",
        "D_140                        NaN  [0.576, 0.656, 0.787, 0.918, 1.092]   \n",
        "D_141                        NaN  [0.576, 0.656, 0.787, 0.918, 1.092]   \n",
        "D_143                        NaN  [0.576, 0.656, 0.787, 0.918, 1.092]   \n",
        "D_144                        NaN  [0.576, 0.656, 0.787, 0.918, 1.092]   \n",
        "D_145                        NaN  [0.576, 0.656, 0.787, 0.918, 1.092]   \n",
        "\n",
        "                Significance Level  \n",
        "D_39   [15.0, 10.0, 5.0, 2.5, 1.0]  \n",
        "D_41   [15.0, 10.0, 5.0, 2.5, 1.0]  \n",
        "D_44   [15.0, 10.0, 5.0, 2.5, 1.0]  \n",
        "D_45   [15.0, 10.0, 5.0, 2.5, 1.0]  \n",
        "D_47   [15.0, 10.0, 5.0, 2.5, 1.0]  \n",
        "...                            ...  \n",
        "D_140  [15.0, 10.0, 5.0, 2.5, 1.0]  \n",
        "D_141  [15.0, 10.0, 5.0, 2.5, 1.0]  \n",
        "D_143  [15.0, 10.0, 5.0, 2.5, 1.0]  \n",
        "D_144  [15.0, 10.0, 5.0, 2.5, 1.0]  \n",
        "D_145  [15.0, 10.0, 5.0, 2.5, 1.0]  \n",
        "\n",
        "[62 rows x 3 columns]\n",
        "La variable D_39 NO sigue una distribución normal (AD Statistic: nan)\n",
        "La variable D_41 NO sigue una distribución normal (AD Statistic: nan)\n",
        "La variable D_44 NO sigue una distribución normal (AD Statistic: nan)\n",
        "La variable D_45 NO sigue una distribución normal (AD Statistic: nan)\n",
        "La variable D_47 NO sigue una distribución normal (AD Statistic: nan)\n",
        "La variable D_48 NO sigue una distribución normal (AD Statistic: nan)\n",
        "La variable D_51 NO sigue una distribución normal (AD Statistic: nan)\n",
        "La variable D_52 NO sigue una distribución normal (AD Statistic: nan)\n",
        "La variable D_54 NO sigue una distribución normal (AD Statistic: nan)\n",
        "La variable D_55 NO sigue una distribución normal (AD Statistic: nan)\n",
        "La variable D_58 NO sigue una distribución normal (AD Statistic: nan)\n",
        "La variable D_59 NO sigue una distribución normal (AD Statistic: nan)\n",
        "La variable D_60 NO sigue una distribución normal (AD Statistic: nan)\n",
        "La variable D_61 NO sigue una distribución normal (AD Statistic: nan)\n",
        "La variable D_62 NO sigue una distribución normal (AD Statistic: nan)\n",
        "La variable D_65 NO sigue una distribución normal (AD Statistic: nan)\n",
        "La variable D_69 NO sigue una distribución normal (AD Statistic: nan)\n",
        "La variable D_70 NO sigue una distribución normal (AD Statistic: nan)\n",
        "La variable D_71 NO sigue una distribución normal (AD Statistic: nan)\n",
        "La variable D_72 NO sigue una distribución normal (AD Statistic: nan)\n",
        "La variable D_74 NO sigue una distribución normal (AD Statistic: nan)\n",
        "La variable D_75 NO sigue una distribución normal (AD Statistic: nan)\n",
        "La variable D_78 NO sigue una distribución normal (AD Statistic: nan)\n",
        "La variable D_79 NO sigue una distribución normal (AD Statistic: nan)\n",
        "La variable D_80 NO sigue una distribución normal (AD Statistic: nan)\n",
        "La variable D_81 NO sigue una distribución normal (AD Statistic: nan)\n",
        "La variable D_83 NO sigue una distribución normal (AD Statistic: nan)\n",
        "La variable D_84 NO sigue una distribución normal (AD Statistic: nan)\n",
        "La variable D_86 NO sigue una distribución normal (AD Statistic: nan)\n",
        "La variable D_89 NO sigue una distribución normal (AD Statistic: nan)\n",
        "La variable D_91 NO sigue una distribución normal (AD Statistic: nan)\n",
        "La variable D_92 NO sigue una distribución normal (AD Statistic: nan)\n",
        "La variable D_93 NO sigue una distribución normal (AD Statistic: nan)\n",
        "La variable D_94 NO sigue una distribución normal (AD Statistic: nan)\n",
        "La variable D_96 NO sigue una distribución normal (AD Statistic: nan)\n",
        "La variable D_102 NO sigue una distribución normal (AD Statistic: nan)\n",
        "La variable D_103 NO sigue una distribución normal (AD Statistic: nan)\n",
        "La variable D_104 NO sigue una distribución normal (AD Statistic: nan)\n",
        "La variable D_107 NO sigue una distribución normal (AD Statistic: nan)\n",
        "La variable D_109 NO sigue una distribución normal (AD Statistic: nan)\n",
        "La variable D_112 NO sigue una distribución normal (AD Statistic: nan)\n",
        "La variable D_113 NO sigue una distribución normal (AD Statistic: nan)\n",
        "La variable D_115 NO sigue una distribución normal (AD Statistic: nan)\n",
        "La variable D_118 NO sigue una distribución normal (AD Statistic: nan)\n",
        "La variable D_119 NO sigue una distribución normal (AD Statistic: nan)\n",
        "La variable D_121 NO sigue una distribución normal (AD Statistic: nan)\n",
        "La variable D_122 NO sigue una distribución normal (AD Statistic: nan)\n",
        "La variable D_123 NO sigue una distribución normal (AD Statistic: nan)\n",
        "La variable D_124 NO sigue una distribución normal (AD Statistic: nan)\n",
        "La variable D_125 NO sigue una distribución normal (AD Statistic: nan)\n",
        "La variable D_127 NO sigue una distribución normal (AD Statistic: nan)\n",
        "La variable D_128 NO sigue una distribución normal (AD Statistic: nan)\n",
        "La variable D_129 NO sigue una distribución normal (AD Statistic: nan)\n",
        "La variable D_130 NO sigue una distribución normal (AD Statistic: nan)\n",
        "La variable D_131 NO sigue una distribución normal (AD Statistic: nan)\n",
        "La variable D_133 NO sigue una distribución normal (AD Statistic: nan)\n",
        "La variable D_139 NO sigue una distribución normal (AD Statistic: nan)\n",
        "La variable D_140 NO sigue una distribución normal (AD Statistic: nan)\n",
        "La variable D_141 NO sigue una distribución normal (AD Statistic: nan)\n",
        "La variable D_143 NO sigue una distribución normal (AD Statistic: nan)\n",
        "La variable D_144 NO sigue una distribución normal (AD Statistic: nan)\n",
        "La variable D_145 NO sigue una distribución normal (AD Statistic: nan)\n",
        "```\n",
        "\n"
      ]
    },
    {
      "cell_type": "markdown",
      "metadata": {
        "id": "Pt6MBpThPfrj"
      },
      "source": [
        "## $\\textit{Análisis de Resultados}$\n",
        "\n",
        "La prueba de Anderson-Darling es utilizada para verificar si los datos de ciertas variables siguen una distribución normal.\n",
        "\n",
        "## $\\textit{Resultados de la Prueba}$\n",
        "\n",
        "- **Estadística de Anderson-Darling**: Esta estadística mide qué tan alejados están los datos de una distribución normal. En este caso, las variables analizadas tienen un valor de NaN (no disponible), lo que indica que los datos no siguen una distribución normal.\n",
        "\n",
        "- **Valores Críticos**: Los valores críticos varían según los niveles de significancia (15%, 10%, 5%, 2.5%, y 1%) y ayudan a determinar si hay una desviación significativa de la normalidad.\n",
        "\n",
        "## $\\textit{Conclusiones}$\n",
        "\n",
        "- **Todas las variables analizadas presentan una estadística de Anderson-Darling de NaN**, lo que sugiere que **ninguna de estas variables sigue una distribución normal**.\n",
        "\n",
        "## $\\textit{Implicaciones}$\n",
        "\n",
        "Dado que los resultados muestran que ninguna de las variables sigue una distribución normal, sería inapropiado aplicar métodos de imputación que asuman normalidad, como la imputación basada en la media. Por lo tanto, se deben considerar métodos de imputación más robustos, como la mediana o imputación basada en distribuciones no paramétricas.\n",
        "\n"
      ]
    },
    {
      "cell_type": "markdown",
      "metadata": {
        "id": "UOeyPbycSlfY"
      },
      "source": [
        "Obtienes `NaN` en los resultados de las pruebas debido a problemas relacionados con **desbordamiento numérico** y **operaciones inválidas** con los valores de tus datos. Esto ocurre cuando los valores numéricos que estás manipulando son **extremadamente grandes o extremadamente pequeños**, lo que lleva a que las operaciones aritméticas, como la suma, la media o la varianza, no se realicen correctamente. Cuando el rango numérico excede los límites que los tipos de datos pueden manejar, se producen desbordamientos que generan resultados inválidos como `NaN`."
      ]
    },
    {
      "cell_type": "code",
      "execution_count": null,
      "metadata": {
        "colab": {
          "base_uri": "https://localhost:8080/"
        },
        "id": "ICmNH_bcxGB5",
        "outputId": "0983b55c-b68c-4e36-fb69-e0b8a630a038"
      },
      "outputs": [
        {
          "name": "stdout",
          "output_type": "stream",
          "text": [
            "Total missing values in df_numeric: 0\n"
          ]
        }
      ],
      "source": [
        "missing_count = df_imputed.isnull().sum().sum()\n",
        "print('Total missing values in df_numeric: %d' % missing_count)"
      ]
    },
    {
      "cell_type": "markdown",
      "metadata": {
        "id": "4SvRmTuNeLR2"
      },
      "source": [
        "***RESPUESTA CODIGO:***\n",
        "\n",
        "```\n",
        "Total missing values in df_numeric: 0\n",
        "```\n",
        "\n"
      ]
    },
    {
      "cell_type": "markdown",
      "metadata": {
        "id": "47of07OwSrZN"
      },
      "source": [
        "Vemos que nuestro DataFrame, que contiene las variables:\n",
        "\n",
        "- **S_***: Variables de gasto\n",
        "- **P_***: Variables de pago\n",
        "- **B_***: Variables de saldo\n",
        "- **R_***: Variables de riesgo\n",
        "\n",
        "Además, la columna **target** contiene ya 0 datos faltantes (NA's)."
      ]
    },
    {
      "cell_type": "code",
      "execution_count": null,
      "metadata": {
        "colab": {
          "base_uri": "https://localhost:8080/"
        },
        "id": "qIZUiQrLxLQi",
        "outputId": "eae57889-5272-4f55-fafa-a6da6a61c2fa"
      },
      "outputs": [
        {
          "name": "stdout",
          "output_type": "stream",
          "text": [
            "Total missing values in df_numeric: 11793208\n"
          ]
        }
      ],
      "source": [
        "missing_count = df_d.isnull().sum().sum()\n",
        "print('Total missing values in df_numeric: %d' % missing_count)"
      ]
    },
    {
      "cell_type": "markdown",
      "metadata": {
        "id": "G1bF8YcHePQz"
      },
      "source": [
        "***RESPUESTA CODIGO:***\n",
        "\n",
        "```\n",
        "Total missing values in df_numeric: 11793208\n",
        "```\n",
        "\n"
      ]
    },
    {
      "cell_type": "markdown",
      "metadata": {
        "id": "b5DGZRK2SwfQ"
      },
      "source": [
        "Vemos que de las variables numéricas nos quedan **11,793,208** datos faltantes, todos estos pertenecientes a las variables de delincuencia.\n"
      ]
    },
    {
      "cell_type": "markdown",
      "metadata": {
        "id": "erejlyZhS3Sq"
      },
      "source": [
        "$\\textit{**Imputacion de los datos con mediana.**}$"
      ]
    },
    {
      "cell_type": "code",
      "execution_count": null,
      "metadata": {
        "colab": {
          "base_uri": "https://localhost:8080/"
        },
        "id": "U-_W3cKMxNOk",
        "outputId": "af5b6688-8204-442c-9367-befa695d68db"
      },
      "outputs": [
        {
          "name": "stdout",
          "output_type": "stream",
          "text": [
            "Missing after imputation for D variables: 0\n"
          ]
        }
      ],
      "source": [
        "# Crear el imputador con la mediana\n",
        "imputer = SimpleImputer(strategy='median')\n",
        "df_d_imputed = imputer.fit_transform(df_d)\n",
        "df_d_imputed = pd.DataFrame(df_d_imputed, columns=variables_d)\n",
        "\n",
        "missing_count = sum(np.isnan(df_d_imputed.values.flatten()))\n",
        "print('Missing after imputation for D variables: %d' % missing_count)"
      ]
    },
    {
      "cell_type": "markdown",
      "metadata": {
        "id": "HjYJpbP7eUSy"
      },
      "source": [
        "***RESPUESTA CODIGO:***\n",
        "\n",
        "```\n",
        "Missing after imputation for D variables: 0\n",
        "```\n",
        "\n"
      ]
    },
    {
      "cell_type": "code",
      "execution_count": null,
      "metadata": {
        "colab": {
          "base_uri": "https://localhost:8080/"
        },
        "id": "gIA5jCrTxjlk",
        "outputId": "a5efcba1-f9cc-4b27-acae-f5577f75c84a"
      },
      "outputs": [
        {
          "name": "stdout",
          "output_type": "stream",
          "text": [
            "<class 'pandas.core.frame.DataFrame'>\n",
            "RangeIndex: 11363762 entries, 0 to 11363761\n",
            "Columns: 144 entries, S_3 to D_145\n",
            "dtypes: float16(144)\n",
            "memory usage: 3.0 GB\n",
            "None\n",
            "<class 'pandas.core.frame.DataFrame'>\n",
            "RangeIndex: 11363762 entries, 0 to 11363761\n",
            "Data columns (total 12 columns):\n",
            " #   Column       Dtype         \n",
            "---  ------       -----         \n",
            " 0   customer_ID  object        \n",
            " 1   fecha        datetime64[ns]\n",
            " 2   D_63         category      \n",
            " 3   D_64         category      \n",
            " 4   D_68         category      \n",
            " 5   B_30         category      \n",
            " 6   B_38         category      \n",
            " 7   D_114        category      \n",
            " 8   D_116        category      \n",
            " 9   D_117        category      \n",
            " 10  D_120        category      \n",
            " 11  D_126        category      \n",
            "dtypes: category(10), datetime64[ns](1), object(1)\n",
            "memory usage: 281.8+ MB\n",
            "None\n"
          ]
        }
      ],
      "source": [
        "df_combined = pd.concat([df_imputed, df_d_imputed], axis=1)\n",
        "\n",
        "print(df_combined.info())\n",
        "print(df_categorico.info())"
      ]
    },
    {
      "cell_type": "markdown",
      "metadata": {
        "id": "ZZvcfNDHeY-2"
      },
      "source": [
        "***RESPUESTA CODIGO:***\n",
        "\n",
        "```\n",
        "<class 'pandas.core.frame.DataFrame'>\n",
        "RangeIndex: 11363762 entries, 0 to 11363761\n",
        "Columns: 144 entries, S_3 to D_145\n",
        "dtypes: float16(144)\n",
        "memory usage: 3.0 GB\n",
        "None\n",
        "<class 'pandas.core.frame.DataFrame'>\n",
        "RangeIndex: 11363762 entries, 0 to 11363761\n",
        "Data columns (total 12 columns):\n",
        " #   Column       Dtype         \n",
        "---  ------       -----         \n",
        " 0   customer_ID  object        \n",
        " 1   fecha        datetime64[ns]\n",
        " 2   D_63         category      \n",
        " 3   D_64         category      \n",
        " 4   D_68         category      \n",
        " 5   B_30         category      \n",
        " 6   B_38         category      \n",
        " 7   D_114        category      \n",
        " 8   D_116        category      \n",
        " 9   D_117        category      \n",
        " 10  D_120        category      \n",
        " 11  D_126        category      \n",
        "dtypes: category(10), datetime64[ns](1), object(1)\n",
        "memory usage: 281.8+ MB\n",
        "None\n",
        "```\n",
        "\n"
      ]
    },
    {
      "cell_type": "markdown",
      "metadata": {
        "id": "ePbRVD2cS6u-"
      },
      "source": [
        "Podemos ver que ya tenemos nuestro DataFrame de variables numéricas sin datos faltantes y que aún continuamos con la misma cantidad de filas. Ahora procederemos a hacer la imputación para los datos categóricos.\n"
      ]
    },
    {
      "cell_type": "markdown",
      "metadata": {
        "id": "NBMKleQwS81n"
      },
      "source": [
        "$\\textit{Análisis de Datos Faltantes Categoricos}$"
      ]
    },
    {
      "cell_type": "code",
      "execution_count": null,
      "metadata": {
        "colab": {
          "base_uri": "https://localhost:8080/"
        },
        "id": "Y9ihujTSxlvn",
        "outputId": "3b819ba1-a28f-455d-8d8d-f55b2e52d265"
      },
      "outputs": [
        {
          "name": "stdout",
          "output_type": "stream",
          "text": [
            "Missing before imputation in categorical DataFrame: 1573695\n"
          ]
        }
      ],
      "source": [
        "missing_before_imputation = df_categorico.isnull().sum().sum()\n",
        "print(f'Missing before imputation in categorical DataFrame: {missing_before_imputation}')"
      ]
    },
    {
      "cell_type": "markdown",
      "metadata": {
        "id": "oWANiSK-edA2"
      },
      "source": [
        "***RESPUESTA CODIGO:***\n",
        "\n",
        "```\n",
        "Missing before imputation in categorical DataFrame: 1573695\n",
        "```\n",
        "\n"
      ]
    },
    {
      "cell_type": "code",
      "execution_count": null,
      "metadata": {
        "colab": {
          "base_uri": "https://localhost:8080/"
        },
        "id": "P9HF-LSexoOM",
        "outputId": "cbe06164-068f-4412-e54b-23d26cb9ca7a"
      },
      "outputs": [
        {
          "name": "stdout",
          "output_type": "stream",
          "text": [
            "             Datos Faltantes  Porcentaje (%)\n",
            "D_68                  348496        3.066731\n",
            "D_116                 284241        2.501293\n",
            "D_114                 284241        2.501293\n",
            "D_117                 284241        2.501293\n",
            "D_120                 284241        2.501293\n",
            "D_126                  82401        0.725121\n",
            "B_38                    2917        0.025669\n",
            "B_30                    2917        0.025669\n",
            "D_64                       0        0.000000\n",
            "D_63                       0        0.000000\n",
            "fecha                      0        0.000000\n",
            "customer_ID                0        0.000000\n"
          ]
        }
      ],
      "source": [
        "# Contar los datos faltantes por columna\n",
        "missing_values_count = df_categorico.isnull().sum()\n",
        "total_rows = df_categorico.shape[0]\n",
        "missing_percentage = (missing_values_count / total_rows) * 100\n",
        "\n",
        "missing_data_summary = pd.DataFrame({\n",
        "    'Datos Faltantes': missing_values_count,\n",
        "    'Porcentaje (%)': missing_percentage\n",
        "})\n",
        "\n",
        "# Ordenar el DataFrame por el conteo de datos faltantes en orden descendente\n",
        "missing_data_summary = missing_data_summary.sort_values(by='Datos Faltantes', ascending=False)\n",
        "print(missing_data_summary)"
      ]
    },
    {
      "cell_type": "markdown",
      "metadata": {
        "id": "yrF5wJQSekjD"
      },
      "source": [
        "***RESPUESTA CODIGO:***\n",
        "\n",
        "```\n",
        "             Datos Faltantes  Porcentaje (%)\n",
        "D_68                  348496        3.066731\n",
        "D_116                 284241        2.501293\n",
        "D_114                 284241        2.501293\n",
        "D_117                 284241        2.501293\n",
        "D_120                 284241        2.501293\n",
        "D_126                  82401        0.725121\n",
        "B_38                    2917        0.025669\n",
        "B_30                    2917        0.025669\n",
        "D_64                       0        0.000000\n",
        "D_63                       0        0.000000\n",
        "fecha                      0        0.000000\n",
        "customer_ID                0        0.000000\n",
        "```\n",
        "\n"
      ]
    },
    {
      "cell_type": "markdown",
      "metadata": {
        "id": "bLLVtIETTOdw"
      },
      "source": [
        "Las variables con la mayor cantidad de datos faltantes son **D_68**, con un **3.07%** de datos faltantes, seguida por **D_116**, **D_114**, **D_117**, y **D_120**, todas con un **2.50%** de datos faltantes. La variable **D_126** también tiene un porcentaje notable de datos faltantes, alrededor del **0.73%**.\n",
        "\n",
        "Por otro lado, las variables **B_38** y **B_30** tienen una cantidad insignificante de datos faltantes, apenas un **0.026%**. Finalmente, las variables **D_64**, **D_63**, **fecha**, y **customer_ID** no presentan datos faltantes, con un **0%** de valores faltantes.\n",
        "\n",
        "Este análisis nos proporciona una visión clara de qué variables requieren atención en términos de manejo de datos faltantes, siendo prioritarias aquellas con un porcentaje más elevado."
      ]
    },
    {
      "cell_type": "markdown",
      "metadata": {
        "id": "P0GrTiqyTUWl"
      },
      "source": [
        "## $\\textit{Imputar datos categóricos}$"
      ]
    },
    {
      "cell_type": "code",
      "execution_count": null,
      "metadata": {
        "id": "N6mvWjZcxrQ-"
      },
      "outputs": [],
      "source": [
        "complete_columns = df_categorico.columns[df_categorico.isnull().sum() == 0]\n",
        "df_complete = df_categorico[complete_columns]\n",
        "\n",
        "# Filtrar solo las columnas con datos faltantes\n",
        "incomplete_columns = df_categorico.columns[df_categorico.isnull().sum() > 0]\n",
        "df_incomplete = df_categorico[incomplete_columns]"
      ]
    },
    {
      "cell_type": "code",
      "execution_count": null,
      "metadata": {
        "colab": {
          "base_uri": "https://localhost:8080/"
        },
        "id": "AEl360uPxt0z",
        "outputId": "fe3d6877-4a01-4049-8104-652a544092f5"
      },
      "outputs": [
        {
          "name": "stdout",
          "output_type": "stream",
          "text": [
            "<class 'pandas.core.frame.DataFrame'>\n",
            "RangeIndex: 11363762 entries, 0 to 11363761\n",
            "Data columns (total 8 columns):\n",
            " #   Column  Dtype  \n",
            "---  ------  -----  \n",
            " 0   D_68    float64\n",
            " 1   B_30    float64\n",
            " 2   B_38    float64\n",
            " 3   D_114   float64\n",
            " 4   D_116   float64\n",
            " 5   D_117   float64\n",
            " 6   D_120   float64\n",
            " 7   D_126   float64\n",
            "dtypes: float64(8)\n",
            "memory usage: 693.6 MB\n",
            "None\n"
          ]
        }
      ],
      "source": [
        "imputer = SimpleImputer(strategy='most_frequent')\n",
        "df_imputed = imputer.fit_transform(df_incomplete)\n",
        "\n",
        "df_imputed = pd.DataFrame(df_imputed, columns=df_incomplete.columns)\n",
        "\n",
        "print(df_imputed.info())"
      ]
    },
    {
      "cell_type": "markdown",
      "metadata": {
        "id": "jjXiVhaZepmP"
      },
      "source": [
        "***RESPUESTA CODIGO:***\n",
        "\n",
        "```\n",
        "<class 'pandas.core.frame.DataFrame'>\n",
        "RangeIndex: 11363762 entries, 0 to 11363761\n",
        "Data columns (total 8 columns):\n",
        " #   Column  Dtype  \n",
        "---  ------  -----  \n",
        " 0   D_68    float64\n",
        " 1   B_30    float64\n",
        " 2   B_38    float64\n",
        " 3   D_114   float64\n",
        " 4   D_116   float64\n",
        " 5   D_117   float64\n",
        " 6   D_120   float64\n",
        " 7   D_126   float64\n",
        "dtypes: float64(8)\n",
        "memory usage: 693.6 MB\n",
        "None\n",
        "```\n",
        "\n"
      ]
    },
    {
      "cell_type": "code",
      "execution_count": null,
      "metadata": {
        "colab": {
          "base_uri": "https://localhost:8080/"
        },
        "id": "-eUw9dteyF0N",
        "outputId": "dfea2852-30a1-4312-cde9-10738958ad74"
      },
      "outputs": [
        {
          "name": "stdout",
          "output_type": "stream",
          "text": [
            "Missing before imputation in categorical DataFrame: 0\n"
          ]
        }
      ],
      "source": [
        "missing_before_imputation = df_imputed.isnull().sum().sum()\n",
        "print(f'Missing before imputation in categorical DataFrame: {missing_before_imputation}')"
      ]
    },
    {
      "cell_type": "markdown",
      "metadata": {
        "id": "36hCBkNzetJm"
      },
      "source": [
        "***RESPUESTA CODIGO:***\n",
        "\n",
        "```\n",
        "Missing before imputation in categorical DataFrame: 0\n",
        "```\n",
        "\n"
      ]
    },
    {
      "cell_type": "code",
      "execution_count": null,
      "metadata": {
        "colab": {
          "base_uri": "https://localhost:8080/"
        },
        "id": "C80YMe3CyHsf",
        "outputId": "98b90bea-9633-435b-f6d5-268e052dbfbe"
      },
      "outputs": [
        {
          "name": "stdout",
          "output_type": "stream",
          "text": [
            "Filas en df_imputed: 11363762\n",
            "Filas en df_complete: 11363762\n",
            "<class 'pandas.core.frame.DataFrame'>\n",
            "RangeIndex: 11363762 entries, 0 to 11363761\n",
            "Data columns (total 12 columns):\n",
            " #   Column       Dtype         \n",
            "---  ------       -----         \n",
            " 0   D_68         float64       \n",
            " 1   B_30         float64       \n",
            " 2   B_38         float64       \n",
            " 3   D_114        float64       \n",
            " 4   D_116        float64       \n",
            " 5   D_117        float64       \n",
            " 6   D_120        float64       \n",
            " 7   D_126        float64       \n",
            " 8   customer_ID  object        \n",
            " 9   fecha        datetime64[ns]\n",
            " 10  D_63         category      \n",
            " 11  D_64         category      \n",
            "dtypes: category(2), datetime64[ns](1), float64(8), object(1)\n",
            "memory usage: 888.7+ MB\n",
            "None\n"
          ]
        }
      ],
      "source": [
        "# Asegurarse de que ambos DataFrames tengan el mismo número de filas\n",
        "print(f\"Filas en df_imputed: {df_imputed.shape[0]}\")\n",
        "print(f\"Filas en df_complete: {df_complete.shape[0]}\")\n",
        "\n",
        "df_cateim = pd.concat([df_imputed, df_complete], axis=1)\n",
        "\n",
        "print(df_cateim.info())"
      ]
    },
    {
      "cell_type": "markdown",
      "metadata": {
        "id": "Px-RcMLqeyR8"
      },
      "source": [
        "***RESPUESTA CODIGO:***\n",
        "\n",
        "```\n",
        "Filas en df_imputed: 11363762\n",
        "Filas en df_complete: 11363762\n",
        "<class 'pandas.core.frame.DataFrame'>\n",
        "RangeIndex: 11363762 entries, 0 to 11363761\n",
        "Data columns (total 12 columns):\n",
        " #   Column       Dtype         \n",
        "---  ------       -----         \n",
        " 0   D_68         float64       \n",
        " 1   B_30         float64       \n",
        " 2   B_38         float64       \n",
        " 3   D_114        float64       \n",
        " 4   D_116        float64       \n",
        " 5   D_117        float64       \n",
        " 6   D_120        float64       \n",
        " 7   D_126        float64       \n",
        " 8   customer_ID  object        \n",
        " 9   fecha        datetime64[ns]\n",
        " 10  D_63         category      \n",
        " 11  D_64         category      \n",
        "dtypes: category(2), datetime64[ns](1), float64(8), object(1)\n",
        "memory usage: 888.7+ MB\n",
        "None\n",
        "```\n",
        "\n"
      ]
    },
    {
      "cell_type": "markdown",
      "metadata": {
        "id": "kAXHihHwTcEc"
      },
      "source": [
        "## $\\textit{Reducir Dimensionalidad `df complete`}$"
      ]
    },
    {
      "cell_type": "markdown",
      "metadata": {
        "id": "ckyt0BNDTd4u"
      },
      "source": [
        "## $\\textit{Hipótesis para la reduccion de dimensionalidad}$\n",
        "\n",
        "- **Hipótesis Nula (H0)**: No hay relación significativa entre la variable categórica y la variable objetivo. Esto implica que los datos son independientes y que la variable categórica no aporta información relevante para predecir la variable objetivo.\n",
        "\n",
        "- **Hipótesis Alternativa (H1)**: Hay una relación significativa entre la variable categórica y la variable objetivo. Esto sugiere que los datos están relacionados y que la variable categórica proporciona información valiosa para predecir la variable objetivo.\n"
      ]
    },
    {
      "cell_type": "code",
      "execution_count": null,
      "metadata": {
        "colab": {
          "base_uri": "https://localhost:8080/"
        },
        "id": "lGH-ke_qVQPQ",
        "outputId": "bcdc21c8-4dc6-4699-d988-1d287e66be33"
      },
      "outputs": [
        {
          "name": "stdout",
          "output_type": "stream",
          "text": [
            "D_68                 category\n",
            "B_30                 category\n",
            "B_38                 category\n",
            "D_114                category\n",
            "D_116                category\n",
            "D_117                category\n",
            "D_120                category\n",
            "D_126                category\n",
            "customer_ID            object\n",
            "fecha          datetime64[ns]\n",
            "D_63                 category\n",
            "D_64                 category\n",
            "dtype: object\n"
          ]
        }
      ],
      "source": [
        "# Convertir manualmente columnas a categóricas si deberían ser categóricas\n",
        "categorical_cols = ['D_68', 'B_30', 'B_38', 'D_114', 'D_116', 'D_117', 'D_120', 'D_126']\n",
        "\n",
        "# Convertir las columnas especificadas a tipo categórico\n",
        "df_cateim[categorical_cols] = df_cateim[categorical_cols].astype('category')\n",
        "\n",
        "print(df_cateim.dtypes)\n"
      ]
    },
    {
      "cell_type": "markdown",
      "metadata": {
        "id": "hKoQ3RVie3Kv"
      },
      "source": [
        "***RESPUESTA CODIGO:***\n",
        "\n",
        "```\n",
        "D_68                 category\n",
        "B_30                 category\n",
        "B_38                 category\n",
        "D_114                category\n",
        "D_116                category\n",
        "D_117                category\n",
        "D_120                category\n",
        "D_126                category\n",
        "customer_ID            object\n",
        "fecha          datetime64[ns]\n",
        "D_63                 category\n",
        "D_64                 category\n",
        "dtype: object\n",
        "```\n",
        "\n"
      ]
    },
    {
      "cell_type": "code",
      "execution_count": null,
      "metadata": {
        "id": "cRzjRZqbyKqW"
      },
      "outputs": [],
      "source": [
        "from scipy.stats import chi2_contingency"
      ]
    },
    {
      "cell_type": "code",
      "execution_count": null,
      "metadata": {
        "id": "sc9ezcHgyMMB"
      },
      "outputs": [],
      "source": [
        "def eliminate_infrequent_categories(df, frequency_threshold=0.05):\n",
        "    df_copy = df.copy()\n",
        "\n",
        "    categorical_cols = df_copy.select_dtypes(include=['category', 'object']).columns.tolist()\n",
        "\n",
        "    variables_to_keep = []\n",
        "    for col in categorical_cols:\n",
        "        category_frequencies = df_copy[col].value_counts(normalize=True)\n",
        "\n",
        "        if category_frequencies.max() > frequency_threshold:\n",
        "            print(f\"La variable {col} se mantendrá (máx. frecuencia de categoría: {category_frequencies.max()}).\")\n",
        "            variables_to_keep.append(col)\n",
        "        else:\n",
        "            print(f\"La variable {col} tiene categorías desbalanceadas (máx. frecuencia de categoría: {category_frequencies.max()}). Se eliminará.\")\n",
        "\n",
        "    # Mantener las variables categóricas seleccionadas y todas las demás columnas\n",
        "    df_copy = df_copy[variables_to_keep + [col for col in df.columns if col not in categorical_cols]]\n",
        "\n",
        "    print(\"\\nVariables eliminadas:\")\n",
        "    print(set(categorical_cols) - set(variables_to_keep))\n",
        "\n",
        "    return df_copy"
      ]
    },
    {
      "cell_type": "code",
      "execution_count": null,
      "metadata": {
        "colab": {
          "base_uri": "https://localhost:8080/"
        },
        "id": "R-SZ4ERayOOu",
        "outputId": "aa68cb54-1408-46bf-e4b5-92ecfe036221"
      },
      "outputs": [
        {
          "name": "stdout",
          "output_type": "stream",
          "text": [
            "La variable D_68 tiene categorías desbalanceadas (máx. frecuencia de categoría: 0.5254964861108495). Se eliminará.\n",
            "La variable B_30 tiene categorías desbalanceadas (máx. frecuencia de categoría: 0.846634327610874). Se eliminará.\n",
            "La variable B_38 tiene categorías desbalanceadas (máx. frecuencia de categoría: 0.36402742331280785). Se eliminará.\n",
            "La variable D_114 tiene categorías desbalanceadas (máx. frecuencia de categoría: 0.6372966100486793). Se eliminará.\n",
            "La variable D_117 tiene categorías desbalanceadas (máx. frecuencia de categoría: 0.2975516382690873). Se eliminará.\n",
            "La variable D_120 tiene categorías desbalanceadas (máx. frecuencia de categoría: 0.7997079664287232). Se eliminará.\n",
            "La variable D_126 tiene categorías desbalanceadas (máx. frecuencia de categoría: 0.7665831086571507). Se eliminará.\n",
            "La variable customer_ID tiene categorías desbalanceadas (máx. frecuencia de categoría: 1.1439873520758355e-06). Se eliminará.\n",
            "La variable D_63 tiene categorías desbalanceadas (máx. frecuencia de categoría: 0.7417625430733238). Se eliminará.\n",
            "La variable D_64 tiene categorías desbalanceadas (máx. frecuencia de categoría: 0.5274206728370411). Se eliminará.\n",
            "\n",
            "Variables eliminadas:\n",
            "{'D_114', 'B_38', 'D_117', 'D_126', 'D_63', 'D_120', 'D_68', 'B_30', 'customer_ID', 'D_64'}\n",
            "DataFrame después de la eliminación:\n",
            "       fecha\n",
            "0 2019-02-19\n",
            "1 2019-03-25\n",
            "2 2019-04-25\n",
            "3 2019-05-20\n",
            "4 2019-06-15\n"
          ]
        }
      ],
      "source": [
        "df_cateim = eliminate_infrequent_categories(df_cateim, frequency_threshold=0.95)\n",
        "\n",
        "print(\"DataFrame después de la eliminación:\")\n",
        "print(df_cateim.head())"
      ]
    },
    {
      "cell_type": "markdown",
      "metadata": {
        "id": "cxXTalEofBYI"
      },
      "source": [
        "***RESPUESTA CODIGO:***\n",
        "\n",
        "```\n",
        "La variable D_68 tiene categorías desbalanceadas (máx. frecuencia de categoría: 0.5254964861108495). Se eliminará.\n",
        "La variable B_30 tiene categorías desbalanceadas (máx. frecuencia de categoría: 0.846634327610874). Se eliminará.\n",
        "La variable B_38 tiene categorías desbalanceadas (máx. frecuencia de categoría: 0.36402742331280785). Se eliminará.\n",
        "La variable D_114 tiene categorías desbalanceadas (máx. frecuencia de categoría: 0.6372966100486793). Se eliminará.\n",
        "La variable D_117 tiene categorías desbalanceadas (máx. frecuencia de categoría: 0.2975516382690873). Se eliminará.\n",
        "La variable D_120 tiene categorías desbalanceadas (máx. frecuencia de categoría: 0.7997079664287232). Se eliminará.\n",
        "La variable D_126 tiene categorías desbalanceadas (máx. frecuencia de categoría: 0.7665831086571507). Se eliminará.\n",
        "La variable customer_ID tiene categorías desbalanceadas (máx. frecuencia de categoría: 1.1439873520758355e-06). Se eliminará.\n",
        "La variable D_63 tiene categorías desbalanceadas (máx. frecuencia de categoría: 0.7417625430733238). Se eliminará.\n",
        "La variable D_64 tiene categorías desbalanceadas (máx. frecuencia de categoría: 0.5274206728370411). Se eliminará.\n",
        "\n",
        "Variables eliminadas:\n",
        "{'D_114', 'B_38', 'D_117', 'D_126', 'D_63', 'D_120', 'D_68', 'B_30', 'customer_ID', 'D_64'}\n",
        "DataFrame después de la eliminación:\n",
        "       fecha\n",
        "0 2019-02-19\n",
        "1 2019-03-25\n",
        "2 2019-04-25\n",
        "3 2019-05-20\n",
        "4 2019-06-15\n",
        "```\n",
        "\n"
      ]
    },
    {
      "cell_type": "markdown",
      "metadata": {
        "id": "TNC4_fvpWUvp"
      },
      "source": [
        "**Análisis de Variables Eliminadas**\n",
        "\n",
        "Las siguientes variables fueron eliminadas debido a tener categorías altamente desbalanceadas, lo que reduce su valor informativo en el análisis:\n",
        "\n",
        "- **D_68**, **B_30**, **B_38**, **D_114**, **D_117**, **D_120**, **D_126**, **customer_ID**, **D_63**, **D_64**.\n",
        "\n",
        "Estas variables presentaron una proporción significativa de categorías predominantes, superando en algunos casos el **50%** de las observaciones. Como resultado, el DataFrame resultante contiene solo la columna **fecha**, que no presentó problemas de balance en sus categorías.\n"
      ]
    },
    {
      "cell_type": "markdown",
      "metadata": {
        "id": "3uhM-lNAWglt"
      },
      "source": [
        "## $\\textit{VIF}$"
      ]
    },
    {
      "cell_type": "markdown",
      "metadata": {
        "id": "adcfjoolWhHz"
      },
      "source": [
        "Vamos a aplicar el **VIF** (Factor de Inflación de la Varianza) para reducir la dimensionalidad del DataFrame de nuestras variables numéricas. Sin embargo, luego de realizar algunas pruebas, nos dimos cuenta de que el alto costo computacional de aplicar el VIF a todo el DataFrame era complicado. Por ello, decidimos investigar y encontramos que se podía aplicar el VIF por grupos dentro del DataFrame. Optamos por este enfoque, ya que comprobamos que no afectaría gravemente los resultados del VIF y facilitaría el proceso."
      ]
    },
    {
      "cell_type": "code",
      "execution_count": null,
      "metadata": {
        "id": "6pwsvnjLyQL-"
      },
      "outputs": [],
      "source": [
        "from statsmodels.stats.outliers_influence import variance_inflation_factor"
      ]
    },
    {
      "cell_type": "code",
      "execution_count": null,
      "metadata": {
        "id": "QC9sKwqdyRtH"
      },
      "outputs": [],
      "source": [
        "def calculate_vif(df, variables):\n",
        "    \"\"\"Calcular el VIF para las variables seleccionadas.\"\"\"\n",
        "    vif_data = pd.DataFrame()\n",
        "    vif_data['Variable'] = variables\n",
        "    vif_data['VIF'] = [variance_inflation_factor(df[variables].values, i) for i in range(len(variables))]\n",
        "    return vif_data\n"
      ]
    },
    {
      "cell_type": "code",
      "execution_count": null,
      "metadata": {
        "id": "Ro7egkRsyTlc"
      },
      "outputs": [],
      "source": [
        "def delete_multicollinearity_by_group(df, variable_groups, VIF_threshold=10):\n",
        "    \"\"\"Eliminar variables multicolineales en cada grupo basado en el VIF.\"\"\"\n",
        "    df_copy = df.copy()\n",
        "\n",
        "    for group_name, group_vars in variable_groups.items():\n",
        "        print(f\"Evaluando grupo: {group_name}\")\n",
        "\n",
        "        # Verificar que las variables del grupo existan en el DataFrame\n",
        "        group_vars = [var for var in group_vars if var in df_copy.columns]\n",
        "\n",
        "        if len(group_vars) > 0:\n",
        "            # Calcular el VIF\n",
        "            vif_data = calculate_vif(df_copy, group_vars)\n",
        "\n",
        "            # Eliminar las variables que tengan un VIF mayor al umbral\n",
        "            while vif_data['VIF'].max() > VIF_threshold:\n",
        "                max_vif_var = vif_data.loc[vif_data['VIF'].idxmax(), 'Variable']\n",
        "                print(f\"Eliminando variable: {max_vif_var} (VIF: {vif_data['VIF'].max()})\")\n",
        "                print(\"Se ha eliminado una variable. Ahora se vuelve a recalcular el VIF.\")\n",
        "\n",
        "                # Eliminar la variable con mayor VIF\n",
        "                group_vars.remove(max_vif_var)\n",
        "                df_copy = df_copy.drop(columns=[max_vif_var])\n",
        "\n",
        "                # Recalcular el VIF\n",
        "                if len(group_vars) > 1:\n",
        "                    vif_data = calculate_vif(df_copy, group_vars)\n",
        "                else:\n",
        "                    break\n",
        "\n",
        "    return df_copy"
      ]
    },
    {
      "cell_type": "markdown",
      "metadata": {
        "id": "tmK45_W_Wm8e"
      },
      "source": [
        "Para el analisis de la multicolinealidad tendremos en cuenta\n",
        "$$VIF = \\frac{1}{1-R^2}$$\n",
        "\n",
        "+ Un valor VIF de 1: Sin multicolinealidad (variable perfectamente independiente).\n",
        "\n",
        "+ Un valor VIF entre 1 y 5: Multicolinealidad baja a moderada (no se considera problemática).\n",
        "\n",
        "+ Un valor VIF entre 5 y 10: Multicolinealidad moderada a alta (considerada problemática).\n",
        "\n",
        "+ Un valor VIF superior a 10: Multicolinealidad alta (preocupación grave, requiere medidas).\n",
        "\n",
        "$creditos \\text{ } a \\text{ } Profesor: \\text{ } Lihki \\text{ } Rubio \\text{ } por \\text{ } por \\text{ } la \\text{ } informacion $"
      ]
    },
    {
      "cell_type": "code",
      "execution_count": null,
      "metadata": {
        "colab": {
          "base_uri": "https://localhost:8080/",
          "height": 255
        },
        "id": "RxYGZUxNyVde",
        "outputId": "f6dc70d6-8261-44ad-d429-56a961579726"
      },
      "outputs": [
        {
          "data": {
            "application/vnd.google.colaboratory.intrinsic+json": {
              "type": "dataframe",
              "variable_name": "df_combined"
            },
            "text/html": [
              "\n",
              "  <div id=\"df-00fdb380-45fa-4b13-b72f-2150f0b7e183\" class=\"colab-df-container\">\n",
              "    <div>\n",
              "<style scoped>\n",
              "    .dataframe tbody tr th:only-of-type {\n",
              "        vertical-align: middle;\n",
              "    }\n",
              "\n",
              "    .dataframe tbody tr th {\n",
              "        vertical-align: top;\n",
              "    }\n",
              "\n",
              "    .dataframe thead th {\n",
              "        text-align: right;\n",
              "    }\n",
              "</style>\n",
              "<table border=\"1\" class=\"dataframe\">\n",
              "  <thead>\n",
              "    <tr style=\"text-align: right;\">\n",
              "      <th></th>\n",
              "      <th>S_3</th>\n",
              "      <th>S_5</th>\n",
              "      <th>S_6</th>\n",
              "      <th>S_7</th>\n",
              "      <th>S_8</th>\n",
              "      <th>S_11</th>\n",
              "      <th>S_12</th>\n",
              "      <th>S_13</th>\n",
              "      <th>S_15</th>\n",
              "      <th>S_16</th>\n",
              "      <th>...</th>\n",
              "      <th>D_129</th>\n",
              "      <th>D_130</th>\n",
              "      <th>D_131</th>\n",
              "      <th>D_133</th>\n",
              "      <th>D_139</th>\n",
              "      <th>D_140</th>\n",
              "      <th>D_141</th>\n",
              "      <th>D_143</th>\n",
              "      <th>D_144</th>\n",
              "      <th>D_145</th>\n",
              "    </tr>\n",
              "  </thead>\n",
              "  <tbody>\n",
              "    <tr>\n",
              "      <th>0</th>\n",
              "      <td>0.168701</td>\n",
              "      <td>0.002771</td>\n",
              "      <td>1.006836</td>\n",
              "      <td>0.105591</td>\n",
              "      <td>0.321777</td>\n",
              "      <td>1.881836</td>\n",
              "      <td>0.190552</td>\n",
              "      <td>0.409424</td>\n",
              "      <td>0.400635</td>\n",
              "      <td>0.002531</td>\n",
              "      <td>...</td>\n",
              "      <td>0.008789</td>\n",
              "      <td>0.006428</td>\n",
              "      <td>0.005684</td>\n",
              "      <td>0.007080</td>\n",
              "      <td>0.006058</td>\n",
              "      <td>0.004669</td>\n",
              "      <td>0.006058</td>\n",
              "      <td>0.006054</td>\n",
              "      <td>0.008278</td>\n",
              "      <td>0.006058</td>\n",
              "    </tr>\n",
              "    <tr>\n",
              "      <th>1</th>\n",
              "      <td>0.241333</td>\n",
              "      <td>0.006496</td>\n",
              "      <td>1.005859</td>\n",
              "      <td>0.160522</td>\n",
              "      <td>0.170776</td>\n",
              "      <td>2.042969</td>\n",
              "      <td>0.190186</td>\n",
              "      <td>0.561523</td>\n",
              "      <td>0.605957</td>\n",
              "      <td>0.007168</td>\n",
              "      <td>...</td>\n",
              "      <td>0.005577</td>\n",
              "      <td>0.007599</td>\n",
              "      <td>0.008072</td>\n",
              "      <td>0.007187</td>\n",
              "      <td>0.000142</td>\n",
              "      <td>0.004940</td>\n",
              "      <td>0.009018</td>\n",
              "      <td>0.003695</td>\n",
              "      <td>0.003754</td>\n",
              "      <td>0.001460</td>\n",
              "    </tr>\n",
              "    <tr>\n",
              "      <th>2</th>\n",
              "      <td>0.267090</td>\n",
              "      <td>0.003407</td>\n",
              "      <td>0.006409</td>\n",
              "      <td>0.210083</td>\n",
              "      <td>0.172729</td>\n",
              "      <td>1.641602</td>\n",
              "      <td>-0.026260</td>\n",
              "      <td>0.692383</td>\n",
              "      <td>0.602051</td>\n",
              "      <td>0.006504</td>\n",
              "      <td>...</td>\n",
              "      <td>0.009338</td>\n",
              "      <td>0.003609</td>\n",
              "      <td>0.009865</td>\n",
              "      <td>0.008438</td>\n",
              "      <td>0.000074</td>\n",
              "      <td>0.002113</td>\n",
              "      <td>0.004658</td>\n",
              "      <td>0.003155</td>\n",
              "      <td>0.002155</td>\n",
              "      <td>0.006481</td>\n",
              "    </tr>\n",
              "    <tr>\n",
              "      <th>3</th>\n",
              "      <td>0.188965</td>\n",
              "      <td>0.007206</td>\n",
              "      <td>0.005840</td>\n",
              "      <td>0.193726</td>\n",
              "      <td>0.171143</td>\n",
              "      <td>1.001953</td>\n",
              "      <td>0.096741</td>\n",
              "      <td>0.690918</td>\n",
              "      <td>0.508301</td>\n",
              "      <td>0.004078</td>\n",
              "      <td>...</td>\n",
              "      <td>0.006477</td>\n",
              "      <td>0.006134</td>\n",
              "      <td>0.005898</td>\n",
              "      <td>0.002422</td>\n",
              "      <td>0.004742</td>\n",
              "      <td>0.006393</td>\n",
              "      <td>0.002890</td>\n",
              "      <td>0.006042</td>\n",
              "      <td>0.005207</td>\n",
              "      <td>0.007858</td>\n",
              "    </tr>\n",
              "    <tr>\n",
              "      <th>4</th>\n",
              "      <td>0.180054</td>\n",
              "      <td>0.008621</td>\n",
              "      <td>0.002623</td>\n",
              "      <td>0.202148</td>\n",
              "      <td>0.320068</td>\n",
              "      <td>1.082031</td>\n",
              "      <td>0.116821</td>\n",
              "      <td>0.691406</td>\n",
              "      <td>0.402344</td>\n",
              "      <td>0.003887</td>\n",
              "      <td>...</td>\n",
              "      <td>0.002028</td>\n",
              "      <td>0.006973</td>\n",
              "      <td>0.005310</td>\n",
              "      <td>0.000302</td>\n",
              "      <td>0.008133</td>\n",
              "      <td>0.004330</td>\n",
              "      <td>0.008385</td>\n",
              "      <td>0.001008</td>\n",
              "      <td>0.007420</td>\n",
              "      <td>0.009468</td>\n",
              "    </tr>\n",
              "  </tbody>\n",
              "</table>\n",
              "<p>5 rows × 144 columns</p>\n",
              "</div>\n",
              "    <div class=\"colab-df-buttons\">\n",
              "\n",
              "  <div class=\"colab-df-container\">\n",
              "    <button class=\"colab-df-convert\" onclick=\"convertToInteractive('df-00fdb380-45fa-4b13-b72f-2150f0b7e183')\"\n",
              "            title=\"Convert this dataframe to an interactive table.\"\n",
              "            style=\"display:none;\">\n",
              "\n",
              "  <svg xmlns=\"http://www.w3.org/2000/svg\" height=\"24px\" viewBox=\"0 -960 960 960\">\n",
              "    <path d=\"M120-120v-720h720v720H120Zm60-500h600v-160H180v160Zm220 220h160v-160H400v160Zm0 220h160v-160H400v160ZM180-400h160v-160H180v160Zm440 0h160v-160H620v160ZM180-180h160v-160H180v160Zm440 0h160v-160H620v160Z\"/>\n",
              "  </svg>\n",
              "    </button>\n",
              "\n",
              "  <style>\n",
              "    .colab-df-container {\n",
              "      display:flex;\n",
              "      gap: 12px;\n",
              "    }\n",
              "\n",
              "    .colab-df-convert {\n",
              "      background-color: #E8F0FE;\n",
              "      border: none;\n",
              "      border-radius: 50%;\n",
              "      cursor: pointer;\n",
              "      display: none;\n",
              "      fill: #1967D2;\n",
              "      height: 32px;\n",
              "      padding: 0 0 0 0;\n",
              "      width: 32px;\n",
              "    }\n",
              "\n",
              "    .colab-df-convert:hover {\n",
              "      background-color: #E2EBFA;\n",
              "      box-shadow: 0px 1px 2px rgba(60, 64, 67, 0.3), 0px 1px 3px 1px rgba(60, 64, 67, 0.15);\n",
              "      fill: #174EA6;\n",
              "    }\n",
              "\n",
              "    .colab-df-buttons div {\n",
              "      margin-bottom: 4px;\n",
              "    }\n",
              "\n",
              "    [theme=dark] .colab-df-convert {\n",
              "      background-color: #3B4455;\n",
              "      fill: #D2E3FC;\n",
              "    }\n",
              "\n",
              "    [theme=dark] .colab-df-convert:hover {\n",
              "      background-color: #434B5C;\n",
              "      box-shadow: 0px 1px 3px 1px rgba(0, 0, 0, 0.15);\n",
              "      filter: drop-shadow(0px 1px 2px rgba(0, 0, 0, 0.3));\n",
              "      fill: #FFFFFF;\n",
              "    }\n",
              "  </style>\n",
              "\n",
              "    <script>\n",
              "      const buttonEl =\n",
              "        document.querySelector('#df-00fdb380-45fa-4b13-b72f-2150f0b7e183 button.colab-df-convert');\n",
              "      buttonEl.style.display =\n",
              "        google.colab.kernel.accessAllowed ? 'block' : 'none';\n",
              "\n",
              "      async function convertToInteractive(key) {\n",
              "        const element = document.querySelector('#df-00fdb380-45fa-4b13-b72f-2150f0b7e183');\n",
              "        const dataTable =\n",
              "          await google.colab.kernel.invokeFunction('convertToInteractive',\n",
              "                                                    [key], {});\n",
              "        if (!dataTable) return;\n",
              "\n",
              "        const docLinkHtml = 'Like what you see? Visit the ' +\n",
              "          '<a target=\"_blank\" href=https://colab.research.google.com/notebooks/data_table.ipynb>data table notebook</a>'\n",
              "          + ' to learn more about interactive tables.';\n",
              "        element.innerHTML = '';\n",
              "        dataTable['output_type'] = 'display_data';\n",
              "        await google.colab.output.renderOutput(dataTable, element);\n",
              "        const docLink = document.createElement('div');\n",
              "        docLink.innerHTML = docLinkHtml;\n",
              "        element.appendChild(docLink);\n",
              "      }\n",
              "    </script>\n",
              "  </div>\n",
              "\n",
              "\n",
              "<div id=\"df-fd0f417c-988e-476f-afbb-30bf2a00733b\">\n",
              "  <button class=\"colab-df-quickchart\" onclick=\"quickchart('df-fd0f417c-988e-476f-afbb-30bf2a00733b')\"\n",
              "            title=\"Suggest charts\"\n",
              "            style=\"display:none;\">\n",
              "\n",
              "<svg xmlns=\"http://www.w3.org/2000/svg\" height=\"24px\"viewBox=\"0 0 24 24\"\n",
              "     width=\"24px\">\n",
              "    <g>\n",
              "        <path d=\"M19 3H5c-1.1 0-2 .9-2 2v14c0 1.1.9 2 2 2h14c1.1 0 2-.9 2-2V5c0-1.1-.9-2-2-2zM9 17H7v-7h2v7zm4 0h-2V7h2v10zm4 0h-2v-4h2v4z\"/>\n",
              "    </g>\n",
              "</svg>\n",
              "  </button>\n",
              "\n",
              "<style>\n",
              "  .colab-df-quickchart {\n",
              "      --bg-color: #E8F0FE;\n",
              "      --fill-color: #1967D2;\n",
              "      --hover-bg-color: #E2EBFA;\n",
              "      --hover-fill-color: #174EA6;\n",
              "      --disabled-fill-color: #AAA;\n",
              "      --disabled-bg-color: #DDD;\n",
              "  }\n",
              "\n",
              "  [theme=dark] .colab-df-quickchart {\n",
              "      --bg-color: #3B4455;\n",
              "      --fill-color: #D2E3FC;\n",
              "      --hover-bg-color: #434B5C;\n",
              "      --hover-fill-color: #FFFFFF;\n",
              "      --disabled-bg-color: #3B4455;\n",
              "      --disabled-fill-color: #666;\n",
              "  }\n",
              "\n",
              "  .colab-df-quickchart {\n",
              "    background-color: var(--bg-color);\n",
              "    border: none;\n",
              "    border-radius: 50%;\n",
              "    cursor: pointer;\n",
              "    display: none;\n",
              "    fill: var(--fill-color);\n",
              "    height: 32px;\n",
              "    padding: 0;\n",
              "    width: 32px;\n",
              "  }\n",
              "\n",
              "  .colab-df-quickchart:hover {\n",
              "    background-color: var(--hover-bg-color);\n",
              "    box-shadow: 0 1px 2px rgba(60, 64, 67, 0.3), 0 1px 3px 1px rgba(60, 64, 67, 0.15);\n",
              "    fill: var(--button-hover-fill-color);\n",
              "  }\n",
              "\n",
              "  .colab-df-quickchart-complete:disabled,\n",
              "  .colab-df-quickchart-complete:disabled:hover {\n",
              "    background-color: var(--disabled-bg-color);\n",
              "    fill: var(--disabled-fill-color);\n",
              "    box-shadow: none;\n",
              "  }\n",
              "\n",
              "  .colab-df-spinner {\n",
              "    border: 2px solid var(--fill-color);\n",
              "    border-color: transparent;\n",
              "    border-bottom-color: var(--fill-color);\n",
              "    animation:\n",
              "      spin 1s steps(1) infinite;\n",
              "  }\n",
              "\n",
              "  @keyframes spin {\n",
              "    0% {\n",
              "      border-color: transparent;\n",
              "      border-bottom-color: var(--fill-color);\n",
              "      border-left-color: var(--fill-color);\n",
              "    }\n",
              "    20% {\n",
              "      border-color: transparent;\n",
              "      border-left-color: var(--fill-color);\n",
              "      border-top-color: var(--fill-color);\n",
              "    }\n",
              "    30% {\n",
              "      border-color: transparent;\n",
              "      border-left-color: var(--fill-color);\n",
              "      border-top-color: var(--fill-color);\n",
              "      border-right-color: var(--fill-color);\n",
              "    }\n",
              "    40% {\n",
              "      border-color: transparent;\n",
              "      border-right-color: var(--fill-color);\n",
              "      border-top-color: var(--fill-color);\n",
              "    }\n",
              "    60% {\n",
              "      border-color: transparent;\n",
              "      border-right-color: var(--fill-color);\n",
              "    }\n",
              "    80% {\n",
              "      border-color: transparent;\n",
              "      border-right-color: var(--fill-color);\n",
              "      border-bottom-color: var(--fill-color);\n",
              "    }\n",
              "    90% {\n",
              "      border-color: transparent;\n",
              "      border-bottom-color: var(--fill-color);\n",
              "    }\n",
              "  }\n",
              "</style>\n",
              "\n",
              "  <script>\n",
              "    async function quickchart(key) {\n",
              "      const quickchartButtonEl =\n",
              "        document.querySelector('#' + key + ' button');\n",
              "      quickchartButtonEl.disabled = true;  // To prevent multiple clicks.\n",
              "      quickchartButtonEl.classList.add('colab-df-spinner');\n",
              "      try {\n",
              "        const charts = await google.colab.kernel.invokeFunction(\n",
              "            'suggestCharts', [key], {});\n",
              "      } catch (error) {\n",
              "        console.error('Error during call to suggestCharts:', error);\n",
              "      }\n",
              "      quickchartButtonEl.classList.remove('colab-df-spinner');\n",
              "      quickchartButtonEl.classList.add('colab-df-quickchart-complete');\n",
              "    }\n",
              "    (() => {\n",
              "      let quickchartButtonEl =\n",
              "        document.querySelector('#df-fd0f417c-988e-476f-afbb-30bf2a00733b button');\n",
              "      quickchartButtonEl.style.display =\n",
              "        google.colab.kernel.accessAllowed ? 'block' : 'none';\n",
              "    })();\n",
              "  </script>\n",
              "</div>\n",
              "\n",
              "    </div>\n",
              "  </div>\n"
            ],
            "text/plain": [
              "        S_3       S_5       S_6       S_7       S_8      S_11      S_12  \\\n",
              "0  0.168701  0.002771  1.006836  0.105591  0.321777  1.881836  0.190552   \n",
              "1  0.241333  0.006496  1.005859  0.160522  0.170776  2.042969  0.190186   \n",
              "2  0.267090  0.003407  0.006409  0.210083  0.172729  1.641602 -0.026260   \n",
              "3  0.188965  0.007206  0.005840  0.193726  0.171143  1.001953  0.096741   \n",
              "4  0.180054  0.008621  0.002623  0.202148  0.320068  1.082031  0.116821   \n",
              "\n",
              "       S_13      S_15      S_16  ...     D_129     D_130     D_131     D_133  \\\n",
              "0  0.409424  0.400635  0.002531  ...  0.008789  0.006428  0.005684  0.007080   \n",
              "1  0.561523  0.605957  0.007168  ...  0.005577  0.007599  0.008072  0.007187   \n",
              "2  0.692383  0.602051  0.006504  ...  0.009338  0.003609  0.009865  0.008438   \n",
              "3  0.690918  0.508301  0.004078  ...  0.006477  0.006134  0.005898  0.002422   \n",
              "4  0.691406  0.402344  0.003887  ...  0.002028  0.006973  0.005310  0.000302   \n",
              "\n",
              "      D_139     D_140     D_141     D_143     D_144     D_145  \n",
              "0  0.006058  0.004669  0.006058  0.006054  0.008278  0.006058  \n",
              "1  0.000142  0.004940  0.009018  0.003695  0.003754  0.001460  \n",
              "2  0.000074  0.002113  0.004658  0.003155  0.002155  0.006481  \n",
              "3  0.004742  0.006393  0.002890  0.006042  0.005207  0.007858  \n",
              "4  0.008133  0.004330  0.008385  0.001008  0.007420  0.009468  \n",
              "\n",
              "[5 rows x 144 columns]"
            ]
          },
          "execution_count": 218,
          "metadata": {},
          "output_type": "execute_result"
        }
      ],
      "source": [
        "df_combined.head()"
      ]
    },
    {
      "cell_type": "markdown",
      "metadata": {
        "id": "pdefVdkKfJt-"
      },
      "source": [
        "***RESPUESTA CODIGO:***\n",
        "\n",
        "```\n",
        "\tS_3\tS_5\tS_6\tS_7\tS_8\tS_11\tS_12\tS_13\tS_15\tS_16\t...\tD_129\tD_130\tD_131\tD_133\tD_139\tD_140\tD_141\tD_143\tD_144\tD_145\n",
        "0\t0.168701\t0.002771\t1.006836\t0.105591\t0.321777\t1.881836\t0.190552\t0.409424\t0.400635\t0.002531\t...\t0.008789\t0.006428\t0.005684\t0.007080\t0.006058\t0.004669\t0.006058\t0.006054\t0.008278\t0.006058\n",
        "1\t0.241333\t0.006496\t1.005859\t0.160522\t0.170776\t2.042969\t0.190186\t0.561523\t0.605957\t0.007168\t...\t0.005577\t0.007599\t0.008072\t0.007187\t0.000142\t0.004940\t0.009018\t0.003695\t0.003754\t0.001460\n",
        "2\t0.267090\t0.003407\t0.006409\t0.210083\t0.172729\t1.641602\t-0.026260\t0.692383\t0.602051\t0.006504\t...\t0.009338\t0.003609\t0.009865\t0.008438\t0.000074\t0.002113\t0.004658\t0.003155\t0.002155\t0.006481\n",
        "3\t0.188965\t0.007206\t0.005840\t0.193726\t0.171143\t1.001953\t0.096741\t0.690918\t0.508301\t0.004078\t...\t0.006477\t0.006134\t0.005898\t0.002422\t0.004742\t0.006393\t0.002890\t0.006042\t0.005207\t0.007858\n",
        "4\t0.180054\t0.008621\t0.002623\t0.202148\t0.320068\t1.082031\t0.116821\t0.691406\t0.402344\t0.003887\t...\t0.002028\t0.006973\t0.005310\t0.000302\t0.008133\t0.004330\t0.008385\t0.001008\t0.007420\t0.009468\n",
        "5 rows × 144 columns\n",
        "```\n",
        "\n"
      ]
    },
    {
      "cell_type": "code",
      "execution_count": null,
      "metadata": {
        "colab": {
          "base_uri": "https://localhost:8080/"
        },
        "id": "ATRJxwGKyXIi",
        "outputId": "1097ce14-357b-40e2-f95e-4594332590b8"
      },
      "outputs": [
        {
          "name": "stdout",
          "output_type": "stream",
          "text": [
            "Número de variables D_*: 62\n",
            "Número de variables S_*: 19\n",
            "Número de variables P_*: 3\n",
            "Número de variables B_*: 34\n",
            "Número de variables R_*: 26\n"
          ]
        }
      ],
      "source": [
        "d_cou = len([col for col in df_combined.columns if col.startswith('D_')])\n",
        "s_cou = len([col for col in df_combined.columns if col.startswith('S_')])\n",
        "p_cou = len([col for col in df_combined.columns if col.startswith('P_')])\n",
        "b_cou = len([col for col in df_combined.columns if col.startswith('B_')])\n",
        "r_cou = len([col for col in df_combined.columns if col.startswith('R_')])\n",
        "\n",
        "print(f\"Número de variables D_*: {d_cou}\")\n",
        "print(f\"Número de variables S_*: {s_cou}\")\n",
        "print(f\"Número de variables P_*: {p_cou}\")\n",
        "print(f\"Número de variables B_*: {b_cou}\")\n",
        "print(f\"Número de variables R_*: {r_cou}\")"
      ]
    },
    {
      "cell_type": "markdown",
      "metadata": {
        "id": "UiflsSgwfPKJ"
      },
      "source": [
        "***RESPUESTA CODIGO:***\n",
        "\n",
        "```\n",
        "Número de variables D_*: 62\n",
        "Número de variables S_*: 19\n",
        "Número de variables P_*: 3\n",
        "Número de variables B_*: 34\n",
        "Número de variables R_*: 26\n",
        "```\n",
        "\n"
      ]
    },
    {
      "cell_type": "markdown",
      "metadata": {
        "id": "qrZj2EOGmQcD"
      },
      "source": [
        "Debido a que estamos trabajando con una cantidad de datos considerable, realizar el cálculo del **VIF** (Factor de Inflación de la Varianza) sobre todo el conjunto de datos completo implicaría un costo computacional extremadamente alto. El cálculo del VIF.\n",
        "\n",
        "Por esta razón, es necesario tomar una **muestra** del conjunto de datos para poder realizar el análisis de multicolinealidad de manera eficiente. Al trabajar con una muestra significativa, podemos obtener resultados confiables sin sobrecargar los recursos computacionales.\n",
        "\n",
        "Una vez extraída la muestra, se procede a realizar el test de VIF en los grupos de variables definidos para identificar y eliminar aquellas que presentan multicolinealidad alta, mejorando la calidad de las predicciones en modelos posteriores."
      ]
    },
    {
      "cell_type": "code",
      "execution_count": null,
      "metadata": {
        "colab": {
          "base_uri": "https://localhost:8080/"
        },
        "id": "zAWx2Yp4XHLf",
        "outputId": "fde348e2-edba-4549-db9a-82ba00fc3b86"
      },
      "outputs": [
        {
          "name": "stdout",
          "output_type": "stream",
          "text": [
            "Muestra extraída de 500000 registros:\n",
            "               S_3       S_5       S_6       S_7       S_8      S_11  \\\n",
            "10894405  0.246582  0.070007  0.008369  0.317139  0.465820  0.329346   \n",
            "9066074   0.150269  0.003090  0.007442  0.201904  0.325439  0.484375   \n",
            "2459606   0.161743  0.000766  0.007248  0.117920  0.009178  0.363281   \n",
            "31397     0.164062  0.021667  0.008133  0.105591  0.325195  0.321289   \n",
            "6521254   0.127808  0.001785  0.007866  0.082764  1.005859  0.883789   \n",
            "\n",
            "              S_12      S_13      S_15      S_16  ...     D_129     D_130  \\\n",
            "10894405  0.191528  0.009003  0.001779  0.006561  ...  0.005093  0.001910   \n",
            "9066074   0.184448  0.002007  0.309326  0.009415  ...  0.009598  0.008591   \n",
            "2459606   0.194214  0.006790  0.504395  0.000668  ...  1.006836  1.009766   \n",
            "31397     0.187866  0.009338  0.201782  0.006920  ...  1.005859  0.002260   \n",
            "6521254   0.193726  1.006836  0.106262  0.008163  ...  0.001294  0.002098   \n",
            "\n",
            "             D_131     D_133     D_139     D_140     D_141     D_143  \\\n",
            "10894405  0.007637  0.009064  0.009270  0.005241  0.005085  0.002611   \n",
            "9066074   0.008347  0.001728  0.004532  0.007080  0.000263  0.008446   \n",
            "2459606   0.003704  0.005745  1.005859  0.009796  0.937012  1.003906   \n",
            "31397     0.008835  0.009895  1.004883  0.008499  0.871582  1.004883   \n",
            "6521254   0.008530  0.006859  0.004711  0.009987  0.002392  0.002682   \n",
            "\n",
            "             D_144     D_145  \n",
            "10894405  0.002064  0.009430  \n",
            "9066074   0.003584  0.001707  \n",
            "2459606   0.250244  0.189941  \n",
            "31397     0.005913  0.187256  \n",
            "6521254   0.008705  0.005363  \n",
            "\n",
            "[5 rows x 144 columns]\n"
          ]
        }
      ],
      "source": [
        "sample_size = 500000\n",
        "df_sample = df_combined.sample(n=sample_size, random_state=42)\n",
        "\n",
        "print(f\"Muestra extraída de {sample_size} registros:\")\n",
        "print(df_sample.head())"
      ]
    },
    {
      "cell_type": "markdown",
      "metadata": {
        "id": "dCOwzQ_-fUUV"
      },
      "source": [
        "***RESPUESTA CODIGO:***\n",
        "\n",
        "```\n",
        "Muestra extraída de 500000 registros:\n",
        "               S_3       S_5       S_6       S_7       S_8      S_11  \\\n",
        "10894405  0.246582  0.070007  0.008369  0.317139  0.465820  0.329346   \n",
        "9066074   0.150269  0.003090  0.007442  0.201904  0.325439  0.484375   \n",
        "2459606   0.161743  0.000766  0.007248  0.117920  0.009178  0.363281   \n",
        "31397     0.164062  0.021667  0.008133  0.105591  0.325195  0.321289   \n",
        "6521254   0.127808  0.001785  0.007866  0.082764  1.005859  0.883789   \n",
        "\n",
        "              S_12      S_13      S_15      S_16  ...     D_129     D_130  \\\n",
        "10894405  0.191528  0.009003  0.001779  0.006561  ...  0.005093  0.001910   \n",
        "9066074   0.184448  0.002007  0.309326  0.009415  ...  0.009598  0.008591   \n",
        "2459606   0.194214  0.006790  0.504395  0.000668  ...  1.006836  1.009766   \n",
        "31397     0.187866  0.009338  0.201782  0.006920  ...  1.005859  0.002260   \n",
        "6521254   0.193726  1.006836  0.106262  0.008163  ...  0.001294  0.002098   \n",
        "\n",
        "             D_131     D_133     D_139     D_140     D_141     D_143  \\\n",
        "10894405  0.007637  0.009064  0.009270  0.005241  0.005085  0.002611   \n",
        "9066074   0.008347  0.001728  0.004532  0.007080  0.000263  0.008446   \n",
        "2459606   0.003704  0.005745  1.005859  0.009796  0.937012  1.003906   \n",
        "31397     0.008835  0.009895  1.004883  0.008499  0.871582  1.004883   \n",
        "6521254   0.008530  0.006859  0.004711  0.009987  0.002392  0.002682   \n",
        "\n",
        "             D_144     D_145  \n",
        "10894405  0.002064  0.009430  \n",
        "9066074   0.003584  0.001707  \n",
        "2459606   0.250244  0.189941  \n",
        "31397     0.005913  0.187256  \n",
        "6521254   0.008705  0.005363  \n",
        "\n",
        "[5 rows x 144 columns]\n",
        "```\n",
        "\n"
      ]
    },
    {
      "cell_type": "code",
      "execution_count": null,
      "metadata": {
        "colab": {
          "base_uri": "https://localhost:8080/"
        },
        "id": "HkaojSNPXtkJ",
        "outputId": "1ace924a-0271-4c47-bf5e-8339fe089882"
      },
      "outputs": [
        {
          "name": "stdout",
          "output_type": "stream",
          "text": [
            "S_3      float32\n",
            "S_5      float32\n",
            "S_6      float32\n",
            "S_7      float32\n",
            "S_8      float32\n",
            "          ...   \n",
            "D_140    float32\n",
            "D_141    float32\n",
            "D_143    float32\n",
            "D_144    float32\n",
            "D_145    float32\n",
            "Length: 144, dtype: object\n"
          ]
        }
      ],
      "source": [
        "variable_groups = {\n",
        "    'S': [col for col in df_sample.columns if col.startswith('S_')],\n",
        "    'P': [col for col in df_sample.columns if col.startswith('P_')],\n",
        "    'B': [col for col in df_sample.columns if col.startswith('B_')],\n",
        "    'R': [col for col in df_sample.columns if col.startswith('R_')]\n",
        "}\n",
        "\n",
        "# Identificar las columnas que son float16\n",
        "float16_cols = df_sample.select_dtypes(include=['float16']).columns\n",
        "\n",
        "# Convertir las columnas de tipo float16\n",
        "df_sample[float16_cols] = df_sample[float16_cols].astype('float32')\n",
        "\n",
        "print(df_sample.dtypes)\n"
      ]
    },
    {
      "cell_type": "markdown",
      "metadata": {
        "id": "96ym4qzifabO"
      },
      "source": [
        "***RESPUESTA CODIGO:***\n",
        "\n",
        "```\n",
        "S_3      float32\n",
        "S_5      float32\n",
        "S_6      float32\n",
        "S_7      float32\n",
        "S_8      float32\n",
        "          ...   \n",
        "D_140    float32\n",
        "D_141    float32\n",
        "D_143    float32\n",
        "D_144    float32\n",
        "D_145    float32\n",
        "Length: 144, dtype: object\n",
        "```\n",
        "\n"
      ]
    },
    {
      "cell_type": "code",
      "execution_count": null,
      "metadata": {
        "colab": {
          "base_uri": "https://localhost:8080/"
        },
        "id": "MTHpo3GJYOu0",
        "outputId": "0e861ac2-a4cd-4f5b-81d0-702ff89bd4b2"
      },
      "outputs": [
        {
          "name": "stdout",
          "output_type": "stream",
          "text": [
            "Evaluando grupo: S\n",
            "Eliminando variable: S_22 (VIF: 28.758456162003142)\n",
            "Se ha eliminado una variable. Ahora se vuelve a recalcular el VIF.\n",
            "Eliminando variable: S_3 (VIF: 18.26617901593956)\n",
            "Se ha eliminado una variable. Ahora se vuelve a recalcular el VIF.\n",
            "Eliminando variable: S_25 (VIF: 14.19290002486073)\n",
            "Se ha eliminado una variable. Ahora se vuelve a recalcular el VIF.\n",
            "Evaluando grupo: P\n",
            "Evaluando grupo: B\n",
            "Eliminando variable: B_14 (VIF: 5456.072780372979)\n",
            "Se ha eliminado una variable. Ahora se vuelve a recalcular el VIF.\n",
            "Eliminando variable: B_1 (VIF: 425.8470078194831)\n",
            "Se ha eliminado una variable. Ahora se vuelve a recalcular el VIF.\n",
            "Eliminando variable: B_23 (VIF: 371.97902628573644)\n",
            "Se ha eliminado una variable. Ahora se vuelve a recalcular el VIF.\n",
            "Eliminando variable: B_37 (VIF: 81.86801426065891)\n",
            "Se ha eliminado una variable. Ahora se vuelve a recalcular el VIF.\n",
            "Eliminando variable: B_31 (VIF: 32.64896796852637)\n",
            "Se ha eliminado una variable. Ahora se vuelve a recalcular el VIF.\n",
            "Eliminando variable: B_2 (VIF: 26.77089741568306)\n",
            "Se ha eliminado una variable. Ahora se vuelve a recalcular el VIF.\n",
            "Eliminando variable: B_18 (VIF: 14.071546143333002)\n",
            "Se ha eliminado una variable. Ahora se vuelve a recalcular el VIF.\n",
            "Evaluando grupo: R\n",
            "Eliminando variable: R_5 (VIF: 16.00323265525512)\n",
            "Se ha eliminado una variable. Ahora se vuelve a recalcular el VIF.\n",
            "Eliminando variable: R_1 (VIF: 11.521487740936397)\n",
            "Se ha eliminado una variable. Ahora se vuelve a recalcular el VIF.\n",
            "Eliminando variable: R_12 (VIF: 10.790614241713369)\n",
            "Se ha eliminado una variable. Ahora se vuelve a recalcular el VIF.\n",
            "DataFrame después de eliminar variables por multicolinealidad:\n",
            "               S_5       S_6       S_7       S_8      S_11      S_12  \\\n",
            "10894405  0.070007  0.008369  0.317139  0.465820  0.329346  0.191528   \n",
            "9066074   0.003090  0.007442  0.201904  0.325439  0.484375  0.184448   \n",
            "2459606   0.000766  0.007248  0.117920  0.009178  0.363281  0.194214   \n",
            "31397     0.021667  0.008133  0.105591  0.325195  0.321289  0.187866   \n",
            "6521254   0.001785  0.007866  0.082764  1.005859  0.883789  0.193726   \n",
            "\n",
            "              S_13      S_15      S_16      S_17  ...     D_129     D_130  \\\n",
            "10894405  0.009003  0.001779  0.006561  0.009354  ...  0.005093  0.001910   \n",
            "9066074   0.002007  0.309326  0.009415  0.009018  ...  0.009598  0.008591   \n",
            "2459606   0.006790  0.504395  0.000668  0.007896  ...  1.006836  1.009766   \n",
            "31397     0.009338  0.201782  0.006920  0.005566  ...  1.005859  0.002260   \n",
            "6521254   1.006836  0.106262  0.008163  0.001927  ...  0.001294  0.002098   \n",
            "\n",
            "             D_131     D_133     D_139     D_140     D_141     D_143  \\\n",
            "10894405  0.007637  0.009064  0.009270  0.005241  0.005085  0.002611   \n",
            "9066074   0.008347  0.001728  0.004532  0.007080  0.000263  0.008446   \n",
            "2459606   0.003704  0.005745  1.005859  0.009796  0.937012  1.003906   \n",
            "31397     0.008835  0.009895  1.004883  0.008499  0.871582  1.004883   \n",
            "6521254   0.008530  0.006859  0.004711  0.009987  0.002392  0.002682   \n",
            "\n",
            "             D_144     D_145  \n",
            "10894405  0.002064  0.009430  \n",
            "9066074   0.003584  0.001707  \n",
            "2459606   0.250244  0.189941  \n",
            "31397     0.005913  0.187256  \n",
            "6521254   0.008705  0.005363  \n",
            "\n",
            "[5 rows x 131 columns]\n"
          ]
        }
      ],
      "source": [
        "# Aplicar la función de eliminación de multicolinealidad por grupos\n",
        "df_improved_sample = delete_multicollinearity_by_group(df_sample, variable_groups=variable_groups, VIF_threshold=10)\n",
        "\n",
        "print(\"DataFrame después de eliminar variables por multicolinealidad:\")\n",
        "print(df_improved_sample.head())"
      ]
    },
    {
      "cell_type": "markdown",
      "metadata": {
        "id": "g7Btw0tysLX1"
      },
      "source": [
        "***RESPUESTA CODIGO:***\n",
        "\n",
        "\n",
        "```\n",
        "Evaluando grupo: S\n",
        "Eliminando variable: S_22 (VIF: 28.758456162003142)\n",
        "Se ha eliminado una variable. Ahora se vuelve a recalcular el VIF.\n",
        "Eliminando variable: S_3 (VIF: 18.26617901593956)\n",
        "Se ha eliminado una variable. Ahora se vuelve a recalcular el VIF.\n",
        "Eliminando variable: S_25 (VIF: 14.19290002486073)\n",
        "Se ha eliminado una variable. Ahora se vuelve a recalcular el VIF.\n",
        "Evaluando grupo: P\n",
        "Evaluando grupo: B\n",
        "Eliminando variable: B_14 (VIF: 5456.072780372979)\n",
        "Se ha eliminado una variable. Ahora se vuelve a recalcular el VIF.\n",
        "Eliminando variable: B_1 (VIF: 425.8470078194831)\n",
        "Se ha eliminado una variable. Ahora se vuelve a recalcular el VIF.\n",
        "Eliminando variable: B_23 (VIF: 371.97902628573644)\n",
        "Se ha eliminado una variable. Ahora se vuelve a recalcular el VIF.\n",
        "Eliminando variable: B_37 (VIF: 81.86801426065891)\n",
        "Se ha eliminado una variable. Ahora se vuelve a recalcular el VIF.\n",
        "Eliminando variable: B_31 (VIF: 32.64896796852637)\n",
        "Se ha eliminado una variable. Ahora se vuelve a recalcular el VIF.\n",
        "Eliminando variable: B_2 (VIF: 26.77089741568306)\n",
        "Se ha eliminado una variable. Ahora se vuelve a recalcular el VIF.\n",
        "Eliminando variable: B_18 (VIF: 14.071546143333002)\n",
        "Se ha eliminado una variable. Ahora se vuelve a recalcular el VIF.\n",
        "Evaluando grupo: R\n",
        "Eliminando variable: R_5 (VIF: 16.00323265525512)\n",
        "Se ha eliminado una variable. Ahora se vuelve a recalcular el VIF.\n",
        "Eliminando variable: R_1 (VIF: 11.521487740936397)\n",
        "Se ha eliminado una variable. Ahora se vuelve a recalcular el VIF.\n",
        "Eliminando variable: R_12 (VIF: 10.790614241713369)\n",
        "Se ha eliminado una variable. Ahora se vuelve a recalcular el VIF.\n",
        "DataFrame después de eliminar variables por multicolinealidad:\n",
        "               S_5       S_6       S_7       S_8      S_11      S_12  \\\n",
        "10894405  0.070007  0.008369  0.317139  0.465820  0.329346  0.191528   \n",
        "9066074   0.003090  0.007442  0.201904  0.325439  0.484375  0.184448   \n",
        "2459606   0.000766  0.007248  0.117920  0.009178  0.363281  0.194214   \n",
        "31397     0.021667  0.008133  0.105591  0.325195  0.321289  0.187866   \n",
        "6521254   0.001785  0.007866  0.082764  1.005859  0.883789  0.193726   \n",
        "\n",
        "              S_13      S_15      S_16      S_17  ...     D_129     D_130  \\\n",
        "10894405  0.009003  0.001779  0.006561  0.009354  ...  0.005093  0.001910   \n",
        "9066074   0.002007  0.309326  0.009415  0.009018  ...  0.009598  0.008591   \n",
        "2459606   0.006790  0.504395  0.000668  0.007896  ...  1.006836  1.009766   \n",
        "31397     0.009338  0.201782  0.006920  0.005566  ...  1.005859  0.002260   \n",
        "6521254   1.006836  0.106262  0.008163  0.001927  ...  0.001294  0.002098   \n",
        "\n",
        "             D_131     D_133     D_139     D_140     D_141     D_143  \\\n",
        "10894405  0.007637  0.009064  0.009270  0.005241  0.005085  0.002611   \n",
        "9066074   0.008347  0.001728  0.004532  0.007080  0.000263  0.008446   \n",
        "2459606   0.003704  0.005745  1.005859  0.009796  0.937012  1.003906   \n",
        "31397     0.008835  0.009895  1.004883  0.008499  0.871582  1.004883   \n",
        "6521254   0.008530  0.006859  0.004711  0.009987  0.002392  0.002682   \n",
        "\n",
        "             D_144     D_145  \n",
        "10894405  0.002064  0.009430  \n",
        "9066074   0.003584  0.001707  \n",
        "2459606   0.250244  0.189941  \n",
        "31397     0.005913  0.187256  \n",
        "6521254   0.008705  0.005363  \n",
        "\n",
        "[5 rows x 131 columns]\n",
        "```\n",
        "\n"
      ]
    },
    {
      "cell_type": "code",
      "execution_count": null,
      "metadata": {
        "colab": {
          "base_uri": "https://localhost:8080/"
        },
        "id": "tiWWnPLWw7Mn",
        "outputId": "88b3f182-4585-40e3-eadd-a86b1bcebc56"
      },
      "outputs": [
        {
          "name": "stdout",
          "output_type": "stream",
          "text": [
            "Evaluando grupo: D\n",
            "Eliminando variable: D_104 (VIF: 8654.684614946724)\n",
            "Se ha eliminado una variable. Ahora se vuelve a recalcular el VIF.\n",
            "Eliminando variable: D_139 (VIF: 1515.3778668468433)\n",
            "Se ha eliminado una variable. Ahora se vuelve a recalcular el VIF.\n",
            "Eliminando variable: D_141 (VIF: 334.4859593874102)\n",
            "Se ha eliminado una variable. Ahora se vuelve a recalcular el VIF.\n",
            "Eliminando variable: D_118 (VIF: 308.3878763509574)\n",
            "Se ha eliminado una variable. Ahora se vuelve a recalcular el VIF.\n",
            "Eliminando variable: D_75 (VIF: 85.05938786718704)\n",
            "Se ha eliminado una variable. Ahora se vuelve a recalcular el VIF.\n",
            "Eliminando variable: D_54 (VIF: 25.06286886755071)\n",
            "Se ha eliminado una variable. Ahora se vuelve a recalcular el VIF.\n",
            "Eliminando variable: D_121 (VIF: 18.810098595623405)\n",
            "Se ha eliminado una variable. Ahora se vuelve a recalcular el VIF.\n",
            "Eliminando variable: D_58 (VIF: 18.409072087234858)\n",
            "Se ha eliminado una variable. Ahora se vuelve a recalcular el VIF.\n",
            "Eliminando variable: D_55 (VIF: 12.105736405078398)\n",
            "Se ha eliminado una variable. Ahora se vuelve a recalcular el VIF.\n",
            "DataFrame después de eliminar variables por multicolinealidad en el grupo D:\n",
            "               S_3       S_5       S_6       S_7       S_8      S_11  \\\n",
            "10894405  0.246582  0.070007  0.008369  0.317139  0.465820  0.329346   \n",
            "9066074   0.150269  0.003090  0.007442  0.201904  0.325439  0.484375   \n",
            "2459606   0.161743  0.000766  0.007248  0.117920  0.009178  0.363281   \n",
            "31397     0.164062  0.021667  0.008133  0.105591  0.325195  0.321289   \n",
            "6521254   0.127808  0.001785  0.007866  0.082764  1.005859  0.883789   \n",
            "\n",
            "              S_12      S_13      S_15      S_16  ...     D_127     D_128  \\\n",
            "10894405  0.191528  0.009003  0.001779  0.006561  ...  0.008125  1.001953   \n",
            "9066074   0.184448  0.002007  0.309326  0.009415  ...  1.009766  1.000977   \n",
            "2459606   0.194214  0.006790  0.504395  0.000668  ...  0.000148  1.006836   \n",
            "31397     0.187866  0.009338  0.201782  0.006920  ...  0.001764  1.001953   \n",
            "6521254   0.193726  1.006836  0.106262  0.008163  ...  0.003523  1.004883   \n",
            "\n",
            "             D_129     D_130     D_131     D_133     D_140     D_143  \\\n",
            "10894405  0.005093  0.001910  0.007637  0.009064  0.005241  0.002611   \n",
            "9066074   0.009598  0.008591  0.008347  0.001728  0.007080  0.008446   \n",
            "2459606   1.006836  1.009766  0.003704  0.005745  0.009796  1.003906   \n",
            "31397     1.005859  0.002260  0.008835  0.009895  0.008499  1.004883   \n",
            "6521254   0.001294  0.002098  0.008530  0.006859  0.009987  0.002682   \n",
            "\n",
            "             D_144     D_145  \n",
            "10894405  0.002064  0.009430  \n",
            "9066074   0.003584  0.001707  \n",
            "2459606   0.250244  0.189941  \n",
            "31397     0.005913  0.187256  \n",
            "6521254   0.008705  0.005363  \n",
            "\n",
            "[5 rows x 135 columns]\n"
          ]
        }
      ],
      "source": [
        "# Identificar las columnas que son float16 en el DataFrame\n",
        "float16_cols = df_sample.select_dtypes(include=['float16']).columns\n",
        "\n",
        "df_sample[float16_cols] = df_sample[float16_cols].astype('float32')\n",
        "\n",
        "# Definir el grupo de variables que comienzan con 'D_'\n",
        "variable_groups = {\n",
        "    'D': [col for col in df_sample.columns if col.startswith('D_')]\n",
        "}\n",
        "\n",
        "# Aplicar la función de eliminación de multicolinealidad por grupos sin target\n",
        "df_improved_d = delete_multicollinearity_by_group(df_sample, variable_groups=variable_groups, VIF_threshold=10)\n",
        "\n",
        "# Mostrar el DataFrame después de eliminar variables por multicolinealidad en el grupo 'D'\n",
        "print(\"DataFrame después de eliminar variables por multicolinealidad en el grupo D:\")\n",
        "print(df_improved_d.head())\n"
      ]
    },
    {
      "cell_type": "markdown",
      "metadata": {
        "id": "Wr2MC4oUQ7xz"
      },
      "source": [
        "***RESPUESTA CODIGO:***\n",
        "\n",
        "```\n",
        "Evaluando grupo: D\n",
        "Eliminando variable: D_104 (VIF: 8654.684614946724)\n",
        "Se ha eliminado una variable. Ahora se vuelve a recalcular el VIF.\n",
        "Eliminando variable: D_139 (VIF: 1515.3778668468433)\n",
        "Se ha eliminado una variable. Ahora se vuelve a recalcular el VIF.\n",
        "Eliminando variable: D_141 (VIF: 334.4859593874102)\n",
        "Se ha eliminado una variable. Ahora se vuelve a recalcular el VIF.\n",
        "Eliminando variable: D_118 (VIF: 308.3878763509574)\n",
        "Se ha eliminado una variable. Ahora se vuelve a recalcular el VIF.\n",
        "Eliminando variable: D_75 (VIF: 85.05938786718704)\n",
        "Se ha eliminado una variable. Ahora se vuelve a recalcular el VIF.\n",
        "Eliminando variable: D_54 (VIF: 25.06286886755071)\n",
        "Se ha eliminado una variable. Ahora se vuelve a recalcular el VIF.\n",
        "Eliminando variable: D_121 (VIF: 18.810098595623405)\n",
        "Se ha eliminado una variable. Ahora se vuelve a recalcular el VIF.\n",
        "Eliminando variable: D_58 (VIF: 18.409072087234858)\n",
        "Se ha eliminado una variable. Ahora se vuelve a recalcular el VIF.\n",
        "Eliminando variable: D_55 (VIF: 12.105736405078398)\n",
        "Se ha eliminado una variable. Ahora se vuelve a recalcular el VIF.\n",
        "DataFrame después de eliminar variables por multicolinealidad en el grupo D:\n",
        "               S_3       S_5       S_6       S_7       S_8      S_11  \\\n",
        "10894405  0.246582  0.070007  0.008369  0.317139  0.465820  0.329346   \n",
        "9066074   0.150269  0.003090  0.007442  0.201904  0.325439  0.484375   \n",
        "2459606   0.161743  0.000766  0.007248  0.117920  0.009178  0.363281   \n",
        "31397     0.164062  0.021667  0.008133  0.105591  0.325195  0.321289   \n",
        "6521254   0.127808  0.001785  0.007866  0.082764  1.005859  0.883789   \n",
        "\n",
        "              S_12      S_13      S_15      S_16  ...     D_127     D_128  \\\n",
        "10894405  0.191528  0.009003  0.001779  0.006561  ...  0.008125  1.001953   \n",
        "9066074   0.184448  0.002007  0.309326  0.009415  ...  1.009766  1.000977   \n",
        "2459606   0.194214  0.006790  0.504395  0.000668  ...  0.000148  1.006836   \n",
        "31397     0.187866  0.009338  0.201782  0.006920  ...  0.001764  1.001953   \n",
        "6521254   0.193726  1.006836  0.106262  0.008163  ...  0.003523  1.004883   \n",
        "\n",
        "             D_129     D_130     D_131     D_133     D_140     D_143  \\\n",
        "10894405  0.005093  0.001910  0.007637  0.009064  0.005241  0.002611   \n",
        "9066074   0.009598  0.008591  0.008347  0.001728  0.007080  0.008446   \n",
        "2459606   1.006836  1.009766  0.003704  0.005745  0.009796  1.003906   \n",
        "31397     1.005859  0.002260  0.008835  0.009895  0.008499  1.004883   \n",
        "6521254   0.001294  0.002098  0.008530  0.006859  0.009987  0.002682   \n",
        "\n",
        "             D_144     D_145  \n",
        "10894405  0.002064  0.009430  \n",
        "9066074   0.003584  0.001707  \n",
        "2459606   0.250244  0.189941  \n",
        "31397     0.005913  0.187256  \n",
        "6521254   0.008705  0.005363  \n",
        "\n",
        "[5 rows x 135 columns]\n",
        "```\n",
        "\n"
      ]
    },
    {
      "cell_type": "markdown",
      "metadata": {
        "id": "FjapCILAxcVO"
      },
      "source": [
        "\n",
        "\n",
        "---\n",
        "\n"
      ]
    },
    {
      "cell_type": "code",
      "execution_count": null,
      "metadata": {
        "colab": {
          "base_uri": "https://localhost:8080/"
        },
        "id": "OvvYd3GvOx6X",
        "outputId": "f86ed095-a843-4b19-d2c3-3d76d5b35844"
      },
      "outputs": [
        {
          "name": "stdout",
          "output_type": "stream",
          "text": [
            "              D_39      D_41      D_44      D_45      D_47      D_48  \\\n",
            "10894405  0.621094  0.000642  0.009697  0.089722  0.609863  0.056702   \n",
            "9066074   0.000989  0.004116  0.007198  0.428711  0.426270  0.249268   \n",
            "2459606   0.007694  0.007557  0.007729  0.102356  0.493164  0.143066   \n",
            "31397     0.009262  0.005531  0.256348  0.110840  0.192017  0.971191   \n",
            "6521254   0.500488  0.003866  0.005898  0.482178  0.615234  0.057739   \n",
            "\n",
            "              D_51      D_52      D_59      D_60  ...     D_127     D_128  \\\n",
            "10894405  0.003695  0.211670  0.607422  0.192383  ...  0.008125  1.001953   \n",
            "9066074   0.334229  0.273926  0.400391  0.000159  ...  1.009766  1.000977   \n",
            "2459606   0.337158  0.170532  0.503418  0.006031  ...  0.000148  1.006836   \n",
            "31397     0.006351  0.033081  0.625488  0.152588  ...  0.001764  1.001953   \n",
            "6521254   0.008606  0.197632  0.043579  0.740723  ...  0.003523  1.004883   \n",
            "\n",
            "             D_129     D_130     D_131     D_133     D_140     D_143  \\\n",
            "10894405  0.005093  0.001910  0.007637  0.009064  0.005241  0.002611   \n",
            "9066074   0.009598  0.008591  0.008347  0.001728  0.007080  0.008446   \n",
            "2459606   1.006836  1.009766  0.003704  0.005745  0.009796  1.003906   \n",
            "31397     1.005859  0.002260  0.008835  0.009895  0.008499  1.004883   \n",
            "6521254   0.001294  0.002098  0.008530  0.006859  0.009987  0.002682   \n",
            "\n",
            "             D_144     D_145  \n",
            "10894405  0.002064  0.009430  \n",
            "9066074   0.003584  0.001707  \n",
            "2459606   0.250244  0.189941  \n",
            "31397     0.005913  0.187256  \n",
            "6521254   0.008705  0.005363  \n",
            "\n",
            "[5 rows x 53 columns]\n"
          ]
        }
      ],
      "source": [
        "# Filtrar solo las columnas que comienzan con 'D_' y que aún existen en el DataFrame\n",
        "df_d_F = df_improved_d[[col for col in df_improved_d.columns if col.startswith('D_')]]\n",
        "\n",
        "# Mostrar las primeras filas del DataFrame con las columnas 'D_'\n",
        "print(df_d_F.head())"
      ]
    },
    {
      "cell_type": "markdown",
      "metadata": {
        "id": "VUKngIgzSmGk"
      },
      "source": [
        "***RESPUESTA CODIGO:***\n",
        "\n",
        "```\n",
        "              D_39      D_41      D_44      D_45      D_47      D_48  \\\n",
        "10894405  0.621094  0.000642  0.009697  0.089722  0.609863  0.056702   \n",
        "9066074   0.000989  0.004116  0.007198  0.428711  0.426270  0.249268   \n",
        "2459606   0.007694  0.007557  0.007729  0.102356  0.493164  0.143066   \n",
        "31397     0.009262  0.005531  0.256348  0.110840  0.192017  0.971191   \n",
        "6521254   0.500488  0.003866  0.005898  0.482178  0.615234  0.057739   \n",
        "\n",
        "              D_51      D_52      D_59      D_60  ...     D_127     D_128  \\\n",
        "10894405  0.003695  0.211670  0.607422  0.192383  ...  0.008125  1.001953   \n",
        "9066074   0.334229  0.273926  0.400391  0.000159  ...  1.009766  1.000977   \n",
        "2459606   0.337158  0.170532  0.503418  0.006031  ...  0.000148  1.006836   \n",
        "31397     0.006351  0.033081  0.625488  0.152588  ...  0.001764  1.001953   \n",
        "6521254   0.008606  0.197632  0.043579  0.740723  ...  0.003523  1.004883   \n",
        "\n",
        "             D_129     D_130     D_131     D_133     D_140     D_143  \\\n",
        "10894405  0.005093  0.001910  0.007637  0.009064  0.005241  0.002611   \n",
        "9066074   0.009598  0.008591  0.008347  0.001728  0.007080  0.008446   \n",
        "2459606   1.006836  1.009766  0.003704  0.005745  0.009796  1.003906   \n",
        "31397     1.005859  0.002260  0.008835  0.009895  0.008499  1.004883   \n",
        "6521254   0.001294  0.002098  0.008530  0.006859  0.009987  0.002682   \n",
        "\n",
        "             D_144     D_145  \n",
        "10894405  0.002064  0.009430  \n",
        "9066074   0.003584  0.001707  \n",
        "2459606   0.250244  0.189941  \n",
        "31397     0.005913  0.187256  \n",
        "6521254   0.008705  0.005363  \n",
        "\n",
        "[5 rows x 53 columns]\n",
        "```\n",
        "\n"
      ]
    },
    {
      "cell_type": "code",
      "execution_count": null,
      "metadata": {
        "colab": {
          "base_uri": "https://localhost:8080/"
        },
        "id": "qt4Ln15XQ1Yu",
        "outputId": "d1204b63-1fe6-46f9-f7cc-e18e68dc3395"
      },
      "outputs": [
        {
          "name": "stdout",
          "output_type": "stream",
          "text": [
            "               S_5       S_6       S_7       S_8      S_11      S_12  \\\n",
            "10894405  0.070007  0.008369  0.317139  0.465820  0.329346  0.191528   \n",
            "9066074   0.003090  0.007442  0.201904  0.325439  0.484375  0.184448   \n",
            "2459606   0.000766  0.007248  0.117920  0.009178  0.363281  0.194214   \n",
            "31397     0.021667  0.008133  0.105591  0.325195  0.321289  0.187866   \n",
            "6521254   0.001785  0.007866  0.082764  1.005859  0.883789  0.193726   \n",
            "\n",
            "              S_13      S_15      S_16      S_17  ...      R_18      R_19  \\\n",
            "10894405  0.009003  0.001779  0.006561  0.009354  ...  0.003735  0.005169   \n",
            "9066074   0.002007  0.309326  0.009415  0.009018  ...  0.003063  0.003593   \n",
            "2459606   0.006790  0.504395  0.000668  0.007896  ...  0.000631  0.002241   \n",
            "31397     0.009338  0.201782  0.006920  0.005566  ...  0.000101  0.003309   \n",
            "6521254   1.006836  0.106262  0.008163  0.001927  ...  0.004200  0.005013   \n",
            "\n",
            "              R_20      R_21      R_22      R_23      R_24      R_25  \\\n",
            "10894405  0.008965  0.000326  0.006260  0.002609  0.007542  0.001259   \n",
            "9066074   0.002693  0.003202  0.007427  0.005833  0.009521  0.002653   \n",
            "2459606   0.009285  0.000235  0.006474  0.000006  0.007164  0.005180   \n",
            "31397     0.000731  0.003901  0.002193  0.009521  0.004761  0.004326   \n",
            "6521254   0.007217  0.005524  0.009590  0.001703  0.005104  0.001008   \n",
            "\n",
            "              R_27      R_28  \n",
            "10894405  1.003906  0.004978  \n",
            "9066074   1.003906  0.002398  \n",
            "2459606   1.007812  0.008720  \n",
            "31397     1.001953  0.006081  \n",
            "6521254   1.000977  0.006752  \n",
            "\n",
            "[5 rows x 69 columns]\n"
          ]
        }
      ],
      "source": [
        "# Filtrar todas las columnas de df_improved_sample excepto las que comienzan con 'D_'\n",
        "df_sample_SIND = df_improved_sample[[col for col in df_improved_sample.columns if not col.startswith('D_')]]\n",
        "\n",
        "# Mostrar las primeras filas del DataFrame resultante\n",
        "print(df_sample_SIND.head())\n"
      ]
    },
    {
      "cell_type": "markdown",
      "metadata": {
        "id": "PcCjtu68SscR"
      },
      "source": [
        "***RESPUESTA CODIGO:***\n",
        "\n",
        "```\n",
        "               S_5       S_6       S_7       S_8      S_11      S_12  \\\n",
        "10894405  0.070007  0.008369  0.317139  0.465820  0.329346  0.191528   \n",
        "9066074   0.003090  0.007442  0.201904  0.325439  0.484375  0.184448   \n",
        "2459606   0.000766  0.007248  0.117920  0.009178  0.363281  0.194214   \n",
        "31397     0.021667  0.008133  0.105591  0.325195  0.321289  0.187866   \n",
        "6521254   0.001785  0.007866  0.082764  1.005859  0.883789  0.193726   \n",
        "\n",
        "              S_13      S_15      S_16      S_17  ...      R_18      R_19  \\\n",
        "10894405  0.009003  0.001779  0.006561  0.009354  ...  0.003735  0.005169   \n",
        "9066074   0.002007  0.309326  0.009415  0.009018  ...  0.003063  0.003593   \n",
        "2459606   0.006790  0.504395  0.000668  0.007896  ...  0.000631  0.002241   \n",
        "31397     0.009338  0.201782  0.006920  0.005566  ...  0.000101  0.003309   \n",
        "6521254   1.006836  0.106262  0.008163  0.001927  ...  0.004200  0.005013   \n",
        "\n",
        "              R_20      R_21      R_22      R_23      R_24      R_25  \\\n",
        "10894405  0.008965  0.000326  0.006260  0.002609  0.007542  0.001259   \n",
        "9066074   0.002693  0.003202  0.007427  0.005833  0.009521  0.002653   \n",
        "2459606   0.009285  0.000235  0.006474  0.000006  0.007164  0.005180   \n",
        "31397     0.000731  0.003901  0.002193  0.009521  0.004761  0.004326   \n",
        "6521254   0.007217  0.005524  0.009590  0.001703  0.005104  0.001008   \n",
        "\n",
        "              R_27      R_28  \n",
        "10894405  1.003906  0.004978  \n",
        "9066074   1.003906  0.002398  \n",
        "2459606   1.007812  0.008720  \n",
        "31397     1.001953  0.006081  \n",
        "6521254   1.000977  0.006752  \n",
        "\n",
        "[5 rows x 69 columns]\n",
        "```\n",
        "\n"
      ]
    },
    {
      "cell_type": "code",
      "execution_count": null,
      "metadata": {
        "colab": {
          "base_uri": "https://localhost:8080/"
        },
        "id": "OdUN5EubSNd9",
        "outputId": "d7c0addb-3391-41d0-8f83-4fc5a23042bc"
      },
      "outputs": [
        {
          "name": "stdout",
          "output_type": "stream",
          "text": [
            "Archivo CSV guardado con éxito.\n"
          ]
        }
      ],
      "source": [
        "'''df_sample_SIND.to_csv('df_SIND.csv', index=False)\n",
        "\n",
        "print(\"Archivo CSV guardado con éxito.\")'''"
      ]
    },
    {
      "cell_type": "code",
      "execution_count": null,
      "metadata": {
        "id": "gADgW87mSVAN"
      },
      "outputs": [],
      "source": [
        "'''df_d_F.to_csv('df_d_F.csv', index=False)\n",
        "\n",
        "print(\"Archivo CSV guardado con éxito.\")'''"
      ]
    }
  ],
  "metadata": {
    "accelerator": "TPU",
    "colab": {
      "gpuType": "V28",
      "provenance": []
    },
    "kernelspec": {
      "display_name": "Python 3",
      "name": "python3"
    },
    "language_info": {
      "name": "python"
    }
  },
  "nbformat": 4,
  "nbformat_minor": 0
}
