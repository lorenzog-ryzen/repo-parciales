{
  "cells": [
    {
      "cell_type": "markdown",
      "metadata": {},
      "source": [
        "# $\\textit{Punto 2}$"
      ]
    },
    {
      "cell_type": "code",
      "execution_count": 12,
      "metadata": {
        "id": "QDw3M0CcPa7k"
      },
      "outputs": [],
      "source": [
        "from sklearn.datasets import make_blobs, load_iris, load_breast_cancer, make_classification\n",
        "from sklearn.model_selection import GridSearchCV, train_test_split, StratifiedKFold, cross_val_score\n",
        "from sklearn.pipeline import Pipeline\n",
        "from sklearn.preprocessing import StandardScaler, MinMaxScaler, RobustScaler, MaxAbsScaler, OneHotEncoder, LabelEncoder\n",
        "from sklearn.svm import SVC\n",
        "from sklearn.linear_model import LogisticRegression\n",
        "from sklearn.neighbors import KNeighborsRegressor, KNeighborsClassifier\n",
        "from sklearn.ensemble import StackingClassifier\n",
        "from sklearn.naive_bayes import GaussianNB\n",
        "from sklearn.metrics import (accuracy_score, recall_score, precision_score, f1_score, roc_auc_score, \n",
        "                             roc_curve, auc, confusion_matrix, classification_report, \n",
        "                             mean_absolute_error, mean_squared_error, mean_squared_log_error, \n",
        "                             r2_score, explained_variance_score, mean_absolute_percentage_error)\n",
        "from sklearn.feature_selection import SelectKBest, chi2\n",
        "from sklearn.metrics import RocCurveDisplay\n",
        "from skopt import BayesSearchCV\n",
        "from skopt.space import Real, Categorical, Integer\n",
        "from bayes_opt import BayesianOptimization\n",
        "from imblearn.over_sampling import ADASYN\n",
        "from collections import Counter\n",
        "from statsmodels.stats.outliers_influence import variance_inflation_factor\n",
        "import pandas as pd\n",
        "import numpy as np\n",
        "import seaborn as sns\n",
        "import mglearn\n",
        "import matplotlib.pyplot as plt\n",
        "import time\n",
        "import warnings\n",
        "warnings.filterwarnings('ignore')"
      ]
    },
    {
      "cell_type": "code",
      "execution_count": 15,
      "metadata": {
        "id": "pVGNpdHo4M9l"
      },
      "outputs": [],
      "source": [
        "class Datos:\n",
        "  def __init__(self, X, y) -> None:\n",
        "    self.X_train, self.y_train, self.X_test, self.y_test = self._load_data(X, y)\n",
        "  def _load_data(self, X, y):\n",
        "    X_train, X_test, y_train, y_test = train_test_split(X, y, stratify = y, random_state = 11)\n",
        "    X_train = X_train.reset_index(drop=True)\n",
        "    X_test = X_test.reset_index(drop=True)\n",
        "    y_train = y_train.reset_index(drop=True)\n",
        "    y_test = y_test.reset_index(drop=True)\n",
        "    return X_train, y_train, X_test, y_test\n",
        "def plot_confusion_matrix(cm, class_names):\n",
        "    plt.figure(figsize=(6, 5))\n",
        "    sns.heatmap(cm, annot=True, fmt='g', cmap='Blues', cbar=False,\n",
        "                xticklabels=class_names, yticklabels=class_names)\n",
        "    plt.title('Confusion Matrix')\n",
        "    plt.xlabel('Predicted labels')\n",
        "    plt.ylabel('True labels')\n",
        "    plt.savefig('conf1_2.png', dpi=300, bbox_inches='tight')\n",
        "    plt.show()\n"
      ]
    },
    {
      "cell_type": "markdown",
      "metadata": {
        "id": "GpKisMU03DqL"
      },
      "source": [
        "## $\\textit{Clasificación sin ADASYN}$"
      ]
    },
    {
      "cell_type": "code",
      "execution_count": 5,
      "metadata": {
        "id": "Fe0rW5x82tqv"
      },
      "outputs": [],
      "source": [
        "'''X = pd.read_parquet('/content/drive/My Drive/X_clasificacion.parquet')\n",
        "y= pd.read_parquet('/content/drive/My Drive/y_clasificacion.parquet')'''"
      ]
    },
    {
      "cell_type": "markdown",
      "metadata": {},
      "source": [
        "![](imgs_punto2//output.png)"
      ]
    },
    {
      "cell_type": "code",
      "execution_count": 52,
      "metadata": {
        "id": "50GhYvw37V_7"
      },
      "outputs": [
        {
          "data": {
            "text/plain": [
              "'datos = Datos(X, y)'"
            ]
          },
          "execution_count": 52,
          "metadata": {},
          "output_type": "execute_result"
        }
      ],
      "source": [
        "'''datos = Datos(X, y)'''"
      ]
    },
    {
      "cell_type": "markdown",
      "metadata": {
        "id": "5GTOpSCt-8S1"
      },
      "source": [
        "### $\\textit{Clasificasión Bayesiana}$"
      ]
    },
    {
      "cell_type": "markdown",
      "metadata": {
        "id": "ZyRcnL12_Ut5"
      },
      "source": [
        "#### $\\textit{Pipeline y GridsearchCV}$"
      ]
    },
    {
      "cell_type": "code",
      "execution_count": 2,
      "metadata": {
        "colab": {
          "base_uri": "https://localhost:8080/"
        },
        "id": "OIxCZmuC8Z6R",
        "outputId": "231b0075-e713-4d0b-b3fd-c7e5f228b1d7"
      },
      "outputs": [
        {
          "data": {
            "text/plain": [
              "'start_time = time.time()\\npipe = Pipeline([ (\\'scaler\\', StandardScaler()),  (\\'classifier\\', GaussianNB())])\\ngrid_gauss = GridSearchCV(pipe, {}, cv=5, scoring=\\'accuracy\\')\\ngrid_gauss.fit(datos.X_train, datos.y_train)\\nend_time = time.time()\\nprint(f\"Tiempo de ejecución: {end_time - start_time} segundos\")'"
            ]
          },
          "execution_count": 2,
          "metadata": {},
          "output_type": "execute_result"
        }
      ],
      "source": [
        "'''start_time = time.time()\n",
        "pipe = Pipeline([ ('scaler', StandardScaler()),  ('classifier', GaussianNB())])\n",
        "grid_gauss = GridSearchCV(pipe, {}, cv=5, scoring='accuracy')\n",
        "grid_gauss.fit(datos.X_train, datos.y_train)\n",
        "end_time = time.time()\n",
        "print(f\"Tiempo de ejecución: {end_time - start_time} segundos\")'''"
      ]
    },
    {
      "cell_type": "markdown",
      "metadata": {},
      "source": [
        "Tiempo de ejecución: 101.63016390800476 segundos"
      ]
    },
    {
      "cell_type": "code",
      "execution_count": 23,
      "metadata": {
        "colab": {
          "base_uri": "https://localhost:8080/"
        },
        "id": "A4LML4_v-JJ3",
        "outputId": "527315fd-ffea-420a-a7ff-f81431787f72"
      },
      "outputs": [
        {
          "name": "stdout",
          "output_type": "stream",
          "text": [
            "Accuracy del mejor modelo en el conjunto de prueba: 0.8376281670707799\n"
          ]
        }
      ],
      "source": [
        "'''y_pred = grid_gauss.predict(datos.X_test)\n",
        "print(f\"Accuracy del mejor modelo en el conjunto de prueba: {accuracy_score(datos.y_test, y_pred)}\")\n",
        "dix_predicts_for_plot['GaussianNB'] = y_pred'''"
      ]
    },
    {
      "cell_type": "markdown",
      "metadata": {
        "id": "x892apny-zkv"
      },
      "source": [
        "\n",
        "\n",
        "```\n",
        "Accuracy del mejor modelo en el conjunto de prueba: 0.8376281670707799\n",
        "```\n",
        "\n"
      ]
    },
    {
      "cell_type": "code",
      "execution_count": 6,
      "metadata": {
        "colab": {
          "base_uri": "https://localhost:8080/",
          "height": 80
        },
        "id": "O9eKoxzmRn1M",
        "outputId": "8c1742fd-914a-44cb-cd0e-0f2fe87d49ec"
      },
      "outputs": [
        {
          "data": {
            "text/html": [
              "<div>\n",
              "<style scoped>\n",
              "    .dataframe tbody tr th:only-of-type {\n",
              "        vertical-align: middle;\n",
              "    }\n",
              "\n",
              "    .dataframe tbody tr th {\n",
              "        vertical-align: top;\n",
              "    }\n",
              "\n",
              "    .dataframe thead th {\n",
              "        text-align: right;\n",
              "    }\n",
              "</style>\n",
              "<table border=\"1\" class=\"dataframe\">\n",
              "  <thead>\n",
              "    <tr style=\"text-align: right;\">\n",
              "      <th></th>\n",
              "      <th>precission</th>\n",
              "      <th>f1_score</th>\n",
              "      <th>recall</th>\n",
              "      <th>AUC</th>\n",
              "      <th>M</th>\n",
              "    </tr>\n",
              "  </thead>\n",
              "  <tbody>\n",
              "    <tr>\n",
              "      <th>0</th>\n",
              "      <td>0.683602</td>\n",
              "      <td>0.665402</td>\n",
              "      <td>0.648146</td>\n",
              "      <td>0.774316</td>\n",
              "      <td>0.728959</td>\n",
              "    </tr>\n",
              "  </tbody>\n",
              "</table>\n",
              "</div>"
            ],
            "text/plain": [
              "   precission  f1_score    recall       AUC         M\n",
              "0    0.683602  0.665402  0.648146  0.774316  0.728959"
            ]
          },
          "execution_count": 6,
          "metadata": {},
          "output_type": "execute_result"
        }
      ],
      "source": [
        "pd.DataFrame({'precission': [0.6836017036077661],\n",
        " 'f1_score': [0.665402015891087],\n",
        " 'recall': [0.6481462665509323],\n",
        " 'AUC': [0.7743156226533143],\n",
        " 'M': [0.7289586631305403]})"
      ]
    },
    {
      "cell_type": "code",
      "execution_count": 20,
      "metadata": {},
      "outputs": [
        {
          "data": {
            "image/png": "[encoded data removed]",
            "text/plain": [
              "<Figure size 600x500 with 1 Axes>"
            ]
          },
          "metadata": {},
          "output_type": "display_data"
        }
      ],
      "source": [
        "cm = np.array(([[150052,  16091],\n",
        "       [ 19504,  35611]]))\n",
        "class_names = ['Clase 0', 'Clase 1']\n",
        "plot_confusion_matrix(cm, class_names)"
      ]
    },
    {
      "cell_type": "markdown",
      "metadata": {
        "id": "sb6FfLyJzxP5"
      },
      "source": [
        "Para la \"Clase 0\", se predijeron correctamente 150,052 casos (verdaderos negativos) y se clasificaron incorrectamente 16,091 como \"Clase 1\" (falsos positivos). Para la \"Clase 1\", el modelo clasificó correctamente 35,611 casos (verdaderos positivos) y cometió 19,504 errores al clasificarlos como \"Clase 0\" (falsos negativos). Los indicadores de rendimiento ubicados en la parte superior del gráfico incluyen precisión (0.6836), puntaje F1 (0.6654), recall (0.6481), AUC (0.7743), y una métrica adicional \"M\" con un valor de 0.7289. Esto refleja un desempeño moderado del modelo, con un balance entre las clases y errores en ambos tipos de predicción."
      ]
    },
    {
      "cell_type": "markdown",
      "metadata": {
        "id": "VCMb-33oAmN_"
      },
      "source": [
        "#### $\\textit{Optimizacion Bayesiana}$"
      ]
    },
    {
      "cell_type": "code",
      "execution_count": 7,
      "metadata": {
        "colab": {
          "base_uri": "https://localhost:8080/"
        },
        "id": "edw92NLLAsRL",
        "outputId": "22df0c83-c5b0-455f-b9d6-c797a6fced3e"
      },
      "outputs": [
        {
          "data": {
            "text/plain": [
              "'def optimize_gaussian_nb(var_smoothing):\\n    gnb = GaussianNB(var_smoothing=10**var_smoothing)\\n    gnb.fit(datos.X_train, datos.y_train)\\n    y_pred = gnb.predict(datos.X_test)\\n    accuracy = accuracy_score(datos.y_test, y_pred)\\n    return accuracy\\n\\nbayes_optimizer = BayesianOptimization(\\n    f=optimize_gaussian_nb,\\n    pbounds={\\'var_smoothing\\': (-10, -1)},  random_state=42,verbose=2)\\nstart_time = time.time()\\nbayes_optimizer.maximize(init_points=5, n_iter=20)\\nprint(\"Mejor valor de var_smoothing: \", 10**bayes_optimizer.max[\\'params\\'][\\'var_smoothing\\'])\\nprint(\"Mejor precisión obtenida: \", bayes_optimizer.max[\\'target\\'])'"
            ]
          },
          "execution_count": 7,
          "metadata": {},
          "output_type": "execute_result"
        }
      ],
      "source": [
        "'''def optimize_gaussian_nb(var_smoothing):\n",
        "    gnb = GaussianNB(var_smoothing=10**var_smoothing)\n",
        "    gnb.fit(datos.X_train, datos.y_train)\n",
        "    y_pred = gnb.predict(datos.X_test)\n",
        "    accuracy = accuracy_score(datos.y_test, y_pred)\n",
        "    return accuracy\n",
        "\n",
        "bayes_optimizer = BayesianOptimization(\n",
        "    f=optimize_gaussian_nb,\n",
        "    pbounds={'var_smoothing': (-10, -1)},  random_state=42,verbose=2)\n",
        "start_time = time.time()\n",
        "bayes_optimizer.maximize(init_points=5, n_iter=20)\n",
        "print(\"Mejor valor de var_smoothing: \", 10**bayes_optimizer.max['params']['var_smoothing'])\n",
        "print(\"Mejor precisión obtenida: \", bayes_optimizer.max['target'])'''"
      ]
    },
    {
      "cell_type": "markdown",
      "metadata": {
        "id": "5WCwAERUFych"
      },
      "source": [
        "\n",
        "\n",
        "```\n",
        "|   iter    |  target   | var_sm... |\n",
        "-------------------------------------\n",
        "| 1         | 0.8393    | -6.629    |\n",
        "| 2         | 0.7548    | -1.444    |\n",
        "| 3         | 0.8274    | -3.412    |\n",
        "| 4         | 0.8415    | -4.612    |\n",
        "| 5         | 0.8391    | -8.596    |\n",
        "| 6         | 0.8391    | -10.0     |\n",
        "| 7         | 0.8399    | -5.621    |\n",
        "| 8         | 0.8392    | -7.644    |\n",
        "| 9         | 0.8391    | -9.374    |\n",
        "| 10        | 0.8406    | -5.019    |\n",
        "| 11        | 0.8428    | -4.245    |\n",
        "| 12        | 0.8428    | -4.101    |\n",
        "| 13        | 0.8429    | -4.168    |\n",
        "| 14        | 0.8429    | -4.164    |\n",
        "| 15        | 0.8429    | -4.166    |\n",
        "| 16        | 0.8429    | -4.164    |\n",
        "| 17        | 0.8429    | -4.164    |\n",
        "| 18        | 0.8429    | -4.163    |\n",
        "| 19        | 0.8429    | -4.163    |\n",
        "| 20        | 0.8429    | -4.163    |\n",
        "| 21        | 0.8429    | -4.164    |\n",
        "| 22        | 0.8429    | -4.163    |\n",
        "| 23        | 0.8429    | -4.163    |\n",
        "| 24        | 0.8429    | -4.163    |\n",
        "| 25        | 0.8429    | -4.162    |\n",
        "=====================================\n",
        "Mejor valor de var_smoothing:  6.88115652271368e-05\n",
        "Mejor precisión obtenida:  0.8429480515958745\n",
        "```\n",
        "\n"
      ]
    },
    {
      "cell_type": "code",
      "execution_count": 8,
      "metadata": {
        "colab": {
          "base_uri": "https://localhost:8080/"
        },
        "id": "utR3CS0lGqg0",
        "outputId": "3f910e20-7f03-4934-d72a-12c578b02ec6"
      },
      "outputs": [
        {
          "data": {
            "text/plain": [
              "'mejor_var_smoothing = 10**bayes_optimizer.max[\\'params\\'][\\'var_smoothing\\']\\nmejor_modelo = GaussianNB(var_smoothing=mejor_var_smoothing)\\nmejor_modelo.fit(datos.X_train, datos.y_train)\\ny_pred_mejor = mejor_modelo.predict(datos.X_test)\\naccuracy_mejor = accuracy_score(datos.y_test, y_pred_mejor)\\nprint(f\"Precisión con el mejor var_smoothing: {accuracy_mejor}\")\\nprint(f\"Predicciones del modelo: {y_pred_mejor}\")\\nend_time = time.time()\\nprint(f\"Tiempo de ejecución: {end_time - start_time} segundos\")'"
            ]
          },
          "execution_count": 8,
          "metadata": {},
          "output_type": "execute_result"
        }
      ],
      "source": [
        "'''mejor_var_smoothing = 10**bayes_optimizer.max['params']['var_smoothing']\n",
        "mejor_modelo = GaussianNB(var_smoothing=mejor_var_smoothing)\n",
        "mejor_modelo.fit(datos.X_train, datos.y_train)\n",
        "y_pred_mejor = mejor_modelo.predict(datos.X_test)\n",
        "accuracy_mejor = accuracy_score(datos.y_test, y_pred_mejor)\n",
        "print(f\"Precisión con el mejor var_smoothing: {accuracy_mejor}\")\n",
        "print(f\"Predicciones del modelo: {y_pred_mejor}\")\n",
        "end_time = time.time()\n",
        "print(f\"Tiempo de ejecución: {end_time - start_time} segundos\")'''"
      ]
    },
    {
      "cell_type": "markdown",
      "metadata": {
        "id": "AEbq3CzlIaeE"
      },
      "source": [
        "\n",
        "\n",
        "```\n",
        "Precisión con el mejor var_smoothing: 0.8415020142993196\n",
        "Predicciones del modelo: [0 0 0 ... 0 0 0]\n",
        "Tiempo de ejecución: 347.50248670578003 segundos\n",
        "```\n",
        "\n"
      ]
    },
    {
      "cell_type": "code",
      "execution_count": 11,
      "metadata": {
        "colab": {
          "base_uri": "https://localhost:8080/",
          "height": 80
        },
        "id": "EiY1K9VRG_Hc",
        "outputId": "943ada06-1b06-4815-ddd6-1b3dcb623980"
      },
      "outputs": [
        {
          "data": {
            "text/html": [
              "<div>\n",
              "<style scoped>\n",
              "    .dataframe tbody tr th:only-of-type {\n",
              "        vertical-align: middle;\n",
              "    }\n",
              "\n",
              "    .dataframe tbody tr th {\n",
              "        vertical-align: top;\n",
              "    }\n",
              "\n",
              "    .dataframe thead th {\n",
              "        text-align: right;\n",
              "    }\n",
              "</style>\n",
              "<table border=\"1\" class=\"dataframe\">\n",
              "  <thead>\n",
              "    <tr style=\"text-align: right;\">\n",
              "      <th></th>\n",
              "      <th>precission</th>\n",
              "      <th>f1_score</th>\n",
              "      <th>recall</th>\n",
              "      <th>AUC</th>\n",
              "      <th>M</th>\n",
              "    </tr>\n",
              "  </thead>\n",
              "  <tbody>\n",
              "    <tr>\n",
              "      <th>0</th>\n",
              "      <td>0.703192</td>\n",
              "      <td>0.664225</td>\n",
              "      <td>0.629349</td>\n",
              "      <td>0.770614</td>\n",
              "      <td>0.736903</td>\n",
              "    </tr>\n",
              "  </tbody>\n",
              "</table>\n",
              "</div>"
            ],
            "text/plain": [
              "   precission  f1_score    recall       AUC         M\n",
              "0    0.703192  0.664225  0.629349  0.770614  0.736903"
            ]
          },
          "execution_count": 11,
          "metadata": {},
          "output_type": "execute_result"
        }
      ],
      "source": [
        "pd.DataFrame({'precission': [0.7031924072476272],\n",
        " 'f1_score': [0.6642247315633134],\n",
        " 'recall': [0.6293491103647084],\n",
        " 'AUC': [0.770614293008771],\n",
        " 'M': [0.7369033501281992]})"
      ]
    },
    {
      "cell_type": "code",
      "execution_count": 21,
      "metadata": {},
      "outputs": [
        {
          "data": {
            "image/png": "[encoded data removed]",
            "text/plain": [
              "<Figure size 600x500 with 1 Axes>"
            ]
          },
          "metadata": {},
          "output_type": "display_data"
        }
      ],
      "source": [
        "cm = np.array(([[151673,14470],\n",
        "       [ 20279,34836]]))\n",
        "class_names = ['Clase 0', 'Clase 1']\n",
        "plot_confusion_matrix(cm, class_names)"
      ]
    },
    {
      "cell_type": "markdown",
      "metadata": {
        "id": "kkKz1Ygn2YdN"
      },
      "source": [
        "En este caso, el modelo predijo correctamente 151,673 casos como \"Clase 0\" (verdaderos negativos), mientras que 14,470 fueron clasificados incorrectamente como \"Clase 1\" (falsos positivos). Para la \"Clase 1\", 34,836 predicciones fueron correctas (verdaderos positivos), y 20,279 casos fueron clasificados erróneamente como \"Clase 0\" (falsos negativos). Los indicadores de rendimiento en la parte superior muestran una precisión de 0.7032, un puntaje F1 de 0.6642, un recall de 0.6293, un AUC de 0.7706, y la métrica \"M\" con un valor de 0.7369. Este modelo tiene un desempeño ligeramente mejor en términos de precisión en comparación con el anterior, pero sigue mostrando un nivel considerable de errores, especialmente en los falsos negativos."
      ]
    },
    {
      "cell_type": "markdown",
      "metadata": {
        "id": "b5t5h2_Y4Nyo"
      },
      "source": [
        "### $\\textit{Knn}$"
      ]
    },
    {
      "cell_type": "markdown",
      "metadata": {
        "id": "maezW9_y6YlK"
      },
      "source": [
        "#### $\\textit{Pipeline y GridsearchCV}$"
      ]
    },
    {
      "cell_type": "code",
      "execution_count": null,
      "metadata": {
        "id": "GfH84oJ46ESI"
      },
      "outputs": [],
      "source": [
        "'''start_time = time.time()\n",
        "param_grid = {\n",
        "    'classifier__n_neighbors': [i for i in range(1,20)]}\n",
        "pipe = Pipeline([ ('scaler', StandardScaler()),  ('classifier', KNeighborsClassifier())])\n",
        "grid_knn = GridSearchCV(pipe, param_grid, cv=5, scoring='accuracy')\n",
        "grid_knn.fit(datos.X_train, datos.y_train)\n",
        "end_time = time.time()\n",
        "print(f\"Tiempo de ejecución: {end_time - start_time} segundos\")\n",
        "\n",
        "y_pred = grid_knn.predict(data_1.X_test[:len(data_1.X_train)])\n",
        "print(f\"Accuracy del mejor modelo en el conjunto de prueba: {accuracy_score(data_1.y_test[:len(data_1.X_train)], y_pred)}\")\n",
        "'''"
      ]
    },
    {
      "cell_type": "markdown",
      "metadata": {},
      "source": [
        "Tiempo de ejecución: 176.43437218666077 segundos \\\n",
        "Accuracy del mejor modelo en el conjunto de prueba: 0.8537725189597665"
      ]
    },
    {
      "cell_type": "code",
      "execution_count": 13,
      "metadata": {},
      "outputs": [
        {
          "data": {
            "text/html": [
              "<div>\n",
              "<style scoped>\n",
              "    .dataframe tbody tr th:only-of-type {\n",
              "        vertical-align: middle;\n",
              "    }\n",
              "\n",
              "    .dataframe tbody tr th {\n",
              "        vertical-align: top;\n",
              "    }\n",
              "\n",
              "    .dataframe thead th {\n",
              "        text-align: right;\n",
              "    }\n",
              "</style>\n",
              "<table border=\"1\" class=\"dataframe\">\n",
              "  <thead>\n",
              "    <tr style=\"text-align: right;\">\n",
              "      <th></th>\n",
              "      <th>precission</th>\n",
              "      <th>f1_score</th>\n",
              "      <th>recall</th>\n",
              "      <th>AUC</th>\n",
              "      <th>M</th>\n",
              "    </tr>\n",
              "  </thead>\n",
              "  <tbody>\n",
              "    <tr>\n",
              "      <th>0</th>\n",
              "      <td>0.751872</td>\n",
              "      <td>0.683592</td>\n",
              "      <td>0.626681</td>\n",
              "      <td>0.778492</td>\n",
              "      <td>0.765182</td>\n",
              "    </tr>\n",
              "  </tbody>\n",
              "</table>\n",
              "</div>"
            ],
            "text/plain": [
              "   precission  f1_score    recall       AUC         M\n",
              "0    0.751872  0.683592  0.626681  0.778492  0.765182"
            ]
          },
          "execution_count": 13,
          "metadata": {},
          "output_type": "execute_result"
        }
      ],
      "source": [
        "pd.DataFrame({'precission': [0.751871611737372],\n",
        " 'f1_score': [0.6835918399280224],\n",
        " 'recall': [0.6266810112963959],\n",
        " 'AUC': [0.7784920574223447],\n",
        " 'M': [0.7651818345798584]})"
      ]
    },
    {
      "cell_type": "code",
      "execution_count": 22,
      "metadata": {},
      "outputs": [
        {
          "data": {
            "image/png": "[encoded data removed]",
            "text/plain": [
              "<Figure size 600x500 with 1 Axes>"
            ]
          },
          "metadata": {},
          "output_type": "display_data"
        }
      ],
      "source": [
        "cm = np.array(([[154833,  11310],\n",
        "       [19923, 35192]]))\n",
        "class_names = ['Clase 0', 'Clase 1']\n",
        "plot_confusion_matrix(cm, class_names)"
      ]
    },
    {
      "cell_type": "markdown",
      "metadata": {},
      "source": [
        "Se predijo correctamente 154,833 casos como \"Clase 0\" (verdaderos negativos), mientras que 11,310 fueron clasificados incorrectamente como \"Clase 1\" (falsos positivos). Para la \"Clase 1\", 35,192 predicciones fueron correctas (verdaderos positivos), y 19,923 casos fueron clasificados erróneamente como \"Clase 0\" (falsos negativos). En cuanto a las métricas de rendimiento, el modelo obtuvo una precisión de 0.7519, un puntaje F1 de 0.6836, un recall de 0.6267, un AUC de 0.7785, y la métrica \"M\" con un valor de 0.7652. Este modelo muestra una mejora notable en términos de precisión y menor cantidad de falsos positivos, lo que sugiere un mejor balance en el rendimiento entre las dos clases."
      ]
    },
    {
      "cell_type": "markdown",
      "metadata": {
        "id": "oLgD36JB7TjI"
      },
      "source": [
        "#### $\\textit{Optimizacion Bayesiana}$"
      ]
    },
    {
      "cell_type": "code",
      "execution_count": null,
      "metadata": {},
      "outputs": [],
      "source": [
        "def optimize_knn(n_neighbors):\n",
        "    knn = KNeighborsClassifier(n_neighbors=int(n_neighbors))\n",
        "    knn.fit(datos.X_train, datos.y_train)\n",
        "    y_pred = knn.predict(datos.X_test)\n",
        "    accuracy = accuracy_score(datos.y_test, y_pred)\n",
        "    return accuracy\n",
        "'''knn_optimizer = BayesianOptimization(\n",
        "    f=optimize_knn,\n",
        "    pbounds={'n_neighbors': (1, 20)},  \n",
        "    random_state=42,\n",
        "    verbose=2)\n",
        "start_time = time.time()\n",
        "knn_optimizer.maximize(init_points=5, n_iter=20)\n",
        "\n",
        "print(\"Mejor valor de n_neighbors: \", int(knn_optimizer.max['params']['n_neighbors']))\n",
        "print(\"Mejor precisión obtenida: \", knn_optimizer.max['target'])'''"
      ]
    },
    {
      "cell_type": "markdown",
      "metadata": {},
      "source": [
        "```\n",
        "|   iter    |  target   | n_neig... |\n",
        "-------------------------------------\n",
        "| 1         | 0.8414    | 8.116     |\n",
        "| 2         | 0.8516    | 19.06     |\n",
        "| 3         | 0.8472    | 14.91     |\n",
        "| 4         | 0.8459    | 12.37     |\n",
        "| 5         | 0.8389    | 3.964     |\n",
        "| 6         | 0.8516    | 19.99     |\n",
        "| 7         | 0.8516    | 19.53     |\n",
        "| 8         | 0.8485    | 18.2      |\n",
        "| 9         | 0.8258    | 1.0       |\n",
        "| 10        | 0.8445    | 10.41     |\n",
        "| 11        | 0.8435    | 5.985     |\n",
        "| 12        | 0.8497    | 13.77     |\n",
        "| 13        | 0.8516    | 19.27     |\n",
        "| 14        | 0.8516    | 19.8      |\n",
        "| 15        | 0.8516    | 19.16     |\n",
        "| 16        | 0.8516    | 19.67     |\n",
        "| 17        | 0.8516    | 19.91     |\n",
        "| 18        | 0.8516    | 19.41     |\n",
        "| 19        | 0.8516    | 19.15     |\n",
        "| 20        | 0.8516    | 20.0      |\n",
        "| 21        | 0.8516    | 19.73     |\n",
        "| 22        | 0.8516    | 19.58     |\n",
        "| 23        | 0.8516    | 19.0      |\n",
        "| 24        | 0.8516    | 19.07     |\n",
        "| 25        | 0.8516    | 19.35     |\n",
        "=====================================\n",
        "Mejor valor de n_neighbors:  19\n",
        "Mejor precisión obtenida:  0.8516392627611205\n",
        "```"
      ]
    },
    {
      "cell_type": "markdown",
      "metadata": {},
      "source": [
        "mejor_n = knn_optimizer.max['params']['n_neighbors']\n",
        "mejor_modelo = KNeighborsClassifier(n_neighbors=int(mejor_n))\n",
        "mejor_modelo.fit(data_1.X_train, data_1.y_train)\n",
        "y_pred_mejor = mejor_modelo.predict(data_1.X_test)\n",
        "accuracy_mejor = accuracy_score(data_1.y_test, y_pred_mejor)\n",
        "print(f\"Precisión con el mejor var_smoothing: {accuracy_mejor}\")\n",
        "print(f\"Predicciones del modelo: {y_pred_mejor}\")\n",
        "end_time = time.time()\n",
        "print(f\"Tiempo de ejecución: {end_time - start_time} segundos\")"
      ]
    },
    {
      "cell_type": "markdown",
      "metadata": {},
      "source": [
        "Precisión con el mejor var_smoothing: 0.7509027228711808 \\\n",
        "Predicciones del modelo: [0 0 0 ... 0 0 0]\n",
        "Tiempo de ejecución: 534.8886618614197 segundos"
      ]
    },
    {
      "cell_type": "code",
      "execution_count": 23,
      "metadata": {},
      "outputs": [
        {
          "data": {
            "text/html": [
              "<div>\n",
              "<style scoped>\n",
              "    .dataframe tbody tr th:only-of-type {\n",
              "        vertical-align: middle;\n",
              "    }\n",
              "\n",
              "    .dataframe tbody tr th {\n",
              "        vertical-align: top;\n",
              "    }\n",
              "\n",
              "    .dataframe thead th {\n",
              "        text-align: right;\n",
              "    }\n",
              "</style>\n",
              "<table border=\"1\" class=\"dataframe\">\n",
              "  <thead>\n",
              "    <tr style=\"text-align: right;\">\n",
              "      <th></th>\n",
              "      <th>precission</th>\n",
              "      <th>f1_score</th>\n",
              "      <th>recall</th>\n",
              "      <th>AUC</th>\n",
              "      <th>M</th>\n",
              "    </tr>\n",
              "  </thead>\n",
              "  <tbody>\n",
              "    <tr>\n",
              "      <th>0</th>\n",
              "      <td>0.756754</td>\n",
              "      <td>0.682819</td>\n",
              "      <td>0.622045</td>\n",
              "      <td>0.777858</td>\n",
              "      <td>0.767306</td>\n",
              "    </tr>\n",
              "  </tbody>\n",
              "</table>\n",
              "</div>"
            ],
            "text/plain": [
              "   precission  f1_score    recall       AUC         M\n",
              "0    0.756754  0.682819  0.622045  0.777858  0.767306"
            ]
          },
          "execution_count": 23,
          "metadata": {},
          "output_type": "execute_result"
        }
      ],
      "source": [
        "pd.DataFrame({'precission': [0.756754],\n",
        " 'f1_score': [0.682819],\n",
        " 'recall': [0.622045],\n",
        " 'AUC': [0.777858],\n",
        " 'M': [0.767306]})"
      ]
    },
    {
      "cell_type": "code",
      "execution_count": 24,
      "metadata": {},
      "outputs": [
        {
          "data": {
            "image/png": "[encoded data removed]",
            "text/plain": [
              "<Figure size 600x500 with 1 Axes>"
            ]
          },
          "metadata": {},
          "output_type": "display_data"
        }
      ],
      "source": [
        "cm = np.array(([[155123,  11020],\n",
        "       [20831, 34284]]))\n",
        "class_names = ['Clase 0', 'Clase 1']\n",
        "plot_confusion_matrix(cm, class_names)"
      ]
    },
    {
      "cell_type": "markdown",
      "metadata": {},
      "source": [
        "Se predijo correctamente 34,284 casos como \"Clase 1\" (verdaderos positivos), mientras que 20,831 fueron clasificados incorrectamente como \"Clase 0\" (falsos negativos). Las métricas de rendimiento del modelo incluyen una precisión de 0.7568, un puntaje F1 de 0.6828, un recall de 0.6220, un AUC de 0.7779, y una métrica \"M\" con un valor de 0.7673. Este modelo tiene un rendimiento consistente con los anteriores, con una ligera mejora en la precisión, lo que sugiere un manejo más equilibrado entre falsos positivos y falsos negativos."
      ]
    },
    {
      "cell_type": "markdown",
      "metadata": {},
      "source": [
        "### $\\textit{Logistic}$"
      ]
    },
    {
      "cell_type": "markdown",
      "metadata": {},
      "source": [
        "#### $\\textit{Pipeline y GridsearchCV}$"
      ]
    },
    {
      "cell_type": "code",
      "execution_count": null,
      "metadata": {},
      "outputs": [],
      "source": [
        "'''pipeline = Pipeline([\n",
        "    ('scaler', StandardScaler()),  \n",
        "    ('logreg', LogisticRegression(penalty='elasticnet', solver='saga', max_iter=5000))  \n",
        "])\n",
        "param_grid = {\n",
        "    'logreg__C': [0.01, 0.1, 1, 10],        \n",
        "    'logreg__l1_ratio': [0.1, 0.5, 0.7, 0.9]  \n",
        "}\n",
        "grid_log = GridSearchCV(pipeline, param_grid, cv=5, scoring='accuracy', n_jobs=-1)\n",
        "grid_log.fit(data_1.X_train, data_1.y_train)\n",
        "best_model =grid_log.best_estimator_\n",
        "y_pred = best_model.predict(data_1.X_test)\n",
        "accuracy = accuracy_score(data_1.y_test, y_pred)\n",
        "dix['log'] = list(y_pred)\n",
        "print(f\"Mejor precisión: {accuracy}\")\n",
        "print(f\"Mejores hiperparámetros: {grid_log.best_params_}\")'''"
      ]
    },
    {
      "cell_type": "markdown",
      "metadata": {},
      "source": [
        "Mejor precisión: 0.8690 \\\n",
        "Mejores hiperparámetros: {'logreg__C': 0.1, 'logreg__l1_ratio': 0.1}"
      ]
    },
    {
      "cell_type": "code",
      "execution_count": 25,
      "metadata": {},
      "outputs": [
        {
          "data": {
            "text/html": [
              "<div>\n",
              "<style scoped>\n",
              "    .dataframe tbody tr th:only-of-type {\n",
              "        vertical-align: middle;\n",
              "    }\n",
              "\n",
              "    .dataframe tbody tr th {\n",
              "        vertical-align: top;\n",
              "    }\n",
              "\n",
              "    .dataframe thead th {\n",
              "        text-align: right;\n",
              "    }\n",
              "</style>\n",
              "<table border=\"1\" class=\"dataframe\">\n",
              "  <thead>\n",
              "    <tr style=\"text-align: right;\">\n",
              "      <th></th>\n",
              "      <th>precission</th>\n",
              "      <th>f1_score</th>\n",
              "      <th>recall</th>\n",
              "      <th>AUC</th>\n",
              "      <th>M</th>\n",
              "    </tr>\n",
              "  </thead>\n",
              "  <tbody>\n",
              "    <tr>\n",
              "      <th>0</th>\n",
              "      <td>0.754911</td>\n",
              "      <td>0.727546</td>\n",
              "      <td>0.702096</td>\n",
              "      <td>0.81324</td>\n",
              "      <td>0.784076</td>\n",
              "    </tr>\n",
              "  </tbody>\n",
              "</table>\n",
              "</div>"
            ],
            "text/plain": [
              "   precission  f1_score    recall      AUC         M\n",
              "0    0.754911  0.727546  0.702096  0.81324  0.784076"
            ]
          },
          "execution_count": 25,
          "metadata": {},
          "output_type": "execute_result"
        }
      ],
      "source": [
        "pd.DataFrame({'precission': [0.7549113326440234], 'f1_score': [0.7275462048996936], 'recall': [0.7020956182527442], 'AUC': [0.8132400170436483], 'M': [0.7840756748438359]})"
      ]
    },
    {
      "cell_type": "code",
      "execution_count": 26,
      "metadata": {},
      "outputs": [
        {
          "data": {
            "image/png": "[encoded data removed]",
            "text/plain": [
              "<Figure size 600x500 with 1 Axes>"
            ]
          },
          "metadata": {},
          "output_type": "display_data"
        }
      ],
      "source": [
        "cm = np.array(([[153580,  12563],\n",
        "       [16419, 38696]]))\n",
        "class_names = ['Clase 0', 'Clase 1']\n",
        "plot_confusion_matrix(cm, class_names)"
      ]
    },
    {
      "cell_type": "markdown",
      "metadata": {},
      "source": [
        "El modelo predijo correctamente 153,580 casos como \"Clase 0\" (verdaderos negativos), mientras que cometió 12,563 errores al clasificarlos incorrectamente como \"Clase 1\" (falsos positivos). En cuanto a la \"Clase 1\", el modelo predijo correctamente 38,696 casos (verdaderos positivos), y cometió 16,419 errores al clasificarlos incorrectamente como \"Clase 0\" (falsos negativos). Las métricas asociadas con este modelo incluyen una precisión de 0.7549, un puntaje F1 de 0.7275, un recall de 0.7021, un AUC de 0.8132, y una métrica \"M\" de 0.7841. Comparado con las iteraciones anteriores, este modelo muestra una mejora en el recall y un aumento en el AUC, lo que indica una mayor capacidad para distinguir entre las clases, aunque todavía existen errores considerables en ambas clases."
      ]
    },
    {
      "cell_type": "markdown",
      "metadata": {},
      "source": [
        "#### $\\textit{Optimizacion Bayesiana}$"
      ]
    },
    {
      "cell_type": "code",
      "execution_count": null,
      "metadata": {},
      "outputs": [],
      "source": [
        "def optimize_logistic_regression(C, l1_ratio):\n",
        "    log = LogisticRegression(penalty='elasticnet', solver='saga', max_iter=50, C=10**C, l1_ratio=l1_ratio)\n",
        "    log.fit(data_1.X_train, data_1.y_train)\n",
        "    y_pred = log.predict(data_1.X_test)\n",
        "    accuracy = accuracy_score(data_1.y_test, y_pred)\n",
        "    return accuracy\n",
        "pbounds = {'C': (-3, 2), 'l1_ratio': (0, 1)}\n",
        "'''bayes_optimizer = BayesianOptimization(f=optimize_logistic_regression, pbounds=pbounds, random_state=42, verbose=2)\n",
        "start_time = time.time()\n",
        "bayes_optimizer.maximize(init_points=5, n_iter=20)\n",
        "print(\"Mejor valor de C: \", 10**bayes_optimizer.max['params']['C'])\n",
        "print(\"Mejor valor de l1_ratio: \", bayes_optimizer.max['params']['l1_ratio'])\n",
        "print(\"Mejor precisión obtenida: \", bayes_optimizer.max['target'])'''"
      ]
    },
    {
      "cell_type": "markdown",
      "metadata": {},
      "source": [
        "```\n",
        "v|   iter    |  target   |     C     | l1_ratio  |\n",
        "-------------------------------------------------\n",
        "| 1         | 0.7574    | -1.127    | 0.9507    |\n",
        "| 2         | 0.7575    | 0.66      | 0.5987    |\n",
        "| 3         | 0.7574    | -2.22     | 0.156     |\n",
        "| 4         | 0.7564    | -2.71     | 0.8662    |\n",
        "| 5         | 0.7574    | 0.005575  | 0.7081    |\n",
        "| 6         | 0.7575    | 0.5859    | 0.5381    |\n",
        "| 7         | 0.7575    | -1.291    | 0.008644  |\n",
        "| 8         | 0.7575    | 1.848     | 0.004469  |\n",
        "| 9         | 0.7575    | 1.998     | 0.9905    |\n",
        "| 10        | 0.7574    | -0.3638   | 0.003525  |\n",
        "| 11        | 0.7574    | 1.055     | 0.002725  |\n",
        "| 12        | 0.7575    | 1.318     | 0.9874    |\n",
        "| 13        | 0.7574    | -0.543    | 0.9995    |\n",
        "| 14        | 0.7574    | -1.839    | 0.005386  |\n",
        "| 15        | 0.7575    | -0.8178   | 0.4252    |\n",
        "| 16        | 0.7574    | 1.572     | 0.4999    |\n",
        "| 17        | 0.7574    | 0.3147    | 0.003836  |\n",
        "| 18        | 0.7574    | 0.443     | 0.997     |\n",
        "| 19        | 0.7575    | 1.997     | 0.4604    |\n",
        "| 20        | 0.7574    | -1.457    | 0.4511    |\n",
        "| 21        | 0.7574    | -2.678    | 0.002374  |\n",
        "| 22        | 0.7574    | -0.8228   | 0.006424  |\n",
        "| 23        | 0.7574    | -2.324    | 0.005164  |\n",
        "| 24        | 0.7575    | 0.9062    | 0.9972    |\n",
        "| 25        | 0.7575    | 1.44      | 0.001353  |\n",
        "=================================================\n",
        "Mejor valor de C:  0.05118875868829046\n",
        "Mejor valor de l1_ratio:  0.00864382149691345\n",
        "Mejor precisión obtenida:  0.7574641368899656\n",
        "```\n"
      ]
    },
    {
      "cell_type": "code",
      "execution_count": null,
      "metadata": {},
      "outputs": [],
      "source": [
        "'''mejor_C = 10**bayes_optimizer.max['params']['C']\n",
        "mejor_l1 = float(bayes_optimizer.max['params']['l1_ratio'])\n",
        "\n",
        "# Crear y entrenar el modelo de Logistic Regression con los mejores hiperparámetros\n",
        "mejor_modelo = LogisticRegression(penalty='elasticnet', solver='saga', max_iter=5000, C=mejor_C, l1_ratio=mejor_l1)\n",
        "mejor_modelo.fit(data_1.X_train, data_1.y_train)\n",
        "\n",
        "# Hacer predicciones con el conjunto de prueba\n",
        "y_pred_mejor_logreg = mejor_modelo.predict(data_1.X_test)\n",
        "# Calcular la precisión\n",
        "accuracy_mejor = accuracy_score(data_1.y_test, y_pred_mejor_logreg)\n",
        "print(f\"Precisión con el mejor C y l1_ratio: {accuracy_mejor}\")\n",
        "print(f\"Predicciones del modelo: {y_pred_mejor_logreg}\")\n",
        "end_time = time.time()\n",
        "print(f\"Tiempo de ejecución: {end_time - start_time} segundos\")'''"
      ]
    },
    {
      "cell_type": "markdown",
      "metadata": {},
      "source": [
        "Precisión con el mejor C y l1_ratio: 0.7574460584476042 \\\n",
        "Predicciones del modelo: [0 0 0 ... 0 0 0]"
      ]
    },
    {
      "cell_type": "code",
      "execution_count": 51,
      "metadata": {},
      "outputs": [
        {
          "data": {
            "text/html": [
              "<div>\n",
              "<style scoped>\n",
              "    .dataframe tbody tr th:only-of-type {\n",
              "        vertical-align: middle;\n",
              "    }\n",
              "\n",
              "    .dataframe tbody tr th {\n",
              "        vertical-align: top;\n",
              "    }\n",
              "\n",
              "    .dataframe thead th {\n",
              "        text-align: right;\n",
              "    }\n",
              "</style>\n",
              "<table border=\"1\" class=\"dataframe\">\n",
              "  <thead>\n",
              "    <tr style=\"text-align: right;\">\n",
              "      <th></th>\n",
              "      <th>precission</th>\n",
              "      <th>f1_score</th>\n",
              "      <th>recall</th>\n",
              "      <th>AUC</th>\n",
              "      <th>M</th>\n",
              "    </tr>\n",
              "  </thead>\n",
              "  <tbody>\n",
              "    <tr>\n",
              "      <th>0</th>\n",
              "      <td>0.754911</td>\n",
              "      <td>0.727546</td>\n",
              "      <td>0.702096</td>\n",
              "      <td>0.81324</td>\n",
              "      <td>0.784076</td>\n",
              "    </tr>\n",
              "  </tbody>\n",
              "</table>\n",
              "</div>"
            ],
            "text/plain": [
              "   precission  f1_score    recall      AUC         M\n",
              "0    0.754911  0.727546  0.702096  0.81324  0.784076"
            ]
          },
          "execution_count": 51,
          "metadata": {},
          "output_type": "execute_result"
        }
      ],
      "source": [
        "pd.DataFrame({'precission': [0.7549113326440234], 'f1_score': [0.7275462048996936], 'recall': [0.7020956182527442], 'AUC': [0.8132400170436483], 'M': [0.7840756748438359]})"
      ]
    },
    {
      "cell_type": "code",
      "execution_count": 28,
      "metadata": {},
      "outputs": [
        {
          "data": {
            "image/png": "[encoded data removed]",
            "text/plain": [
              "<Figure size 600x500 with 1 Axes>"
            ]
          },
          "metadata": {},
          "output_type": "display_data"
        }
      ],
      "source": [
        "cm = np.array(([[165963 ,  180],\n",
        "       [53487, 1628]]))\n",
        "class_names = ['Clase 0', 'Clase 1']\n",
        "plot_confusion_matrix(cm, class_names)"
      ]
    },
    {
      "cell_type": "markdown",
      "metadata": {},
      "source": [
        "solo cometió 180 errores al clasificarlos como \"Clase 1\" (falsos positivos). Para la \"Clase 1\", el rendimiento es significativamente menor, con solo 1,628 predicciones correctas (verdaderos positivos) y 53,487 errores al clasificarlos como \"Clase 0\" (falsos negativos). Las métricas en la parte superior reflejan este comportamiento: la precisión es alta, con un valor de 0.9004, pero el puntaje F1 es extremadamente bajo (0.0572) debido al bajo recall de 0.0295. El AUC también es bajo, con un valor de 0.5142, lo que indica que el modelo no distingue bien entre las clases. Y, evidentement, hay un fuerte desbalanceo en la prediccion.     "
      ]
    },
    {
      "cell_type": "markdown",
      "metadata": {},
      "source": [
        "### $\\textbf{Mejor opción entre Pipeline y BayesianOptimization: :}$\n",
        "Los modelos con Pipeline y GridSearchCV superaron el rendimiento de BayesianOptimization en varios aspectos clave. Aunque ambos métodos ofrecieron métricas de recall, F1-score y AUC similares, con algunas ventajas para BayesianOptimization en casos puntuales, el enfoque basado en Pipeline y GridSearchCV demostró un mejor equilibrio general en la identificación de casos positivos. Este mejor balance se reflejó en un aumento en la capacidad del modelo para detectar tanto verdaderos positivos como verdaderos negativos, lo que es crucial en contextos donde las clases tienen un peso similar; El caso es especialmente acentuado en el modelo logístico, donde las métricas parecen indicar un buen rendimiento, pero al observar la matriz de confusión, se evidencia un desbalance inaceptable entre las clases.\n",
        "\n",
        "Adicionalmente, uno de los aspectos más significativos fue el tiempo de cómputo. El uso de Pipeline y GridSearchCV resultó ser considerablemente más eficiente, reduciendo el tiempo necesario para ajustar los hiperparámetros y entrenar el modelo en comparación con BayesianOptimization. Este ahorro de tiempo no solo permite iterar con mayor rapidez durante el proceso de modelado, sino que también ofrece una solución más escalable para grandes volúmenes de datos o cuando es necesario realizar múltiples experimentos."
      ]
    },
    {
      "cell_type": "code",
      "execution_count": 53,
      "metadata": {},
      "outputs": [
        {
          "data": {
            "text/html": [
              "<div>\n",
              "<style scoped>\n",
              "    .dataframe tbody tr th:only-of-type {\n",
              "        vertical-align: middle;\n",
              "    }\n",
              "\n",
              "    .dataframe tbody tr th {\n",
              "        vertical-align: top;\n",
              "    }\n",
              "\n",
              "    .dataframe thead th {\n",
              "        text-align: right;\n",
              "    }\n",
              "</style>\n",
              "<table border=\"1\" class=\"dataframe\">\n",
              "  <thead>\n",
              "    <tr style=\"text-align: right;\">\n",
              "      <th></th>\n",
              "      <th></th>\n",
              "      <th>precission</th>\n",
              "      <th>f1_score</th>\n",
              "      <th>recall</th>\n",
              "      <th>AUC</th>\n",
              "      <th>M</th>\n",
              "    </tr>\n",
              "  </thead>\n",
              "  <tbody>\n",
              "    <tr>\n",
              "      <th>0</th>\n",
              "      <td>Clasificasión Bayesiana</td>\n",
              "      <td>0.683602</td>\n",
              "      <td>0.665402</td>\n",
              "      <td>0.648146</td>\n",
              "      <td>0.774316</td>\n",
              "      <td>0.728959</td>\n",
              "    </tr>\n",
              "    <tr>\n",
              "      <th>1</th>\n",
              "      <td>K-NN</td>\n",
              "      <td>0.751872</td>\n",
              "      <td>0.683592</td>\n",
              "      <td>0.626681</td>\n",
              "      <td>0.778492</td>\n",
              "      <td>0.765182</td>\n",
              "    </tr>\n",
              "    <tr>\n",
              "      <th>2</th>\n",
              "      <td>L1/L2 Penalty Logistic Regression</td>\n",
              "      <td>0.756754</td>\n",
              "      <td>0.682819</td>\n",
              "      <td>0.622045</td>\n",
              "      <td>0.777858</td>\n",
              "      <td>0.767306</td>\n",
              "    </tr>\n",
              "  </tbody>\n",
              "</table>\n",
              "</div>"
            ],
            "text/plain": [
              "                                      precission  f1_score    recall  \\\n",
              "0            Clasificasión Bayesiana    0.683602  0.665402  0.648146   \n",
              "1                               K-NN    0.751872  0.683592  0.626681   \n",
              "2  L1/L2 Penalty Logistic Regression    0.756754  0.682819  0.622045   \n",
              "\n",
              "        AUC         M  \n",
              "0  0.774316  0.728959  \n",
              "1  0.778492  0.765182  \n",
              "2  0.777858  0.767306  "
            ]
          },
          "execution_count": 53,
          "metadata": {},
          "output_type": "execute_result"
        }
      ],
      "source": [
        "pd.DataFrame({ '':['Clasificasión Bayesiana','K-NN','L1/L2 Penalty Logistic Regression']\n",
        "    ,'precission': [0.6836017036077661,0.751871611737372, 0.756754],\n",
        " 'f1_score': [0.665402015891087,0.6835918399280224, 0.682819],\n",
        " 'recall': [0.6481462665509323,0.6266810112963959, 0.622045],\n",
        " 'AUC': [0.7743156226533143,0.7784920574223447, 0.777858],\n",
        " 'M': [0.7289586631305403,0.7651818345798584,00.767306]})\n"
      ]
    },
    {
      "cell_type": "markdown",
      "metadata": {
        "id": "b-hi-8lbxcjO"
      },
      "source": [
        "## $\\textit{Clasificación con ADASYN}$"
      ]
    },
    {
      "cell_type": "markdown",
      "metadata": {},
      "source": [
        "![](imgs_punto2//output4.png)"
      ]
    },
    {
      "cell_type": "markdown",
      "metadata": {},
      "source": [
        "```\n",
        "print(f\"Original dataset shape: {Counter(y)}\")\n",
        "ada = ADASYN(random_state=42)\n",
        "X_res, y_res = ada.fit_resample(X, y)\n",
        "print(f'Resampled dataset shape: {Counter(y_res)}')\n",
        "\n",
        "Original dataset shape: Counter({0: 4153582, 1: 1377869})\n",
        "Resampled dataset shape: Counter({0: 4153582, 1: 4008392})\n",
        "\n",
        "```\n",
        "Con el metodo ADASYN logramos equilibrar la clase objetivo."
      ]
    },
    {
      "cell_type": "code",
      "execution_count": null,
      "metadata": {
        "id": "fHz1Q16w58g-"
      },
      "outputs": [],
      "source": [
        "'''datos_ada = Datos(X_ada, y_ada)'''"
      ]
    },
    {
      "cell_type": "markdown",
      "metadata": {},
      "source": [
        "### $\\textit{Clasificasión Bayesiana}$"
      ]
    },
    {
      "cell_type": "markdown",
      "metadata": {},
      "source": [
        "#### $\\textit{Pipeline y GridsearchCV}$"
      ]
    },
    {
      "cell_type": "code",
      "execution_count": null,
      "metadata": {},
      "outputs": [],
      "source": [
        "'''start_time = time.time()\n",
        "pipe = Pipeline([ ('scaler', StandardScaler()),  ('classifier', GaussianNB())])\n",
        "grid_gauss = GridSearchCV(pipe, {}, cv=5, scoring='accuracy')\n",
        "grid_gauss.fit(datos.X_train, datos.y_train)\n",
        "end_time = time.time()\n",
        "print(f\"Tiempo de ejecución: {end_time - start_time} segundos\")'''"
      ]
    },
    {
      "cell_type": "markdown",
      "metadata": {},
      "source": [
        "Accuracy del mejor modelo en el conjunto de prueba: 0.7024621475513158"
      ]
    },
    {
      "cell_type": "code",
      "execution_count": 32,
      "metadata": {},
      "outputs": [
        {
          "data": {
            "text/html": [
              "<div>\n",
              "<style scoped>\n",
              "    .dataframe tbody tr th:only-of-type {\n",
              "        vertical-align: middle;\n",
              "    }\n",
              "\n",
              "    .dataframe tbody tr th {\n",
              "        vertical-align: top;\n",
              "    }\n",
              "\n",
              "    .dataframe thead th {\n",
              "        text-align: right;\n",
              "    }\n",
              "</style>\n",
              "<table border=\"1\" class=\"dataframe\">\n",
              "  <thead>\n",
              "    <tr style=\"text-align: right;\">\n",
              "      <th></th>\n",
              "      <th>precission</th>\n",
              "      <th>f1_score</th>\n",
              "      <th>recall</th>\n",
              "      <th>AUC</th>\n",
              "      <th>M</th>\n",
              "    </tr>\n",
              "  </thead>\n",
              "  <tbody>\n",
              "    <tr>\n",
              "      <th>0</th>\n",
              "      <td>0.831615</td>\n",
              "      <td>0.63954</td>\n",
              "      <td>0.519543</td>\n",
              "      <td>0.705453</td>\n",
              "      <td>0.768534</td>\n",
              "    </tr>\n",
              "  </tbody>\n",
              "</table>\n",
              "</div>"
            ],
            "text/plain": [
              "   precission  f1_score    recall       AUC         M\n",
              "0    0.831615   0.63954  0.519543  0.705453  0.768534"
            ]
          },
          "execution_count": 32,
          "metadata": {},
          "output_type": "execute_result"
        }
      ],
      "source": [
        "scores = { 'precission':[0.831615],\n",
        " 'f1_score':[0.63954],\n",
        " 'recall':[0.519543],\n",
        "  'AUC': [0.705453\t],\n",
        "  'M':[.768534]\n",
        "}\n",
        "pd.DataFrame(scores)"
      ]
    },
    {
      "cell_type": "code",
      "execution_count": 33,
      "metadata": {},
      "outputs": [
        {
          "data": {
            "image/png": "[encoded data removed]",
            "text/plain": [
              "<Figure size 600x500 with 1 Axes>"
            ]
          },
          "metadata": {},
          "output_type": "display_data"
        }
      ],
      "source": [
        "cm = np.array(([[148198,  18062],\n",
        "       [82493, 89204]]))\n",
        "class_names = ['Clase 0', 'Clase 1']\n",
        "plot_confusion_matrix(cm, class_names)"
      ]
    },
    {
      "cell_type": "markdown",
      "metadata": {},
      "source": [
        "Para la \"Clase 0\", el modelo predijo correctamente 148,198 casos (verdaderos negativos) y clasificó incorrectamente 18,062 casos como \"Clase 1\" (falsos positivos). Para la \"Clase 1\", se identificaron correctamente 89,204 casos (verdaderos positivos) y 82,493 fueron clasificados incorrectamente como \"Clase 0\" (falsos negativos). Las métricas principales del modelo incluyen una precisión de 0.8316, un F1-score de 0.6395, un recall de 0.5195, un AUC de 0.7055, y una métrica adicional M de 0.7685. Estas métricas sugieren que el modelo tiene un buen nivel de precisión, pero su capacidad para identificar correctamente los casos positivos (recall) es moderada, lo que indica la necesidad de mejorar la detección de verdaderos positivos."
      ]
    },
    {
      "cell_type": "markdown",
      "metadata": {},
      "source": [
        "#### $\\textit{Optimizacion Bayesiana}$"
      ]
    },
    {
      "cell_type": "code",
      "execution_count": null,
      "metadata": {},
      "outputs": [],
      "source": [
        "'''def optimize_gaussian_nb(var_smoothing):\n",
        "    gnb = GaussianNB(var_smoothing=10**var_smoothing)\n",
        "    gnb.fit(data_1.X_train, data_1.y_train)\n",
        "    y_pred = gnb.predict(data_1.X_test)\n",
        "    accuracy = accuracy_score(data_1.y_test, y_pred)\n",
        "    return accuracy\n",
        "\n",
        "bayes_optimizer = BayesianOptimization(\n",
        "    f=optimize_gaussian_nb,\n",
        "    pbounds={'var_smoothing': (-10, -1)},  random_state=42,verbose=2)\n",
        "start_time = time.time()\n",
        "bayes_optimizer.maximize(init_points=5, n_iter=20)\n",
        "print(\"Mejor valor de var_smoothing: \", 10**bayes_optimizer.max['params']['var_smoothing'])\n",
        "print(\"Mejor precisión obtenida: \", bayes_optimizer.max['target'])'''"
      ]
    },
    {
      "cell_type": "markdown",
      "metadata": {},
      "source": [
        "```\n",
        "|   iter    |  target   | var_sm... |\n",
        "-------------------------------------\n",
        "| 1         | 0.705     | -6.629    |\n",
        "| 2         | 0.5023    | -1.444    |\n",
        "| 3         | 0.6389    | -3.412    |\n",
        "| 4         | 0.7087    | -4.612    |\n",
        "| 5         | 0.7025    | -8.596    |\n",
        "| 6         | 0.7025    | -10.0     |\n",
        "| 7         | 0.7098    | -5.554    |\n",
        "| 8         | 0.7029    | -7.621    |\n",
        "| 9         | 0.7105    | -5.054    |\n",
        "| 10        | 0.7025    | -9.376    |\n",
        "| 11        | 0.7078    | -6.016    |\n",
        "| 12        | 0.7102    | -4.863    |\n",
        "| 13        | 0.7104    | -5.28     |\n",
        "| 14        | 0.7105    | -5.152    |\n",
        "| 15        | 0.7105    | -5.145    |\n",
        "| 16        | 0.7106    | -5.068    |\n",
        "| 17        | 0.7105    | -5.158    |\n",
        "| 18        | 0.7105    | -5.047    |\n",
        "| 19        | 0.7106    | -5.136    |\n",
        "| 20        | 0.7106    | -5.126    |\n",
        "| 21        | 0.7105    | -5.16     |\n",
        "| 22        | 0.7106    | -5.09     |\n",
        "| 23        | 0.7106    | -5.095    |\n",
        "| 24        | 0.7106    | -5.097    |\n",
        "| 25        | 0.7106    | -5.103    |\n",
        "=====================================\n",
        "Mejor valor de var_smoothing:  7.489734927704792e-06\n",
        "Mejor precisión obtenida:  0.710575605772332\n",
        "```"
      ]
    },
    {
      "cell_type": "code",
      "execution_count": null,
      "metadata": {},
      "outputs": [],
      "source": [
        "'''\n",
        "mejor_var_smoothing = 10**bayes_optimizer.max['params']['var_smoothing']\n",
        "mejor_modelo = GaussianNB(var_smoothing=mejor_var_smoothing)\n",
        "mejor_modelo.fit(data_1.X_train, data_1.y_train)\n",
        "y_pred_mejor = mejor_modelo.predict(data_1.X_test)\n",
        "accuracy_mejor = accuracy_score(data_1.y_test, y_pred_mejor)\n",
        "print(f\"Precisión con el mejor var_smoothing: {accuracy_mejor}\")\n",
        "print(f\"Predicciones del modelo: {y_pred_mejor}\")\n",
        "end_time = time.time()\n",
        "print(f\"Tiempo de ejecución: {end_time - start_time} segundos\")\n",
        "'''"
      ]
    },
    {
      "cell_type": "markdown",
      "metadata": {},
      "source": [
        "Precisión con el mejor var_smoothing: 0.710575605772332 \\\n",
        "Predicciones del modelo: [1 0 0 ... 0 0 1]\\\n",
        "Tiempo de ejecución: 39.60585927963257 segundos"
      ]
    },
    {
      "cell_type": "code",
      "execution_count": 48,
      "metadata": {},
      "outputs": [
        {
          "data": {
            "text/html": [
              "<div>\n",
              "<style scoped>\n",
              "    .dataframe tbody tr th:only-of-type {\n",
              "        vertical-align: middle;\n",
              "    }\n",
              "\n",
              "    .dataframe tbody tr th {\n",
              "        vertical-align: top;\n",
              "    }\n",
              "\n",
              "    .dataframe thead th {\n",
              "        text-align: right;\n",
              "    }\n",
              "</style>\n",
              "<table border=\"1\" class=\"dataframe\">\n",
              "  <thead>\n",
              "    <tr style=\"text-align: right;\">\n",
              "      <th></th>\n",
              "      <th>precission</th>\n",
              "      <th>f1_score</th>\n",
              "      <th>recall</th>\n",
              "      <th>AUC</th>\n",
              "      <th>M</th>\n",
              "    </tr>\n",
              "  </thead>\n",
              "  <tbody>\n",
              "    <tr>\n",
              "      <th>0</th>\n",
              "      <td>0.82215</td>\n",
              "      <td>0.6454</td>\n",
              "      <td>0.535743</td>\n",
              "      <td>0.733</td>\n",
              "      <td>0.7123</td>\n",
              "    </tr>\n",
              "  </tbody>\n",
              "</table>\n",
              "</div>"
            ],
            "text/plain": [
              "   precission  f1_score    recall    AUC       M\n",
              "0     0.82215    0.6454  0.535743  0.733  0.7123"
            ]
          },
          "execution_count": 48,
          "metadata": {},
          "output_type": "execute_result"
        }
      ],
      "source": [
        "scores = { 'precission':[0.82215],\n",
        " 'f1_score':[0.6454],\n",
        " 'recall':[0.535743],\n",
        "  'AUC': [0.733\t],\n",
        "  'M':[.7123]\n",
        "}\n",
        "pd.DataFrame(scores)"
      ]
    },
    {
      "cell_type": "code",
      "execution_count": 34,
      "metadata": {},
      "outputs": [
        {
          "data": {
            "image/png": "[encoded data removed]",
            "text/plain": [
              "<Figure size 600x500 with 1 Axes>"
            ]
          },
          "metadata": {},
          "output_type": "display_data"
        }
      ],
      "source": [
        "cm = np.array(([[147295,  18965],\n",
        "       [78848, 92849]]))\n",
        "class_names = ['Clase 0', 'Clase 1']\n",
        "plot_confusion_matrix(cm, class_names)"
      ]
    },
    {
      "cell_type": "markdown",
      "metadata": {},
      "source": [
        "Se ha identificado correctamente 147,295 casos de \"Clase 0\" (verdaderos negativos) y ha clasificado erróneamente 18,965 como \"Clase 1\" (falsos positivos). En cuanto a la \"Clase 1\", el modelo ha clasificado correctamente 92,849 casos (verdaderos positivos) y ha cometido 78,848 errores clasificándolos como \"Clase 0\" (falsos negativos). Las métricas del modelo reflejan una precisión de 0.8221, un F1-score de 0.6454, un recall de 0.5357, un AUC de 0.733 y una métrica M de 0.7123. Aunque el modelo tiene una buena precisión, su capacidad para recuperar todos los casos positivos (recall) es moderada, lo que indica que el modelo aún podría mejorar en la identificación de la \"Clase 1\"."
      ]
    },
    {
      "cell_type": "markdown",
      "metadata": {},
      "source": [
        "### $\\textit{Knn}$"
      ]
    },
    {
      "cell_type": "markdown",
      "metadata": {},
      "source": [
        "#### $\\textit{Pipeline y GridsearchCV}$"
      ]
    },
    {
      "cell_type": "code",
      "execution_count": null,
      "metadata": {},
      "outputs": [],
      "source": [
        "'''\n",
        "start_time = time.time()\n",
        "param_grid = {\n",
        "    'classifier__n_neighbors': [i for i in range(1,20)]}\n",
        "pipe = Pipeline([ ('scaler', StandardScaler()),  \n",
        "        ('classifier', KNeighborsClassifier())])\n",
        "grid_knn = GridSearchCV(pipe, param_grid, cv=5, scoring='accuracy', n_jobs=-1)\n",
        "grid_knn.fit(data_1.X_train, data_1.y_train)\n",
        "end_time = time.time()\n",
        "print(f\"Tiempo de ejecución: {end_time - start_time} segundos\")\n",
        "y_pred = grid_knn.predict(data_1.X_test)\n",
        "dix['knn'] = y_pred\n",
        "print(f\"Accuracy del mejor modelo en el conjunto de prueba: {accuracy_score(data_1.y_test, y_pred)}\")\n",
        "\n",
        "'''"
      ]
    },
    {
      "cell_type": "markdown",
      "metadata": {},
      "source": [
        "Tiempo de ejecución: 477.20 segundos \\\n",
        "Accuracy del mejor modelo en el conjunto de prueba: 0.8347008643111402"
      ]
    },
    {
      "cell_type": "code",
      "execution_count": 35,
      "metadata": {},
      "outputs": [
        {
          "data": {
            "text/html": [
              "<div>\n",
              "<style scoped>\n",
              "    .dataframe tbody tr th:only-of-type {\n",
              "        vertical-align: middle;\n",
              "    }\n",
              "\n",
              "    .dataframe tbody tr th {\n",
              "        vertical-align: top;\n",
              "    }\n",
              "\n",
              "    .dataframe thead th {\n",
              "        text-align: right;\n",
              "    }\n",
              "</style>\n",
              "<table border=\"1\" class=\"dataframe\">\n",
              "  <thead>\n",
              "    <tr style=\"text-align: right;\">\n",
              "      <th></th>\n",
              "      <th>precission</th>\n",
              "      <th>f1_score</th>\n",
              "      <th>recall</th>\n",
              "      <th>AUC</th>\n",
              "      <th>M</th>\n",
              "    </tr>\n",
              "  </thead>\n",
              "  <tbody>\n",
              "    <tr>\n",
              "      <th>0</th>\n",
              "      <td>0.805</td>\n",
              "      <td>0.845</td>\n",
              "      <td>0.8901</td>\n",
              "      <td>0.8337</td>\n",
              "      <td>0.81943</td>\n",
              "    </tr>\n",
              "  </tbody>\n",
              "</table>\n",
              "</div>"
            ],
            "text/plain": [
              "   precission  f1_score  recall     AUC        M\n",
              "0       0.805     0.845  0.8901  0.8337  0.81943"
            ]
          },
          "execution_count": 35,
          "metadata": {},
          "output_type": "execute_result"
        }
      ],
      "source": [
        "scores = { 'precission':[0.8050],\n",
        " 'f1_score':[0.845],\n",
        " 'recall':[0.8901],\n",
        "  'AUC': [0.8337],\n",
        "  'M':[0.81943]\n",
        "}\n",
        "pd.DataFrame(scores)"
      ]
    },
    {
      "cell_type": "code",
      "execution_count": 36,
      "metadata": {},
      "outputs": [
        {
          "data": {
            "image/png": "[encoded data removed]",
            "text/plain": [
              "<Figure size 600x500 with 1 Axes>"
            ]
          },
          "metadata": {},
          "output_type": "display_data"
        }
      ],
      "source": [
        "cm = np.array(([[129256,  37004],\n",
        "       [18860, 152837]]))\n",
        "class_names = ['Clase 0', 'Clase 1']\n",
        "plot_confusion_matrix(cm, class_names)"
      ]
    },
    {
      "cell_type": "markdown",
      "metadata": {},
      "source": [
        "El modelo ha identificado correctamente 129,256 casos de la \"Clase 0\" (verdaderos negativos) y ha clasificado incorrectamente 37,004 casos como \"Clase 1\" (falsos positivos). Para la \"Clase 1\", el modelo ha clasificado correctamente 152,837 casos (verdaderos positivos), y ha cometido 18,860 errores clasificándolos como \"Clase 0\" (falsos negativos). Las métricas asociadas reflejan una precisión de 0.805, un F1-score de 0.845, un recall de 0.8901, un AUC de 0.8337, y una métrica M de 0.8194. Estas métricas sugieren un modelo con buen rendimiento general, especialmente en la identificación de la \"Clase 1\" (recall alto), lo que indica que el modelo es efectivo para detectar la clase positiva, aunque todavía comete algunos errores en la identificación de la \"Clase 0\"."
      ]
    },
    {
      "cell_type": "markdown",
      "metadata": {},
      "source": [
        "#### $\\textit{Optimizacion Bayesiana}$"
      ]
    },
    {
      "cell_type": "code",
      "execution_count": null,
      "metadata": {},
      "outputs": [],
      "source": [
        "'''\n",
        "\n",
        "def optimize_knn(n_neighbors):\n",
        "    knn = KNeighborsClassifier(n_neighbors=int(n_neighbors))\n",
        "    knn.fit(data_1.X_train, data_1.y_train)\n",
        "    y_pred = knn.predict(data_1.X_test)\n",
        "    accuracy = accuracy_score(data_1.y_test, y_pred)\n",
        "    return accuracy\n",
        "knn_optimizer = BayesianOptimization(\n",
        "    f=optimize_knn,\n",
        "    pbounds={'n_neighbors': (1, 20)},  \n",
        "    random_state=42,\n",
        "    verbose=2)\n",
        "start_time = time.time()\n",
        "knn_optimizer.maximize(init_points=5, n_iter=20)\n",
        "\n",
        "print(\"Mejor valor de n_neighbors: \", int(knn_optimizer.max['params']['n_neighbors']))\n",
        "print(\"Mejor precisión obtenida: \", knn_optimizer.max['target'])\n",
        "'''"
      ]
    },
    {
      "cell_type": "markdown",
      "metadata": {},
      "source": [
        "\n",
        "```\n",
        "|   iter    |  target   | n_neig... |\n",
        "-------------------------------------\n",
        "| 1         | 0.8249    | 8.116     |\n",
        "| 2         | 0.8242    | 19.06     |\n",
        "| 3         | 0.8256    | 14.91     |\n",
        "| 4         | 0.8258    | 12.37     |\n",
        "| 5         | 0.8294    | 3.964     |\n",
        "| 6         | 0.8294    | 3.176     |\n",
        "| 7         | 0.8352    | 1.003     |\n",
        "| 8         | 0.8352    | 1.544     |\n",
        "| 9         | 0.828     | 5.783     |\n",
        "| 10        | 0.8352    | 1.274     |\n",
        "| 11        | 0.8352    | 1.866     |\n",
        "| 12        | 0.8258    | 10.32     |\n",
        "| 13        | 0.8352    | 1.73      |\n",
        "| 14        | 0.8252    | 16.89     |\n",
        "| 15        | 0.8352    | 1.119     |\n",
        "| 16        | 0.8352    | 1.413     |\n",
        "| 17        | 0.8022    | 2.001     |\n",
        "| 18        | 0.828     | 5.376     |\n",
        "| 19        | 0.8352    | 1.802     |\n",
        "| 20        | 0.8352    | 1.274     |\n",
        "| 21        | 0.8352    | 1.635     |\n",
        "| 22        | 0.8254    | 13.63     |\n",
        "| 23        | 0.82      | 4.381     |\n",
        "| 24        | 0.8294    | 3.703     |\n",
        "| 25        | 0.8294    | 3.438     |\n",
        "=====================================\n",
        "Mejor valor de n_neighbors:  1\n",
        "Mejor precisión obtenida:  0.8352453122734549\n",
        "```\n"
      ]
    },
    {
      "cell_type": "code",
      "execution_count": null,
      "metadata": {},
      "outputs": [],
      "source": [
        "'''mejor_n = int(knn_optimizer.max['params']['n_neighbors'])\n",
        "mejor_modelo =  KNeighborsClassifier(n_neighbors=int(mejor_n))\n",
        "mejor_modelo.fit(data_1.X_train, data_1.y_train)\n",
        "y_pred_mejor_knn = mejor_modelo.predict(data_1.X_test)\n",
        "accuracy_mejor = accuracy_score(data_1.y_test, y_pred_mejor_knn )\n",
        "print(f\"Precisión con el mejor n: {accuracy_mejor}\")\n",
        "print(f\"Predicciones del modelo: {y_pred_mejor_knn }\")\n",
        "end_time = time.time()\n",
        "print(f\"Tiempo de ejecución: {end_time - start_time} segundos\")'''\n"
      ]
    },
    {
      "cell_type": "markdown",
      "metadata": {},
      "source": [
        "Precisión con el mejor n: 0.8352453122734549 \\\n",
        "Predicciones del modelo: [1 1 0 ... 1 0 1] \\\n",
        "Tiempo de ejecución: 1148.0673167705536 segundos \\"
      ]
    },
    {
      "cell_type": "code",
      "execution_count": 38,
      "metadata": {},
      "outputs": [
        {
          "data": {
            "text/html": [
              "<div>\n",
              "<style scoped>\n",
              "    .dataframe tbody tr th:only-of-type {\n",
              "        vertical-align: middle;\n",
              "    }\n",
              "\n",
              "    .dataframe tbody tr th {\n",
              "        vertical-align: top;\n",
              "    }\n",
              "\n",
              "    .dataframe thead th {\n",
              "        text-align: right;\n",
              "    }\n",
              "</style>\n",
              "<table border=\"1\" class=\"dataframe\">\n",
              "  <thead>\n",
              "    <tr style=\"text-align: right;\">\n",
              "      <th></th>\n",
              "      <th>precission</th>\n",
              "      <th>f1_score</th>\n",
              "      <th>recall</th>\n",
              "      <th>AUC</th>\n",
              "      <th>M</th>\n",
              "    </tr>\n",
              "  </thead>\n",
              "  <tbody>\n",
              "    <tr>\n",
              "      <th>0</th>\n",
              "      <td>0.8055</td>\n",
              "      <td>0.845</td>\n",
              "      <td>0.89</td>\n",
              "      <td>0.834</td>\n",
              "      <td>0.8199</td>\n",
              "    </tr>\n",
              "  </tbody>\n",
              "</table>\n",
              "</div>"
            ],
            "text/plain": [
              "   precission  f1_score  recall    AUC       M\n",
              "0      0.8055     0.845    0.89  0.834  0.8199"
            ]
          },
          "execution_count": 38,
          "metadata": {},
          "output_type": "execute_result"
        }
      ],
      "source": [
        "scores = { 'precission':[0.8055],\n",
        " 'f1_score':[0.845],\n",
        " 'recall':[0.890],\n",
        "  'AUC': [0.834],\n",
        "  'M':[0.8199]\n",
        "}\n",
        "(pd.DataFrame(scores))"
      ]
    },
    {
      "cell_type": "code",
      "execution_count": 39,
      "metadata": {},
      "outputs": [
        {
          "data": {
            "image/png": "[encoded data removed]",
            "text/plain": [
              "<Figure size 600x500 with 1 Axes>"
            ]
          },
          "metadata": {},
          "output_type": "display_data"
        }
      ],
      "source": [
        "cm = np.array(([[129352,  36908],\n",
        "       [18772, 152925]]))\n",
        "class_names = ['Clase 0', 'Clase 1']\n",
        "plot_confusion_matrix(cm, class_names)"
      ]
    },
    {
      "cell_type": "markdown",
      "metadata": {},
      "source": [
        "La clasificacion fue hecha correctamente 129,352 casos de la \"Clase 0\" (verdaderos negativos) y ha cometido 36,908 errores clasificando falsamente como \"Clase 1\" (falsos positivos). En la \"Clase 1\", el modelo ha identificado correctamente 152,925 casos (verdaderos positivos), mientras que 18,772 fueron clasificados incorrectamente como \"Clase 0\" (falsos negativos). Las métricas indican un buen rendimiento, con una precisión de 0.8055, un F1-score de 0.845, un recall de 0.89, un AUC de 0.834, y una métrica M de 0.8199. Estas cifras demuestran un balance adecuado en la identificación tanto de verdaderos positivos como de verdaderos negativos, con un fuerte rendimiento en la detección de la \"Clase 1\". Sin embargo, hay un número considerable de falsos positivos que podrían mejorarse para optimizar el rendimiento general."
      ]
    },
    {
      "cell_type": "markdown",
      "metadata": {},
      "source": [
        "### $\\textit{Logistic}$"
      ]
    },
    {
      "cell_type": "markdown",
      "metadata": {},
      "source": [
        "#### $\\textit{Pipeline y GridsearchCV}$"
      ]
    },
    {
      "cell_type": "code",
      "execution_count": null,
      "metadata": {},
      "outputs": [],
      "source": [
        "'''pipeline = Pipeline([\n",
        "    ('scaler', StandardScaler()),  \n",
        "    ('logreg', LogisticRegression(penalty='elasticnet', solver='saga', max_iter=50))  \n",
        "])\n",
        "param_grid = {\n",
        "    'logreg__C': [0.01, 0.1, 1, 10],        \n",
        "    'logreg__l1_ratio': [0.1, 0.5, 0.7, 0.9]  \n",
        "}\n",
        "grid_log = GridSearchCV(pipeline, param_grid, cv=5, scoring='accuracy', n_jobs=-1)\n",
        "grid_log.fit(data_1.X_train, data_1.y_train)\n",
        "best_model =grid_log.best_estimator_\n",
        "y_pred = best_model.predict(data_1.X_test)\n",
        "accuracy = accuracy_score(data_1.y_test, y_pred)\n",
        "dix['log'] = list(y_pred)\n",
        "print(f\"Mejor precisión: {accuracy}\")\n",
        "print(f\"Mejores hiperparámetros: {grid_log.best_params_}\")'''"
      ]
    },
    {
      "cell_type": "markdown",
      "metadata": {},
      "source": [
        "Mejor precisión: 0.8344 \\\n",
        "Mejores hiperparámetros: {'logreg__C': 0.01, 'logreg__l1_ratio': 0.7}"
      ]
    },
    {
      "cell_type": "code",
      "execution_count": 40,
      "metadata": {},
      "outputs": [
        {
          "data": {
            "text/html": [
              "<div>\n",
              "<style scoped>\n",
              "    .dataframe tbody tr th:only-of-type {\n",
              "        vertical-align: middle;\n",
              "    }\n",
              "\n",
              "    .dataframe tbody tr th {\n",
              "        vertical-align: top;\n",
              "    }\n",
              "\n",
              "    .dataframe thead th {\n",
              "        text-align: right;\n",
              "    }\n",
              "</style>\n",
              "<table border=\"1\" class=\"dataframe\">\n",
              "  <thead>\n",
              "    <tr style=\"text-align: right;\">\n",
              "      <th></th>\n",
              "      <th>precission</th>\n",
              "      <th>f1_score</th>\n",
              "      <th>recall</th>\n",
              "      <th>AUC</th>\n",
              "      <th>M</th>\n",
              "    </tr>\n",
              "  </thead>\n",
              "  <tbody>\n",
              "    <tr>\n",
              "      <th>0</th>\n",
              "      <td>0.819903</td>\n",
              "      <td>0.84136</td>\n",
              "      <td>0.86397</td>\n",
              "      <td>0.833994</td>\n",
              "      <td>0.826949</td>\n",
              "    </tr>\n",
              "  </tbody>\n",
              "</table>\n",
              "</div>"
            ],
            "text/plain": [
              "   precission  f1_score   recall       AUC         M\n",
              "0    0.819903   0.84136  0.86397  0.833994  0.826949"
            ]
          },
          "execution_count": 40,
          "metadata": {},
          "output_type": "execute_result"
        }
      ],
      "source": [
        "pd.DataFrame({'precission': [0.8199032748376399], 'f1_score': [0.8413598697755671], 'recall': [0.8639696674956464], 'AUC': [0.8339937354680205], 'M': [0.8269485051528302]})"
      ]
    },
    {
      "cell_type": "code",
      "execution_count": 41,
      "metadata": {},
      "outputs": [
        {
          "data": {
            "image/png": "[encoded data removed]",
            "text/plain": [
              "<Figure size 600x500 with 1 Axes>"
            ]
          },
          "metadata": {},
          "output_type": "display_data"
        }
      ],
      "source": [
        "cm = np.array(([[133676,  32584],\n",
        "       [23356, 148341]]))\n",
        "class_names = ['Clase 0', 'Clase 1']\n",
        "plot_confusion_matrix(cm, class_names)"
      ]
    },
    {
      "cell_type": "markdown",
      "metadata": {},
      "source": [
        "En esta matriz de confusión, el modelo ha clasificado correctamente 133,676 casos de la \"Clase 0\" (verdaderos negativos) y ha cometido 32,584 errores clasificándolos incorrectamente como \"Clase 1\" (falsos positivos). Para la \"Clase 1\", el modelo ha identificado correctamente 148,341 casos (verdaderos positivos), mientras que 23,356 fueron clasificados erróneamente como \"Clase 0\" (falsos negativos). Las métricas asociadas muestran una precisión de 0.8199, un F1-score de 0.8414, un recall de 0.8639, un AUC de 0.834, y una métrica M de 0.8269. Estos resultados sugieren que el modelo tiene un buen rendimiento general, especialmente en la detección de la \"Clase 1\" (alto recall), lo que indica que está capturando la mayoría de los casos positivos correctamente, aunque todavía hay margen para mejorar en la reducción de los falsos positivos."
      ]
    },
    {
      "cell_type": "markdown",
      "metadata": {},
      "source": [
        "#### $\\textit{Optimizacion Bayesiana}$"
      ]
    },
    {
      "cell_type": "code",
      "execution_count": null,
      "metadata": {},
      "outputs": [],
      "source": [
        "'''\n",
        "def optimize_logistic_regression(C, l1_ratio):\n",
        "    log = LogisticRegression(penalty='elasticnet', solver='saga', max_iter=50, C=10**C, l1_ratio=l1_ratio)\n",
        "    log.fit(data_1.X_train, data_1.y_train)\n",
        "    y_pred = log.predict(data_1.X_test)\n",
        "    accuracy = accuracy_score(data_1.y_test, y_pred)\n",
        "    return accuracy\n",
        "pbounds = {'C': (-3, 2), 'l1_ratio': (0, 1)}\n",
        "bayes_optimizer = BayesianOptimization(f=optimize_logistic_regression, pbounds=pbounds, random_state=42, verbose=2)\n",
        "start_time = time.time()\n",
        "bayes_optimizer.maximize(init_points=5, n_iter=20)\n",
        "print(\"Mejor valor de C: \", 10**bayes_optimizer.max['params']['C'])\n",
        "print(\"Mejor valor de l1_ratio: \", bayes_optimizer.max['params']['l1_ratio'])\n",
        "print(\"Mejor precisión obtenida: \", bayes_optimizer.max['target'])\n",
        "\n",
        "mejor_C = 10**bayes_optimizer.max['params']['C']\n",
        "mejor_l1 = float(bayes_optimizer.max['params']['l1_ratio'])\n",
        "mejor_modelo = LogisticRegression(penalty='elasticnet', solver='saga', max_iter=50, C=mejor_C, l1_ratio=mejor_l1)\n",
        "mejor_modelo.fit(data_1.X_train, data_1.y_train)\n",
        "\n",
        "# Hacer predicciones con el conjunto de prueba\n",
        "y_pred_mejor_logreg = mejor_modelo.predict(data_1.X_test)\n",
        "# Calcular la precisión\n",
        "accuracy_mejor = accuracy_score(data_1.y_test, y_pred_mejor_logreg)\n",
        "print(f\"Precisión con el mejor C y l1_ratio: {accuracy_mejor}\")\n",
        "print(f\"Predicciones del modelo: {y_pred_mejor_logreg}\")\n",
        "\n",
        "print(f\"Tiempo de ejecución: {end_time - start_time} segundos\")\n",
        "\n",
        "'''"
      ]
    },
    {
      "cell_type": "markdown",
      "metadata": {},
      "source": [
        "Precisión con el mejor C y l1_ratio: 0.796 \\\n",
        "Predicciones del modelo: [1 1 0 ... 1 0 1] \\\n",
        "Tiempo de ejecución: 1148.0673167705536 segundos \\"
      ]
    },
    {
      "cell_type": "code",
      "execution_count": 42,
      "metadata": {},
      "outputs": [
        {
          "data": {
            "text/html": [
              "<div>\n",
              "<style scoped>\n",
              "    .dataframe tbody tr th:only-of-type {\n",
              "        vertical-align: middle;\n",
              "    }\n",
              "\n",
              "    .dataframe tbody tr th {\n",
              "        vertical-align: top;\n",
              "    }\n",
              "\n",
              "    .dataframe thead th {\n",
              "        text-align: right;\n",
              "    }\n",
              "</style>\n",
              "<table border=\"1\" class=\"dataframe\">\n",
              "  <thead>\n",
              "    <tr style=\"text-align: right;\">\n",
              "      <th></th>\n",
              "      <th>precision</th>\n",
              "      <th>f1_score</th>\n",
              "      <th>recall</th>\n",
              "      <th>AUC</th>\n",
              "      <th>M</th>\n",
              "    </tr>\n",
              "  </thead>\n",
              "  <tbody>\n",
              "    <tr>\n",
              "      <th>0</th>\n",
              "      <td>0.787193</td>\n",
              "      <td>0.80384</td>\n",
              "      <td>0.8212</td>\n",
              "      <td>0.7959</td>\n",
              "      <td>0.7915</td>\n",
              "    </tr>\n",
              "  </tbody>\n",
              "</table>\n",
              "</div>"
            ],
            "text/plain": [
              "   precision  f1_score  recall     AUC       M\n",
              "0   0.787193   0.80384  0.8212  0.7959  0.7915"
            ]
          },
          "execution_count": 42,
          "metadata": {},
          "output_type": "execute_result"
        }
      ],
      "source": [
        "pd.DataFrame({\n",
        "    'precision': [ 0.787193],\n",
        "    'f1_score': [0.80384],\n",
        "    'recall': [0.8212],\n",
        "    'AUC': [.7959],\n",
        "    'M': [ 0.7915]\n",
        "})"
      ]
    },
    {
      "cell_type": "code",
      "execution_count": 43,
      "metadata": {},
      "outputs": [
        {
          "data": {
            "image/png": "[encoded data removed]",
            "text/plain": [
              "<Figure size 600x500 with 1 Axes>"
            ]
          },
          "metadata": {},
          "output_type": "display_data"
        }
      ],
      "source": [
        "cm = np.array(([[128142,  38118],\n",
        "       [30695, 141002]]))\n",
        "class_names = ['Clase 0', 'Clase 1']\n",
        "plot_confusion_matrix(cm, class_names)"
      ]
    },
    {
      "cell_type": "markdown",
      "metadata": {},
      "source": [
        "El modelo ha clasificado correctamente 128,142 casos de la \"Clase 0\" (verdaderos negativos) y ha cometido 38,118 errores al clasificarlos incorrectamente como \"Clase 1\" (falsos positivos). Para la \"Clase 1\", el modelo ha identificado correctamente 141,002 casos (verdaderos positivos), mientras que 30,695 fueron clasificados erróneamente como \"Clase 0\" (falsos negativos). Las métricas muestran una precisión de 0.7872, un F1-score de 0.8038, un recall de 0.8212, un AUC de 0.7959, y una métrica M de 0.7915. Estos resultados indican que el modelo tiene un rendimiento aceptable en la identificación de ambas clases, aunque aún existen errores notables en la clasificación de la \"Clase 0\""
      ]
    },
    {
      "cell_type": "code",
      "execution_count": 55,
      "metadata": {},
      "outputs": [
        {
          "data": {
            "text/html": [
              "<div>\n",
              "<style scoped>\n",
              "    .dataframe tbody tr th:only-of-type {\n",
              "        vertical-align: middle;\n",
              "    }\n",
              "\n",
              "    .dataframe tbody tr th {\n",
              "        vertical-align: top;\n",
              "    }\n",
              "\n",
              "    .dataframe thead th {\n",
              "        text-align: right;\n",
              "    }\n",
              "</style>\n",
              "<table border=\"1\" class=\"dataframe\">\n",
              "  <thead>\n",
              "    <tr style=\"text-align: right;\">\n",
              "      <th></th>\n",
              "      <th></th>\n",
              "      <th>precision</th>\n",
              "      <th>f1_score</th>\n",
              "      <th>recall</th>\n",
              "      <th>AUC</th>\n",
              "      <th>M</th>\n",
              "    </tr>\n",
              "  </thead>\n",
              "  <tbody>\n",
              "    <tr>\n",
              "      <th>0</th>\n",
              "      <td>Clasificasión Bayesiana</td>\n",
              "      <td>0.8316</td>\n",
              "      <td>0.6395</td>\n",
              "      <td>0.5195</td>\n",
              "      <td>0.7055</td>\n",
              "      <td>0.7685</td>\n",
              "    </tr>\n",
              "    <tr>\n",
              "      <th>1</th>\n",
              "      <td>K-NN</td>\n",
              "      <td>0.8055</td>\n",
              "      <td>0.8450</td>\n",
              "      <td>0.8900</td>\n",
              "      <td>0.8340</td>\n",
              "      <td>0.8199</td>\n",
              "    </tr>\n",
              "    <tr>\n",
              "      <th>2</th>\n",
              "      <td>L1/L2 Penalty Logistic Regression</td>\n",
              "      <td>0.8199</td>\n",
              "      <td>0.8414</td>\n",
              "      <td>0.8639</td>\n",
              "      <td>0.8340</td>\n",
              "      <td>0.8269</td>\n",
              "    </tr>\n",
              "  </tbody>\n",
              "</table>\n",
              "</div>"
            ],
            "text/plain": [
              "                                      precision  f1_score  recall     AUC  \\\n",
              "0            Clasificasión Bayesiana     0.8316    0.6395  0.5195  0.7055   \n",
              "1                               K-NN     0.8055    0.8450  0.8900  0.8340   \n",
              "2  L1/L2 Penalty Logistic Regression     0.8199    0.8414  0.8639  0.8340   \n",
              "\n",
              "        M  \n",
              "0  0.7685  \n",
              "1  0.8199  \n",
              "2  0.8269  "
            ]
          },
          "execution_count": 55,
          "metadata": {},
          "output_type": "execute_result"
        }
      ],
      "source": [
        "data = {\n",
        "    \"\": ['Clasificasión Bayesiana','K-NN','L1/L2 Penalty Logistic Regression'],\n",
        "    \"precision\": [0.8316, 0.8055, 0.8199],\n",
        "    \"f1_score\": [0.6395, 0.845, 0.8414],\n",
        "    \"recall\": [0.5195, 0.89, 0.8639],\n",
        "    \"AUC\": [0.7055, 0.834, 0.834],\n",
        "    \"M\": [0.7685, 0.8199, 0.8269]\n",
        "}\n",
        "pd.DataFrame(data)"
      ]
    },
    {
      "cell_type": "markdown",
      "metadata": {},
      "source": [
        "## $\\textit{Conclusiones}$\n",
        "\n",
        "+ $$\\textbf{\\textit{Computo}}$$ \n",
        "\n",
        "En términos de cómputo, los tiempos de ejecución fueron prácticamente los mismos tanto para los modelos entrenados sin la técnica de sobremuestreo ADASYN como para los que se entrenaron con ella. Esto sugiere que la inclusión de ADASYN en el proceso no impuso una sobrecarga significativa en el tiempo total de cómputo. De este modo, la aplicación de ADASYN mejora el balance de clases sin comprometer la eficiencia del entrenamiento de los modelos, lo que es beneficioso para casos donde el tiempo es una variable importante.\n",
        "+ $$\\textbf{\\textit{Metricas}}$$ \n",
        "\n",
        "\n",
        "La tabla de métricas sin el balanceo ADASYN: \n",
        "\n",
        "| Modelo                            | precision | f1_score | recall  | AUC    | M      |\n",
        "|-----------------------------------|-----------|----------|---------|--------|--------|\n",
        "| Clasificación Bayesiana            | 0.683602  | 0.665402 | 0.648146| 0.774316| 0.728959 |\n",
        "| K-NN                              | 0.751872  | 0.683592 | 0.626681| 0.778492| 0.765182 |\n",
        "| L1/L2 Penalty Logistic Regression  | 0.756754  | 0.682819 | 0.622045| 0.777858| 0.767306 |\n",
        "\n",
        "La tabla de métricas con el balanceo ADASYN: \n",
        "\n",
        "| Modelo                            | precision | f1_score | recall | AUC   | M      |\n",
        "|-----------------------------------|-----------|----------|--------|-------|--------|\n",
        "| Clasificación Bayesiana            | 0.8316    | 0.6395   | 0.5195 | 0.7055| 0.7685 |\n",
        "| K-NN                              | 0.8055    | 0.8450   | 0.8900 | 0.8340| 0.8199 |\n",
        "| L1/L2 Penalty Logistic Regression  | 0.8199    | 0.8414   | 0.8639 | 0.8340| 0.8269 |\n",
        "\n",
        "Resultados curvas ROC sin el método de balanceo ADASYN:\n",
        "\n",
        "\\\n",
        "![](curvas_2.png)\n",
        "\n",
        "\\\n",
        "Resultados curvas ROC con el metodo de balanceo ADASYN \n",
        "\n",
        "![](curvas_1.png)\n",
        "\n",
        "\\\n",
        "En la comparación de las métricas sin el balanceo ADASYN frente a los resultados con ADASYN, se puede observar que el balanceo de clases mejora la capacidad de los modelos para identificar correctamente los casos positivos. Sin ADASYN, las métricas de precisión y F1-score son más bajas en comparación con los resultados obtenidos al aplicar ADASYN, especialmente en el modelo K-NN, que muestra una mejora notable en el recall, pasando de 0.6267 a 0.8900. En cuanto a la regresión logística, el F1-score y el recall también mejoran con ADASYN, lo que indica que el modelo es más equilibrado en la detección de ambas clases tras aplicar esta técnica de sobremuestreo.\n",
        "\n",
        "En las curvas ROC, el área bajo la curva (AUC) mejora levemente para K-NN y la regresión logística cuando se aplica ADASYN, manteniendo un valor similar alrededor de 0.83. Sin embargo, para el modelo Gaussiano, aunque el AUC disminuye ligeramente de 0.77 a 0.71 con ADASYN, los otros dos modelos se benefician claramente de la técnica, mostrando una mejor capacidad predictiva general. Estos resultados destacan que ADASYN puede ser una herramienta efectiva para mejorar el rendimiento en modelos con datos desbalanceados, especialmente en la detección de la clase positiva sin un impacto significativo en el tiempo de cómputo."
      ]
    },
    {
      "cell_type": "code",
      "execution_count": null,
      "metadata": {},
      "outputs": [],
      "source": []
    }
  ],
  "metadata": {
    "accelerator": "TPU",
    "colab": {
      "gpuType": "V28",
      "provenance": []
    },
    "kernelspec": {
      "display_name": "Python 3",
      "name": "python3"
    },
    "language_info": {
      "codemirror_mode": {
        "name": "ipython",
        "version": 3
      },
      "file_extension": ".py",
      "mimetype": "text/x-python",
      "name": "python",
      "nbconvert_exporter": "python",
      "pygments_lexer": "ipython3",
      "version": "3.9.17"
    }
  },
  "nbformat": 4,
  "nbformat_minor": 0
}
